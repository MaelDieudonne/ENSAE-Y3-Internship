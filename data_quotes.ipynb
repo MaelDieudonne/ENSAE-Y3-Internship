{
 "cells": [
  {
   "cell_type": "code",
   "execution_count": null,
   "id": "1c7ca1f9-aecc-417a-a7bc-146649bbca64",
   "metadata": {},
   "outputs": [],
   "source": [
    "import s3fs"
   ]
  },
  {
   "cell_type": "markdown",
   "id": "9d863647-c0d9-44b6-accd-8bc47131513d",
   "metadata": {},
   "source": [
    "Hello Mael,\n",
    "\n",
    "Voici les 3 fichiers dont on a discuté:\n",
    "- quotes_pol_notext nouvelle extraction des quotes. Les colonnes \"span\" indiquent la position dans le texte.\n",
    "- articles_notext: metadonnées des articles. L'index dans ce fichier se matche avec les identifients \"text_id\" dans le fichier des quotes\n",
    "- parties_annotated: la colonne à regarder est la première, \"alignement_politique\". les ids des partis sont les noms de leurs pages wikipedia.\n",
    "\n",
    "Des fois il n'y a pas une page wikipedia associée au parti: dans ce cas, j'ai soit indiqué le nom du parti tout court, soit fait reference à la page wikipedia la plus proche (souvent page d'une personnalité politique)\n",
    "\n",
    "N'hesite pas si t'as des questions!\n",
    "\n",
    "Bonne soirée,\n",
    "\n",
    "Emma "
   ]
  },
  {
   "cell_type": "code",
   "execution_count": null,
   "id": "e79e2d78-5aca-49bf-8e06-b405f6650d71",
   "metadata": {},
   "outputs": [],
   "source": [
    "S3_ENDPOINT_URL = 'https://' + os.environ['AWS_S3_ENDPOINT']\n",
    "fs = s3fs.S3FileSystem(client_kwargs={'endpoint_url': S3_ENDPOINT_URL})\n",
    "FILE_PATH_S3 = 'mdieudonne-ensae/stage/quotes_top500_ap_notext_cleanlemmas_1.h5'\n",
    "\n",
    "with fs.open(FILE_PATH_S3, mode=\"rb\") as s3_file:\n",
    "    with open(\"data/quotes.h5\", \"wb\") as local_file:\n",
    "        local_file.write(s3_file.read())"
   ]
  }
 ],
 "metadata": {
  "kernelspec": {
   "display_name": "Python 3 (ipykernel)",
   "language": "python",
   "name": "python3"
  },
  "language_info": {
   "codemirror_mode": {
    "name": "ipython",
    "version": 3
   },
   "file_extension": ".py",
   "mimetype": "text/x-python",
   "name": "python",
   "nbconvert_exporter": "python",
   "pygments_lexer": "ipython3",
   "version": "3.12.9"
  }
 },
 "nbformat": 4,
 "nbformat_minor": 5
}
