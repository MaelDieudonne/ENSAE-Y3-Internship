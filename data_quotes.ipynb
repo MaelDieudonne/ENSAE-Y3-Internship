{
 "cells": [
  {
   "cell_type": "code",
   "execution_count": null,
   "id": "1c7ca1f9-aecc-417a-a7bc-146649bbca64",
   "metadata": {},
   "outputs": [],
   "source": [
    "import s3fs\n",
    "import os"
   ]
  },
  {
   "cell_type": "code",
   "execution_count": null,
   "id": "56ebe5a6-d6da-43fe-b81d-bf5ba95b0b1d",
   "metadata": {},
   "outputs": [],
   "source": [
    "S3_ENDPOINT_URL = 'https://' + os.environ['AWS_S3_ENDPOINT']\n",
    "S3_DIR = 'mdieudonne-ensae/stage/'\n",
    "fs = s3fs.S3FileSystem(client_kwargs={'endpoint_url': S3_ENDPOINT_URL})\n",
    "\n",
    "os.makedirs('data/quotes', exist_ok=True)"
   ]
  },
  {
   "cell_type": "code",
   "execution_count": null,
   "id": "1ffb73e5-67cf-4b6a-b131-636969bf0c13",
   "metadata": {},
   "outputs": [],
   "source": [
    "files = fs.ls(S3_DIR)\n",
    "\n",
    "for file in files:\n",
    "    if file.endswith(('.csv', '.parquet')):\n",
    "        local_filename = os.path.join('data/quotes', os.path.basename(file))\n",
    "        print(f\"Downloading {file}...\")\n",
    "\n",
    "        with fs.open(file, mode=\"rb\") as s3_file:\n",
    "            with open(local_filename, \"wb\") as local_file:\n",
    "                local_file.write(s3_file.read())\n",
    "\n",
    "print(\"Done\")"
   ]
  }
 ],
 "metadata": {
  "kernelspec": {
   "display_name": "Python 3 (ipykernel)",
   "language": "python",
   "name": "python3"
  },
  "language_info": {
   "codemirror_mode": {
    "name": "ipython",
    "version": 3
   },
   "file_extension": ".py",
   "mimetype": "text/x-python",
   "name": "python",
   "nbconvert_exporter": "python",
   "pygments_lexer": "ipython3",
   "version": "3.12.9"
  }
 },
 "nbformat": 4,
 "nbformat_minor": 5
}
