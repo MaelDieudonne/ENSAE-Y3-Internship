{
 "cells": [
  {
   "cell_type": "code",
   "execution_count": 1,
   "id": "f71f01ac-0bed-4316-a938-35e7f77a7c86",
   "metadata": {},
   "outputs": [],
   "source": [
    "import pandas as pd\n",
    "import statsmodels.api as sm\n",
    "\n",
    "from datetime import datetime\n",
    "from sklearn.metrics import r2_score, explained_variance_score"
   ]
  },
  {
   "cell_type": "code",
   "execution_count": 15,
   "id": "255ee3ce-535a-4db2-af52-ffac183b40ce",
   "metadata": {},
   "outputs": [],
   "source": [
    "model_data = pd.read_parquet(\"data/model_data.parquet\")\n",
    "model_data = model_data[model_data['alignement_politique'] != 'autre']"
   ]
  },
  {
   "cell_type": "markdown",
   "id": "19286d8c-266a-4051-9a42-6c091cfd53aa",
   "metadata": {},
   "source": [
    "Approche économétrique négative : on étudie l'écart des comportements réels à des comportements théoriques.\n",
    "En l'occurrence à des normes encadrant les pratiques journalistes.\n",
    "La méthode ici consiste à modéliser ces normes, puis à évaluer dans quelle mesure elles permettent de prédire les comportements réels, et à observer comment ces derniers s'en écartent. \n",
    "On s'intéresse aux R2 et aux résidus.\n",
    "\n",
    "Dans l'idéal, les normes doivent être parfaitement connues.\n",
    "Exemple de la règle des tiers, les articles se répartissent au tiers entre le gouvernement, la majorité et l'opposition.\n",
    "Mais d'application délicate car elle concerne des unités fluctuant au cours du temps (les partis qui gouvernent, les partis qui soutiennent le gouvernement sans y participer, les partis qui s'opposent au gouvernement).\n",
    "Et dépourvue d'utilité pour nous : ne permet pas d'étudier des outcomes spécifiques à l'extrême-droite, qui sera toujours diluée dans l'opposition.\n",
    "\n",
    "Modèle alternatif : les journaux accordent une fraction $\\alpha$ des articles à la nuance politique qui gouverne, et répartissent les articles restants entre les nuances politiques en fonction de leur poids électoral. Ce qu'on peut écrire, en notant $G_i$ la participation au gouvernement et $T_i$ les résultats à la dernière élection législative : \n",
    "$$Y_{i} = \\alpha + \\beta G_i + \\gamma T_i$$\n",
    "\n",
    "La difficulté est la valeur de $\\alpha$ n'est pas connue *a priori* (pas d'argument dans la littérature pour étayer $\\alpha = \\frac{1}{3}$ par exemple). \n",
    "Il faut l'estimer à partir des données.\n",
    "Risque que le raisonnement deviennent circulaire : si l'on tente de mesurer l'écart des comportements réels à une norme en définissant celle-ci à partir de ces mêmes comportements, on se retrouve en fait à commenter la performance prédictive du modèle.\n",
    "Pour minimiser ce risque, il faut que le nombre de paramètres estimés soit le plus faible possible (comme dans le modèle précédent, supposant que la norme est identique pour les nuances politiques, les journaux et les périodes).\n",
    "\n",
    "*NB : une difficulté supplémentaire pour étudier le phénomène de légitimation de l'extrême droite : des évolutions surviennent au cours du temps, soit que les normes évoluent, soit que les écarts aux normes s'amplifient. Estimer les paramètres de la norme sur toute la période conduit à sous-estimer la transformation des comportements réels. Dans ces circonstances, il vaut mieux :*\n",
    "- *Estimer sur une période de référence, et appliquer la norme ainsi obtenue aux autres périodes.*\n",
    "- *Estimer plusieurs normes sur plusieurs périodes, mais cela est une manière de revenir à une approche économétrique traditionnelle.*\n",
    "*D'un autre côté, dans le modèle actuel, aucun paramètre n'est spécifique à l'extrême droite.*"
   ]
  },
  {
   "cell_type": "code",
   "execution_count": 39,
   "id": "d7918d20-9db9-4419-9d81-c3f1ec020a01",
   "metadata": {},
   "outputs": [],
   "source": [
    "######################"
   ]
  },
  {
   "cell_type": "markdown",
   "id": "dd586026-60e4-4ba2-8ba0-cecbd921e42c",
   "metadata": {},
   "source": [
    "Premier regard sur les résultats :\n",
    "- Nécessité d'ajouter une constance pour calculer correctement les R2 (permet aussi de réduire le BIC)\n",
    "- Le meilleur modèle de base intègre une constante, les résultats électoraux et une indicatrice gouvernementale.\n",
    "- Ce modèle fonctionne bien pour la période <2012, beaucoup moins ensuite.\n",
    "- Ce modèle fonctionne pour tous les journaux, sauf *Médiapart*.\n",
    "- Il semble fonctionner seulement pour les partis ayant accédé au pouvoir sur la période considérée (i.e., pas pour le centre avant 2012, pas pour la droite après 2012)\n",
    "- Pour les autres partis, les performances du modèle semblent devenir moins mauvais après 2012.\n",
    "\n",
    "\n",
    "*Pour les partis hors gouvernement, on pourrait simplement calculer le coefficient de corrélation entre art_share et votes_share ?*"
   ]
  },
  {
   "cell_type": "markdown",
   "id": "3fbedbc8-6724-4559-83dd-da3c33f366ea",
   "metadata": {},
   "source": [
    "# Estimation de la norme"
   ]
  },
  {
   "cell_type": "code",
   "execution_count": null,
   "id": "60c47e82-f896-4e9c-999b-65498f2bdb5b",
   "metadata": {},
   "outputs": [],
   "source": [
    "# Attention ci-dessous les modèles estimés n'a pas 1 mais 2 paramètres !"
   ]
  },
  {
   "cell_type": "code",
   "execution_count": 29,
   "id": "2253b7c2-6c23-4e4f-a352-40f567291c3f",
   "metadata": {},
   "outputs": [],
   "source": [
    "# model_data = model_data[model_data['alignement_politique'] == 'extremedroite_droiteradicale']\n",
    "\n",
    "X = sm.add_constant(model_data[[\"votes_share\", \"government\"]])\n",
    "y = model_data[\"art_share\"]\n",
    "model = sm.OLS(y, X).fit(cov_type='HC3')"
   ]
  },
  {
   "cell_type": "code",
   "execution_count": 30,
   "id": "d7c83cdc-9001-424c-a76d-93b16ab3cdee",
   "metadata": {},
   "outputs": [
    {
     "name": "stdout",
     "output_type": "stream",
     "text": [
      "R2: 0.7847345813750833\n",
      "\n",
      "                 coef        p-value\n",
      "const        0.064784  1.248755e-232\n",
      "votes_share  1.337512   0.000000e+00\n",
      "government   0.253887   0.000000e+00\n"
     ]
    }
   ],
   "source": [
    "print(f\"R2: {model.rsquared}\\n\")\n",
    "print(pd.DataFrame({\n",
    "    \"coef\": model.params,\n",
    "    \"p-value\": model.pvalues\n",
    "}))"
   ]
  },
  {
   "cell_type": "code",
   "execution_count": 19,
   "id": "50fbf7d0-526c-40a5-92d8-c715f5d9c32c",
   "metadata": {},
   "outputs": [],
   "source": [
    "cutoff = pd.Period('2012-06', freq='M')\n",
    "X = sm.add_constant(model_data[model_data[\"month\"] <= cutoff][[\"votes_share\", \"government\"]])\n",
    "y = model_data[model_data[\"month\"] <= cutoff][\"art_share\"]\n",
    "model = sm.OLS(y, X).fit(cov_type='HC3')"
   ]
  },
  {
   "cell_type": "code",
   "execution_count": 20,
   "id": "8721fe33-1ecf-4e80-b707-2c33be15475f",
   "metadata": {},
   "outputs": [
    {
     "name": "stdout",
     "output_type": "stream",
     "text": [
      "R2: 0.5883388547981798\n",
      "\n",
      "                 coef        p-value\n",
      "const        0.150372  7.743671e-294\n",
      "votes_share  1.059067  1.685151e-204\n",
      "government   0.213364  6.166682e-206\n"
     ]
    }
   ],
   "source": [
    "print(f\"R2: {model.rsquared}\\n\")\n",
    "print(pd.DataFrame({\n",
    "    \"coef\": model.params,\n",
    "    \"p-value\": model.pvalues\n",
    "}))"
   ]
  },
  {
   "cell_type": "markdown",
   "id": "8c6f47a4-4abe-46e7-bb67-f3045b12bdb7",
   "metadata": {},
   "source": [
    "# Etude des comportements prévus"
   ]
  },
  {
   "cell_type": "code",
   "execution_count": 31,
   "id": "c42a94cf-b43d-4788-8e6c-0da3901c14fe",
   "metadata": {
    "scrolled": true
   },
   "outputs": [],
   "source": [
    "model_data['pred_art_share'] = model.predict(sm.add_constant(model_data[[\"votes_share\", \"government\"]]))"
   ]
  },
  {
   "cell_type": "code",
   "execution_count": null,
   "id": "c050569e-b549-4d48-8d04-59e8cd061a71",
   "metadata": {},
   "outputs": [],
   "source": []
  },
  {
   "cell_type": "code",
   "execution_count": 32,
   "id": "98f1f8e5-28b5-4dcf-9356-8e77d1e3a896",
   "metadata": {},
   "outputs": [
    {
     "name": "stdout",
     "output_type": "stream",
     "text": [
      "pre2012\n",
      "0.8675801307436324\n",
      "post2012\n",
      "0.5059728058563995\n"
     ]
    }
   ],
   "source": [
    "cutoff = pd.Period('2012-06', freq='M')\n",
    "\n",
    "for period_label, period_filter in {\n",
    "    'pre2012': model_data['month'] < cutoff,                                \n",
    "    'post2012': model_data['month'] >= cutoff\n",
    "}.items():\n",
    "    subset_data = model_data[period_filter]\n",
    "    print(period_label)\n",
    "    print(f\"{r2_score(subset_data['art_share'], subset_data['pred_art_share'])}\")"
   ]
  },
  {
   "cell_type": "code",
   "execution_count": 33,
   "id": "9e4a4356-bc98-40c0-b243-2d35acc9ed01",
   "metadata": {},
   "outputs": [
    {
     "name": "stdout",
     "output_type": "stream",
     "text": [
      "Le Figaro\n",
      "0.8486867394846482\n",
      "Le Monde\n",
      "0.8342892392337119\n",
      "La Croix\n",
      "0.861528373965645\n",
      "Libération\n",
      "0.8346227699730442\n",
      "Mediapart\n",
      "-0.5624689213480643\n"
     ]
    }
   ],
   "source": [
    "journals = model_data['journal'].unique()\n",
    "\n",
    "for journal in journals:\n",
    "    subset_data = model_data[model_data['journal'] == journal]\n",
    "    print(journal)\n",
    "    print(f\"{r2_score(subset_data['art_share'], subset_data['pred_art_share'])}\")"
   ]
  },
  {
   "cell_type": "code",
   "execution_count": 34,
   "id": "2b6ee48e-48bd-4334-9392-7e2aa88a3991",
   "metadata": {},
   "outputs": [
    {
     "name": "stdout",
     "output_type": "stream",
     "text": [
      "centredroite_droite\n",
      "0.5973130262968649\n",
      "centregauche_gauche\n",
      "0.4068605143442102\n",
      "extremegauche_gaucheradicale\n",
      "-0.6111649389830052\n",
      "centre\n",
      "0.7988183208829636\n",
      "extremedroite_droiteradicale\n",
      "-0.3785901859737786\n"
     ]
    }
   ],
   "source": [
    "alignments = model_data['alignement_politique'].unique()\n",
    "\n",
    "for alignment in alignments:\n",
    "    subset_data = model_data[model_data['alignement_politique'] == alignment]\n",
    "    print(alignment)\n",
    "    print(f\"{r2_score(subset_data['art_share'], subset_data['pred_art_share'])}\")"
   ]
  },
  {
   "cell_type": "code",
   "execution_count": null,
   "id": "c0507850-342c-4e37-8c6a-a43629ff32fd",
   "metadata": {},
   "outputs": [],
   "source": []
  },
  {
   "cell_type": "code",
   "execution_count": 35,
   "id": "3b3f65b0-a9ae-46c7-b868-a06ff27c48ef",
   "metadata": {},
   "outputs": [],
   "source": [
    "cutoff = pd.Period('2012-06', freq='M')\n",
    "\n",
    "journals = model_data['journal'].unique()\n",
    "alignments = model_data['alignement_politique'].unique()\n",
    "\n",
    "results = {}\n",
    "\n",
    "for period_label, period_filter in {\n",
    "    'pre2012': model_data['month'] < cutoff,                                \n",
    "    'post2012': model_data['month'] >= cutoff\n",
    "}.items():\n",
    "    results[period_label] = {}\n",
    "    \n",
    "    for alignment in alignments:\n",
    "        results[period_label][alignment] = {}\n",
    "        \n",
    "        for journal in journals:\n",
    "            subset_data = model_data[\n",
    "                (period_filter) &\n",
    "                (model_data['journal'] == journal) &\n",
    "                (model_data['alignement_politique'] == alignment)]\n",
    "            \n",
    "            if len(subset_data) >= 3:\n",
    "                results[period_label][alignment][journal] = r2_score(subset_data['art_share'], subset_data['pred_art_share'])\n",
    "            else:\n",
    "                results[period_label][alignment][journal] = None"
   ]
  },
  {
   "cell_type": "code",
   "execution_count": 36,
   "id": "40573653-f2d8-42dc-9e91-0b05d70b67cb",
   "metadata": {},
   "outputs": [],
   "source": [
    "r2_tables = {}\n",
    "for period, alignements in results.items():\n",
    "    r2_tables[period] = pd.DataFrame({\n",
    "        alignement: {\n",
    "            journal: results[period][alignement][journal]\n",
    "            for journal in results[period][alignement]\n",
    "        } for alignement in results[period]\n",
    "    }).sort_index().T"
   ]
  },
  {
   "cell_type": "code",
   "execution_count": 37,
   "id": "f2014d6d-7dc2-4f03-ac42-b0abb40ca0e2",
   "metadata": {},
   "outputs": [
    {
     "data": {
      "text/html": [
       "<div>\n",
       "<style scoped>\n",
       "    .dataframe tbody tr th:only-of-type {\n",
       "        vertical-align: middle;\n",
       "    }\n",
       "\n",
       "    .dataframe tbody tr th {\n",
       "        vertical-align: top;\n",
       "    }\n",
       "\n",
       "    .dataframe thead th {\n",
       "        text-align: right;\n",
       "    }\n",
       "</style>\n",
       "<table border=\"1\" class=\"dataframe\">\n",
       "  <thead>\n",
       "    <tr style=\"text-align: right;\">\n",
       "      <th></th>\n",
       "      <th>La Croix</th>\n",
       "      <th>Le Figaro</th>\n",
       "      <th>Le Monde</th>\n",
       "      <th>Libération</th>\n",
       "      <th>Mediapart</th>\n",
       "    </tr>\n",
       "  </thead>\n",
       "  <tbody>\n",
       "    <tr>\n",
       "      <th>centredroite_droite</th>\n",
       "      <td>0.803500</td>\n",
       "      <td>0.631184</td>\n",
       "      <td>0.705358</td>\n",
       "      <td>0.580185</td>\n",
       "      <td>-0.031985</td>\n",
       "    </tr>\n",
       "    <tr>\n",
       "      <th>centregauche_gauche</th>\n",
       "      <td>0.784026</td>\n",
       "      <td>0.614825</td>\n",
       "      <td>0.366468</td>\n",
       "      <td>0.281147</td>\n",
       "      <td>-5.524372</td>\n",
       "    </tr>\n",
       "    <tr>\n",
       "      <th>extremegauche_gaucheradicale</th>\n",
       "      <td>-11.822871</td>\n",
       "      <td>-17.231408</td>\n",
       "      <td>-6.225167</td>\n",
       "      <td>-5.162818</td>\n",
       "      <td>-3.258605</td>\n",
       "    </tr>\n",
       "    <tr>\n",
       "      <th>centre</th>\n",
       "      <td>-0.138056</td>\n",
       "      <td>-0.413072</td>\n",
       "      <td>-0.602119</td>\n",
       "      <td>-0.118666</td>\n",
       "      <td>NaN</td>\n",
       "    </tr>\n",
       "    <tr>\n",
       "      <th>extremedroite_droiteradicale</th>\n",
       "      <td>-3.514805</td>\n",
       "      <td>-3.663144</td>\n",
       "      <td>-2.829312</td>\n",
       "      <td>-5.043083</td>\n",
       "      <td>-4.756246</td>\n",
       "    </tr>\n",
       "  </tbody>\n",
       "</table>\n",
       "</div>"
      ],
      "text/plain": [
       "                               La Croix  Le Figaro  Le Monde  Libération  \\\n",
       "centredroite_droite            0.803500   0.631184  0.705358    0.580185   \n",
       "centregauche_gauche            0.784026   0.614825  0.366468    0.281147   \n",
       "extremegauche_gaucheradicale -11.822871 -17.231408 -6.225167   -5.162818   \n",
       "centre                        -0.138056  -0.413072 -0.602119   -0.118666   \n",
       "extremedroite_droiteradicale  -3.514805  -3.663144 -2.829312   -5.043083   \n",
       "\n",
       "                              Mediapart  \n",
       "centredroite_droite           -0.031985  \n",
       "centregauche_gauche           -5.524372  \n",
       "extremegauche_gaucheradicale  -3.258605  \n",
       "centre                              NaN  \n",
       "extremedroite_droiteradicale  -4.756246  "
      ]
     },
     "execution_count": 37,
     "metadata": {},
     "output_type": "execute_result"
    }
   ],
   "source": [
    "r2_tables[\"pre2012\"]"
   ]
  },
  {
   "cell_type": "code",
   "execution_count": 38,
   "id": "8c0ac0b3-8aca-4c83-b338-c3d260b896d1",
   "metadata": {},
   "outputs": [
    {
     "data": {
      "text/html": [
       "<div>\n",
       "<style scoped>\n",
       "    .dataframe tbody tr th:only-of-type {\n",
       "        vertical-align: middle;\n",
       "    }\n",
       "\n",
       "    .dataframe tbody tr th {\n",
       "        vertical-align: top;\n",
       "    }\n",
       "\n",
       "    .dataframe thead th {\n",
       "        text-align: right;\n",
       "    }\n",
       "</style>\n",
       "<table border=\"1\" class=\"dataframe\">\n",
       "  <thead>\n",
       "    <tr style=\"text-align: right;\">\n",
       "      <th></th>\n",
       "      <th>La Croix</th>\n",
       "      <th>Le Figaro</th>\n",
       "      <th>Le Monde</th>\n",
       "      <th>Libération</th>\n",
       "      <th>Mediapart</th>\n",
       "    </tr>\n",
       "  </thead>\n",
       "  <tbody>\n",
       "    <tr>\n",
       "      <th>centredroite_droite</th>\n",
       "      <td>-1.542454</td>\n",
       "      <td>-6.883047</td>\n",
       "      <td>-4.008233</td>\n",
       "      <td>-1.419806</td>\n",
       "      <td>-0.788268</td>\n",
       "    </tr>\n",
       "    <tr>\n",
       "      <th>centregauche_gauche</th>\n",
       "      <td>0.803833</td>\n",
       "      <td>0.701169</td>\n",
       "      <td>0.408641</td>\n",
       "      <td>0.521507</td>\n",
       "      <td>-1.671137</td>\n",
       "    </tr>\n",
       "    <tr>\n",
       "      <th>extremegauche_gaucheradicale</th>\n",
       "      <td>-0.457542</td>\n",
       "      <td>-4.424052</td>\n",
       "      <td>0.105452</td>\n",
       "      <td>0.038718</td>\n",
       "      <td>-1.642463</td>\n",
       "    </tr>\n",
       "    <tr>\n",
       "      <th>centre</th>\n",
       "      <td>0.661048</td>\n",
       "      <td>0.585289</td>\n",
       "      <td>0.561347</td>\n",
       "      <td>0.648283</td>\n",
       "      <td>-0.082431</td>\n",
       "    </tr>\n",
       "    <tr>\n",
       "      <th>extremedroite_droiteradicale</th>\n",
       "      <td>-0.577944</td>\n",
       "      <td>-1.869290</td>\n",
       "      <td>-0.461168</td>\n",
       "      <td>-0.902084</td>\n",
       "      <td>-1.457527</td>\n",
       "    </tr>\n",
       "  </tbody>\n",
       "</table>\n",
       "</div>"
      ],
      "text/plain": [
       "                              La Croix  Le Figaro  Le Monde  Libération  \\\n",
       "centredroite_droite          -1.542454  -6.883047 -4.008233   -1.419806   \n",
       "centregauche_gauche           0.803833   0.701169  0.408641    0.521507   \n",
       "extremegauche_gaucheradicale -0.457542  -4.424052  0.105452    0.038718   \n",
       "centre                        0.661048   0.585289  0.561347    0.648283   \n",
       "extremedroite_droiteradicale -0.577944  -1.869290 -0.461168   -0.902084   \n",
       "\n",
       "                              Mediapart  \n",
       "centredroite_droite           -0.788268  \n",
       "centregauche_gauche           -1.671137  \n",
       "extremegauche_gaucheradicale  -1.642463  \n",
       "centre                        -0.082431  \n",
       "extremedroite_droiteradicale  -1.457527  "
      ]
     },
     "execution_count": 38,
     "metadata": {},
     "output_type": "execute_result"
    }
   ],
   "source": [
    "r2_tables[\"post2012\"]"
   ]
  },
  {
   "cell_type": "code",
   "execution_count": null,
   "id": "925745f6-8f75-44a7-b1b1-0deb0f20a6e7",
   "metadata": {},
   "outputs": [],
   "source": []
  },
  {
   "cell_type": "code",
   "execution_count": null,
   "id": "2b7abbfd-8aef-4b0d-a9d3-51c966f86c36",
   "metadata": {},
   "outputs": [],
   "source": []
  },
  {
   "cell_type": "code",
   "execution_count": null,
   "id": "76e8841a-39a2-49f4-8a38-85d488f17496",
   "metadata": {},
   "outputs": [],
   "source": []
  },
  {
   "cell_type": "code",
   "execution_count": null,
   "id": "837e818c-936f-49dc-a3d0-81517c72e642",
   "metadata": {},
   "outputs": [],
   "source": [
    "import numpy as np\n",
    "import pandas as pd\n",
    "from scipy.optimize import minimize\n",
    "\n",
    "# x1 and x2\n",
    "x1 = model_data[\"votes_share\"].values\n",
    "x2 = model_data[\"government\"].values\n",
    "y = model_data[\"art_share\"].values\n",
    "\n",
    "# Objective: residual sum of squares\n",
    "def objective(alpha):\n",
    "    y_pred = alpha * x1 + (1 - alpha) * x2\n",
    "    return np.sum((y - y_pred) ** 2)\n",
    "\n",
    "# Minimize the objective\n",
    "result = minimize(objective, x0=0.5, bounds=[(0, 1)])\n",
    "\n",
    "# Estimated alpha\n",
    "alpha_hat = result.x[0]\n",
    "print(f\"Estimated alpha: {alpha_hat:.4f}\")"
   ]
  },
  {
   "cell_type": "code",
   "execution_count": null,
   "id": "f21a7ded-0485-4fff-b877-be11a5caf785",
   "metadata": {},
   "outputs": [],
   "source": [
    "# Predicted values using estimated alpha\n",
    "y_pred = alpha_hat * x1 + (1 - alpha_hat) * x2\n",
    "\n",
    "# Residual and total sum of squares\n",
    "ss_res = np.sum((y - y_pred) ** 2)\n",
    "ss_tot = np.sum((y - np.mean(y)) ** 2)\n",
    "\n",
    "# R-squared\n",
    "r2 = 1 - ss_res / ss_tot\n",
    "print(f\"R-squared: {r2:.4f}\")"
   ]
  }
 ],
 "metadata": {
  "kernelspec": {
   "display_name": "Python 3 (ipykernel)",
   "language": "python",
   "name": "python3"
  },
  "language_info": {
   "codemirror_mode": {
    "name": "ipython",
    "version": 3
   },
   "file_extension": ".py",
   "mimetype": "text/x-python",
   "name": "python",
   "nbconvert_exporter": "python",
   "pygments_lexer": "ipython3",
   "version": "3.12.9"
  }
 },
 "nbformat": 4,
 "nbformat_minor": 5
}
