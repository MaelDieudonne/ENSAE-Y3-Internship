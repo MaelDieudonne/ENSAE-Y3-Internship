{
 "cells": [
  {
   "cell_type": "code",
   "execution_count": null,
   "id": "f71f01ac-0bed-4316-a938-35e7f77a7c86",
   "metadata": {},
   "outputs": [],
   "source": [
    "import matplotlib.gridspec as gridspec\n",
    "import matplotlib.pyplot as plt\n",
    "import numpy as np\n",
    "import pandas as pd\n",
    "import seaborn as sns\n",
    "import statsmodels.api as sm\n",
    "\n",
    "from matplotlib.lines import Line2D\n",
    "from sklearn.metrics import mean_absolute_percentage_error as mean_ape\n",
    "from sklearn.metrics import root_mean_squared_error as root_mse\n",
    "\n",
    "sns.set(style=\"whitegrid\")"
   ]
  },
  {
   "cell_type": "code",
   "execution_count": null,
   "id": "255ee3ce-535a-4db2-af52-ffac183b40ce",
   "metadata": {},
   "outputs": [],
   "source": [
    "model_data_no_journal = pd.read_parquet(\"data/model_data_no_journal.parquet\")\n",
    "model_data_no_journal = model_data_no_journal[model_data_no_journal['alignement_politique'] != 'autre']\n",
    "model_data_no_journal['pres_votes_share'] = model_data_no_journal['pres_dummy'] * model_data_no_journal['pres_votes_share']\n",
    "\n",
    "model_data = pd.read_parquet(\"data/model_data.parquet\")\n",
    "model_data = model_data[model_data['alignement_politique'] != 'autre']\n",
    "model_data['pres_votes_share'] = model_data['pres_dummy'] * model_data['pres_votes_share']"
   ]
  },
  {
   "cell_type": "code",
   "execution_count": null,
   "id": "631ce5c7-7213-4c54-b566-9127f99fb009",
   "metadata": {},
   "outputs": [],
   "source": [
    "outcome = \"quotes_share\""
   ]
  },
  {
   "cell_type": "markdown",
   "id": "19286d8c-266a-4051-9a42-6c091cfd53aa",
   "metadata": {},
   "source": [
    "Approche économétrique négative : on étudie l'écart des comportements réels à des comportements théoriques.\n",
    "En l'occurrence à des normes encadrant les pratiques journalistes.\n",
    "La méthode ici consiste à modéliser ces normes, puis à évaluer dans quelle mesure elles permettent de prédire les comportements réels, et à observer comment ces derniers s'en écartent. \n",
    "On s'intéresse aux R2 et aux résidus.\n",
    "\n",
    "Dans l'idéal, les normes doivent être parfaitement connues.\n",
    "Exemple de la règle des tiers, les articles se répartissent au tiers entre le gouvernement, la majorité et l'opposition.\n",
    "Mais d'application délicate car elle concerne des unités fluctuant au cours du temps (les partis qui gouvernent, les partis qui soutiennent le gouvernement sans y participer, les partis qui s'opposent au gouvernement).\n",
    "Et dépourvue d'utilité pour nous : ne permet pas d'étudier des outcomes spécifiques à l'extrême-droite, qui sera toujours diluée dans l'opposition.\n",
    "\n",
    "Modèle alternatif : les journaux accordent une fraction $\\alpha$ des articles à la nuance politique qui gouverne, et répartissent les articles restants entre les nuances politiques en fonction de leur poids électoral. Ce qu'on peut écrire, en notant $G_i$ la participation au gouvernement et $T_i$ les résultats à la dernière élection législative : \n",
    "$$Y_{i} = \\alpha + \\beta G_i + \\gamma T_i$$\n",
    "\n",
    "La difficulté est la valeur de $\\alpha$ n'est pas connue *a priori* (pas d'argument dans la littérature pour étayer $\\alpha = \\frac{1}{3}$ par exemple). \n",
    "Il faut l'estimer à partir des données.\n",
    "Risque que le raisonnement deviennent circulaire : si l'on tente de mesurer l'écart des comportements réels à une norme en définissant celle-ci à partir de ces mêmes comportements, on se retrouve en fait à commenter la performance prédictive du modèle.\n",
    "Pour minimiser ce risque, il faut que le nombre de paramètres estimés soit le plus faible possible (comme dans le modèle précédent, supposant que la norme est identique pour les nuances politiques, les journaux et les périodes).\n",
    "\n",
    "*NB : une difficulté supplémentaire pour étudier le phénomène de légitimation de l'extrême droite : des évolutions surviennent au cours du temps, soit que les normes évoluent, soit que les écarts aux normes s'amplifient. Estimer les paramètres de la norme sur toute la période conduit à sous-estimer la transformation des comportements réels. Dans ces circonstances, il vaut mieux :*\n",
    "- *Estimer sur une période de référence, et appliquer la norme ainsi obtenue aux autres périodes.*\n",
    "- *Estimer plusieurs normes sur plusieurs périodes, mais cela est une manière de revenir à une approche économétrique traditionnelle.*\n",
    "*D'un autre côté, dans le modèle actuel, aucun paramètre n'est spécifique à l'extrême droite.*"
   ]
  },
  {
   "cell_type": "markdown",
   "id": "3fbedbc8-6724-4559-83dd-da3c33f366ea",
   "metadata": {},
   "source": [
    "# Estimation de la norme"
   ]
  },
  {
   "cell_type": "code",
   "execution_count": null,
   "id": "60c47e82-f896-4e9c-999b-65498f2bdb5b",
   "metadata": {},
   "outputs": [],
   "source": [
    "# Attention ci-dessous les modèles estimés n'a pas 1 mais 2 paramètres !"
   ]
  },
  {
   "cell_type": "code",
   "execution_count": null,
   "id": "2253b7c2-6c23-4e4f-a352-40f567291c3f",
   "metadata": {},
   "outputs": [],
   "source": [
    "X = model_data_no_journal[[\"na_share\", \"government\", \"pres_votes_share\", \"leg_votes_share\"]]\n",
    "y = model_data_no_journal[outcome]\n",
    "model = sm.OLS(y, X).fit(cov_type='HC3')\n",
    "\n",
    "y_pred = model.predict(X)\n",
    "mape = mean_ape(y, y_pred)\n",
    "rmspe = root_mse(y, y_pred) / y.mean()\n",
    "\n",
    "params = model.params.rename(\"coef\").to_frame()\n",
    "pvalues = model.pvalues.rename(\"pval\").to_frame()\n",
    "print(pd.merge(params, pvalues, left_index=True, right_index=True))\n",
    "print(\"\")\n",
    "print(f\"R2: {100*model.rsquared:.2f}%\")\n",
    "print(f\"MAPE: {100*mape:.2f}%\")\n",
    "print(f\"RMSPE: {rmspe:.5f}\")"
   ]
  },
  {
   "cell_type": "code",
   "execution_count": null,
   "id": "50fbf7d0-526c-40a5-92d8-c715f5d9c32c",
   "metadata": {},
   "outputs": [],
   "source": [
    "cutoff = pd.Period('2012-06', freq='M')\n",
    "X = model_data_no_journal[model_data_no_journal[\"month\"] <= cutoff][[\"na_share\", \"government\", \"pres_votes_share\", \"leg_votes_share\"]]\n",
    "y = model_data_no_journal[model_data_no_journal[\"month\"] <= cutoff][outcome]\n",
    "model = sm.OLS(y, X).fit(cov_type='HC3')\n",
    "\n",
    "y_pred = model.predict(X)\n",
    "mape = mean_ape(y, y_pred)\n",
    "rmspe = root_mse(y, y_pred) / y.mean()\n",
    "\n",
    "params = model.params.rename(\"coef\").to_frame()\n",
    "pvalues = model.pvalues.rename(\"pval\").to_frame()\n",
    "print(pd.merge(params, pvalues, left_index=True, right_index=True))\n",
    "print(\"\")\n",
    "print(f\"R2: {100*model.rsquared:.2f}%\")\n",
    "print(f\"MAPE: {100*mape:.2f}%\")\n",
    "print(f\"RMSPE: {rmspe:.5f}\")"
   ]
  },
  {
   "cell_type": "markdown",
   "id": "8c6f47a4-4abe-46e7-bb67-f3045b12bdb7",
   "metadata": {},
   "source": [
    "# Ecarts"
   ]
  },
  {
   "cell_type": "markdown",
   "id": "1c3240a3-d425-455c-baf7-74e0b50c694d",
   "metadata": {},
   "source": [
    "## Selon les partis politiques"
   ]
  },
  {
   "cell_type": "code",
   "execution_count": null,
   "id": "c050569e-b549-4d48-8d04-59e8cd061a71",
   "metadata": {},
   "outputs": [],
   "source": [
    "model_data_no_journal['y_pred'] = model.predict(model_data_no_journal[[\"na_share\", \"government\", \"pres_votes_share\", \"leg_votes_share\"]])\n",
    "model_data_no_journal['rel_residuals'] = 100 * (model_data_no_journal['y_pred'] - model_data_no_journal[outcome]) / model_data_no_journal[outcome]"
   ]
  },
  {
   "cell_type": "code",
   "execution_count": null,
   "id": "2b6ee48e-48bd-4334-9392-7e2aa88a3991",
   "metadata": {
    "scrolled": true
   },
   "outputs": [],
   "source": [
    "summary = []\n",
    "\n",
    "for alignment in model_data_no_journal['alignement_politique'].unique():\n",
    "    subset_data = model_data_no_journal[model_data_no_journal['alignement_politique'] == alignment]\n",
    "    y = subset_data[outcome]\n",
    "    y_pred = subset_data['y_pred']\n",
    "    mape = mean_ape(y, y_pred)\n",
    "    rmspe = root_mse(y, y_pred) / y.mean()\n",
    "    summary.append({\n",
    "        'nuance politique': alignment,\n",
    "        'MAPE': mape,\n",
    "        'RMSPE': rmspe\n",
    "    })\n",
    "\n",
    "pd.DataFrame(summary).style.hide(axis=0)"
   ]
  },
  {
   "cell_type": "code",
   "execution_count": null,
   "id": "1da3809e-3ba5-48d1-b377-de438df09429",
   "metadata": {},
   "outputs": [],
   "source": [
    "plot_data = model_data_no_journal.copy()\n",
    "plot_data['month'] = plot_data['month'].dt.to_timestamp()\n",
    "\n",
    "alignment_groups = [\n",
    "    (['extremegauche_gaucheradicale', 'extremedroite_droiteradicale'],\n",
    "     {'extremegauche_gaucheradicale': 'crimson',\n",
    "      'extremedroite_droiteradicale': 'royalblue'}),\n",
    "    (['centredroite_droite', 'centregauche_gauche', 'centre'],\n",
    "     {'centredroite_droite': 'cornflowerblue',\n",
    "      'centregauche_gauche': 'orchid',\n",
    "      'centre': 'goldenrod'})]"
   ]
  },
  {
   "cell_type": "code",
   "execution_count": null,
   "id": "565cb223-f9a5-45e6-9f74-182199d9ac81",
   "metadata": {},
   "outputs": [],
   "source": [
    "alignment = 'extremedroite_droiteradicale'\n",
    "subset_data = plot_data[plot_data['alignement_politique'] == alignment].copy()\n",
    "subset_data['MA_observed'] = subset_data[outcome].rolling(window=6).mean()\n",
    "subset_data['MA_rel'] = subset_data['rel_residuals'].rolling(window=6).mean()\n",
    "\n",
    "fig, axes = plt.subplots(2, 1, figsize=(16, 10), sharex=True)\n",
    "\n",
    "sns.lineplot(data=subset_data, x='month', y=outcome, ax=axes[0], label='Valeurs observées', alpha=0.2, color='crimson', linestyle='-')\n",
    "sns.lineplot(data=subset_data, x='month', y='MA_observed', ax=axes[0], label='Moyenne mobile', alpha=0.65, color='crimson', linestyle='dashdot')\n",
    "sns.lineplot(data=subset_data, x='month', y='y_pred', ax=axes[0], label='Valeurs prédites', alpha=1, color='teal', linestyle='dotted')\n",
    "axes[0].set_title(\"Valeurs réelles et prédites\")\n",
    "axes[0].set_ylabel('')\n",
    "\n",
    "sns.lineplot(data=subset_data, x='month', y='rel_residuals', ax=axes[1], label='Résidus relatifs', alpha=0.3, color='crimson', linestyle='-')\n",
    "sns.lineplot(data=subset_data, x='month', y='MA_rel', ax=axes[1], label='Moyenne mobile', color='crimson', linestyle='dashdot')\n",
    "sns.lineplot(data=subset_data, x='month', y='y_pred', ax=axes[1], label='Valeurs prédites', alpha=1, color='teal', linestyle='dotted')\n",
    "axes[1].set_title(\"Résidus relatifs (%)\")\n",
    "axes[1].set_xlabel('')\n",
    "axes[1].set_ylabel('')\n",
    "\n",
    "plt.suptitle(\"Proportion des citations de personnalités d'extrême droite\")\n",
    "plt.tight_layout()\n",
    "plt.show()"
   ]
  },
  {
   "cell_type": "code",
   "execution_count": null,
   "id": "874c8630-e2a8-42da-b570-6b3d422160e7",
   "metadata": {},
   "outputs": [],
   "source": [
    "fig, axes = plt.subplots(2, 1, figsize=(16, 12), sharex=True)\n",
    "\n",
    "for ax, (political_alignments, colors) in zip(axes, alignment_groups):\n",
    "    alignment_handles = []\n",
    "\n",
    "    for alignment in political_alignments:\n",
    "        subset_data = plot_data[plot_data['alignement_politique'] == alignment].copy()\n",
    "        subset_data['MA'] = subset_data[outcome].rolling(window=6).mean()\n",
    "        \n",
    "        ax.plot(subset_data['month'], subset_data[outcome], label=None,\n",
    "                alpha=0.2, color=colors[alignment], linestyle='-')\n",
    "        ax.plot(subset_data['month'], subset_data['MA'], label=None,\n",
    "                alpha=0.65, color=colors[alignment], linestyle='dashdot')\n",
    "        ax.plot(subset_data['month'], subset_data['y_pred'], label=None,\n",
    "                alpha=1, color=colors[alignment], linestyle='dotted')\n",
    "        \n",
    "        alignment_handles.append(Line2D([0], [0], color=colors[alignment], lw=2, label=alignment))\n",
    "\n",
    "    alignment_legend = ax.legend(handles=alignment_handles, title=\"Nuance politique\", loc=\"upper left\")\n",
    "    ax.add_artist(alignment_legend)\n",
    "\n",
    "    line_type_handles = [\n",
    "        Line2D([0], [0], color='black', lw=2, linestyle='-', label=\"Moyenne mensuelle\"),\n",
    "        Line2D([0], [0], color='black', lw=2, linestyle='dashdot', label=\"Moyenne mobile sur 6 mois\"),\n",
    "        Line2D([0], [0], color='black', lw=2, linestyle='dotted', label=\"Prédictions\")]\n",
    "    ax.legend(handles=line_type_handles, title=\"Valeurs\", loc=\"upper right\")\n",
    "\n",
    "axes[-1].set_xlabel(\"\")\n",
    "\n",
    "plt.suptitle(\"Répartition des citations entre les nuances politiques\\nValeurs observées et prédites\")\n",
    "plt.tight_layout()\n",
    "plt.show()"
   ]
  },
  {
   "cell_type": "code",
   "execution_count": null,
   "id": "042da6c0-ab69-4b3c-ae62-1e61f994b5fd",
   "metadata": {},
   "outputs": [],
   "source": [
    "fig, axes = plt.subplots(2, 1, figsize=(16, 12), sharex=True)\n",
    "\n",
    "for ax, (political_alignments, colors) in zip(axes, alignment_groups):\n",
    "    alignment_handles = []\n",
    "\n",
    "    for alignment in political_alignments:\n",
    "        subset_data = plot_data[plot_data['alignement_politique'] == alignment].copy()\n",
    "        subset_data['MA'] = subset_data['rel_residuals'].rolling(window=6).mean()\n",
    "        \n",
    "        ax.plot(subset_data['month'], subset_data['rel_residuals'], label=None,\n",
    "                alpha=0.2, color=colors[alignment], linestyle='-')\n",
    "        ax.plot(subset_data['month'], subset_data['MA'], label=None,\n",
    "                alpha=0.65, color=colors[alignment], linestyle='dashdot')\n",
    "\n",
    "        alignment_handles.append(Line2D([0], [0], color=colors[alignment], lw=2, label=alignment))\n",
    "\n",
    "    alignment_legend = ax.legend(handles=alignment_handles, title=\"Nuance politique\", loc=\"upper left\")\n",
    "    ax.add_artist(alignment_legend)\n",
    "\n",
    "    line_type_handles = [\n",
    "        Line2D([0], [0], color='black', lw=2, linestyle='-', label=\"Moyenne mensuelle\"),\n",
    "        Line2D([0], [0], color='black', lw=2, linestyle='dashdot', label=\"Moyenne mobile sur 6 mois\")\n",
    "    ]\n",
    "    ax.legend(handles=line_type_handles, title=\"Valeurs\", loc=\"upper right\")\n",
    "\n",
    "axes[-1].set_xlabel(\"\")\n",
    "\n",
    "plt.suptitle(\"Répartition des citations entre les nuances politiques\\nRésidus relatifs (%)\")\n",
    "plt.tight_layout()\n",
    "plt.show()"
   ]
  },
  {
   "cell_type": "markdown",
   "id": "cc5d2dfa-8ce0-4880-b0a0-b88660995b2f",
   "metadata": {},
   "source": [
    "## Selon les journaux"
   ]
  },
  {
   "cell_type": "code",
   "execution_count": null,
   "id": "c621e895-c175-4179-b23b-08c624b6ec29",
   "metadata": {},
   "outputs": [],
   "source": [
    "model_data['y_pred'] = model.predict(model_data[[\"na_share\", \"government\", \"pres_votes_share\", \"leg_votes_share\"]])\n",
    "model_data['rel_residuals'] = 100 * (model_data['y_pred'] - model_data[outcome]) / model_data[outcome]"
   ]
  },
  {
   "cell_type": "code",
   "execution_count": null,
   "id": "71e6ccd2-e339-4c3c-8970-07d4442c3125",
   "metadata": {},
   "outputs": [],
   "source": [
    "summary = []\n",
    "\n",
    "for journal in model_data['journal'].unique():\n",
    "    subset_data = model_data[model_data['journal'] == journal]\n",
    "    y = subset_data[outcome]\n",
    "    y_pred = subset_data['y_pred']\n",
    "    mape = mean_ape(y, y_pred)\n",
    "    rmspe = root_mse(y, y_pred) / y.mean()\n",
    "    summary.append({\n",
    "        'journal': journal,\n",
    "        'MAPE': mape,\n",
    "        'RMSPE': rmspe\n",
    "    })\n",
    "\n",
    "pd.DataFrame(summary).style.hide(axis=0)"
   ]
  },
  {
   "cell_type": "code",
   "execution_count": null,
   "id": "f6321ae5-94fd-4518-8a0a-1d177a3e9b66",
   "metadata": {},
   "outputs": [],
   "source": [
    "plot_data = model_data.copy()\n",
    "plot_data['month'] = plot_data['month'].dt.to_timestamp()\n",
    "\n",
    "colors = {\n",
    "    'Le Figaro': 'goldenrod',\n",
    "    'Libération': 'limegreen',\n",
    "    'Le Monde': 'orchid',\n",
    "    'La Croix': 'skyblue',\n",
    "    'Mediapart': 'crimson'}\n",
    "\n",
    "alignments = [\n",
    "    \"extremedroite_droiteradicale\",\n",
    "    \"centredroite_droite\",\n",
    "    \"centre\",\n",
    "    \"centregauche_gauche\",\n",
    "    \"extremegauche_gaucheradicale\"]\n",
    "n_alignments = len(alignments)"
   ]
  },
  {
   "cell_type": "code",
   "execution_count": null,
   "id": "a7479b96-184e-4ed0-9528-39c29b3767a2",
   "metadata": {},
   "outputs": [],
   "source": [
    "fig, axes = plt.subplots(n_alignments, 1, figsize=(16, 4 * n_alignments), sharex=True)\n",
    "\n",
    "for i, alignment in enumerate(alignments):\n",
    "    ax = axes[i]\n",
    "    subset_data = plot_data[plot_data['alignement_politique'] == alignment]\n",
    "\n",
    "    for journal in subset_data['journal'].unique():\n",
    "        if journal == 'Mediapart': continue\n",
    "        sub_subset_data = subset_data[subset_data['journal'] == journal].copy()\n",
    "        sub_subset_data['MA'] = sub_subset_data[outcome].rolling(window=12).mean()\n",
    "        ax.plot(sub_subset_data['month'], sub_subset_data[outcome], label=journal,\n",
    "                color=colors[journal], linestyle='-')\n",
    "\n",
    "    ax.plot(subset_data['month'], subset_data['y_pred'], color='black', alpha=0.8, linestyle='dotted')\n",
    "    ax.set_title(f\"{alignment}\")\n",
    "    ax.legend()\n",
    "\n",
    "plt.suptitle(\"\"\"\n",
    "Proportion des citations de personnalités de plusieurs nuances politiques dans 5 journaux\\n\n",
    "Valeurs réelles et prédites - moyennes mobiles sur 12 mois\n",
    "\"\"\")\n",
    "plt.tight_layout()\n",
    "plt.show()"
   ]
  },
  {
   "cell_type": "code",
   "execution_count": null,
   "id": "a920d2f4-2e7e-4aa5-b57b-5122463da028",
   "metadata": {},
   "outputs": [],
   "source": [
    "alignments = [\n",
    "    \"extremedroite_droiteradicale\",\n",
    "    \"centredroite_droite\",\n",
    "    \"centre\",\n",
    "    \"centregauche_gauche\",\n",
    "    \"extremegauche_gaucheradicale\"\n",
    "]\n",
    "n_alignments = len(alignments)\n",
    "\n",
    "fig, axes = plt.subplots(n_alignments, 1, figsize=(16, 4 * n_alignments), sharex=True)\n",
    "\n",
    "for i, alignment in enumerate(alignments):\n",
    "    ax = axes[i]\n",
    "    subset_data = plot_data[plot_data['alignement_politique'] == alignment]\n",
    "\n",
    "    for journal in subset_data['journal'].unique():\n",
    "        sub_subset_data = subset_data[subset_data['journal'] == journal].copy()\n",
    "        sub_subset_data['MA'] = sub_subset_data['rel_residuals'].rolling(window=12).mean()\n",
    "        ax.plot(sub_subset_data['month'], sub_subset_data['MA'], label=journal,\n",
    "                color=colors[journal], linestyle='-')\n",
    "\n",
    "    ax.plot(subset_data['month'], subset_data['y_pred'], color='black', alpha=0.8, linestyle='dotted')\n",
    "    ax.set_title(f\"{alignment}\")\n",
    "    ax.legend()\n",
    "\n",
    "plt.suptitle(\"\"\"\n",
    "Proportion des citations de personnalités de plusieurs nuances politiques dans 5 journaux\\n\n",
    "Résidus relatifs (%) - moyennes mobiles sur 12 mois\n",
    "\"\"\")\n",
    "plt.tight_layout()\n",
    "plt.show()"
   ]
  },
  {
   "cell_type": "code",
   "execution_count": null,
   "id": "0be0def0-b4b8-4ccc-aca5-dec397401932",
   "metadata": {},
   "outputs": [],
   "source": []
  }
 ],
 "metadata": {
  "kernelspec": {
   "display_name": "Python 3 (ipykernel)",
   "language": "python",
   "name": "python3"
  },
  "language_info": {
   "codemirror_mode": {
    "name": "ipython",
    "version": 3
   },
   "file_extension": ".py",
   "mimetype": "text/x-python",
   "name": "python",
   "nbconvert_exporter": "python",
   "pygments_lexer": "ipython3",
   "version": "3.12.9"
  }
 },
 "nbformat": 4,
 "nbformat_minor": 5
}
