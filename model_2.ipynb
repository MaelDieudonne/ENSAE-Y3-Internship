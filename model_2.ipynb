{
 "cells": [
  {
   "cell_type": "code",
   "execution_count": null,
   "id": "f71f01ac-0bed-4316-a938-35e7f77a7c86",
   "metadata": {},
   "outputs": [],
   "source": [
    "import matplotlib.gridspec as gridspec\n",
    "import matplotlib.pyplot as plt\n",
    "import numpy as np\n",
    "import pandas as pd\n",
    "import seaborn as sns\n",
    "import statsmodels.api as sm\n",
    "\n",
    "from matplotlib.lines import Line2D\n",
    "from sklearn.metrics import mean_absolute_percentage_error as mean_ape\n",
    "from sklearn.metrics import root_mean_squared_error as root_mse\n",
    "\n",
    "sns.set(style=\"whitegrid\")"
   ]
  },
  {
   "cell_type": "code",
   "execution_count": null,
   "id": "255ee3ce-535a-4db2-af52-ffac183b40ce",
   "metadata": {},
   "outputs": [],
   "source": [
    "model_data_no_journal = pd.read_parquet(\"data/model_data_no_journal.parquet\")\n",
    "model_data_no_journal = model_data_no_journal[model_data_no_journal['political_alignment'] != 'autre']\n",
    "model_data_no_journal['next_pres_votes_share'] = model_data_no_journal['pres_dummy'] * model_data_no_journal['pres_votes_share']\n",
    "\n",
    "model_data = pd.read_parquet(\"data/model_data.parquet\")\n",
    "model_data = model_data[model_data['political_alignment'] != 'autre']\n",
    "model_data['next_pres_votes_share'] = model_data['pres_dummy'] * model_data['pres_votes_share']"
   ]
  },
  {
   "cell_type": "code",
   "execution_count": null,
   "id": "631ce5c7-7213-4c54-b566-9127f99fb009",
   "metadata": {},
   "outputs": [],
   "source": [
    "outcome = \"quotes_share\""
   ]
  },
  {
   "cell_type": "markdown",
   "id": "19286d8c-266a-4051-9a42-6c091cfd53aa",
   "metadata": {},
   "source": [
    "Ce notebook utilise une approche économétrique alternative étudiant l'écart entre des comportements théoriques et réels. Elles conçoit les comportements théoriques sont comme des normes, et leur écart avec les comportements réels comme une mesure de la déviance. Cette approche est intéressante lorsque les normes sont connues *a priori* et modélisables directement.\n",
    "\n",
    "Prenons l'exemple du nombre d'articles consacrés aux différentes nuances politiques. Une ancienne règle éditoriale stipule que ces articles doivent se répartir au tiers entre le gouvernement, la majorité et l'opposition. Il est alors possible, plutôt que de modéliser la répartition réelle des articles, d'observer comment elle s'écarte de cette norme, en particulier selon les nuances politiques et au cours du temps. L'hypothèse d'une légitimation de l'extrême droite devrait se traduire par une application de moins en moins stricte de la règle des tiers. Ceci n'est en réalité pas vérifiable, car la règle des tiers amalgame l'ensemble des nuances politiques ne participant ni à la majorité ni au gouvernement, aboutissant à diluer l'extrême droite dans l'opposition.\n",
    "\n",
    "Lorsque la norme n'est pas suffisamment connue pour être modélisable directement, il est possible de l'estimer à partir des données. Il existe ici un risque que le raisonnement deviennet circulaire : lorsque l'on mesure l'écart des comportements réels à une norme définie à partir des comportements moyens, on peut aboutir à évaluer plutôt la performance prédictive du modèle. Pour minimiser ce risque, il faut utiliser le modèle le plus simple possible, notamment en éliminant les contrôles."
   ]
  },
  {
   "cell_type": "markdown",
   "id": "3fbedbc8-6724-4559-83dd-da3c33f366ea",
   "metadata": {},
   "source": [
    "# 1. Estimation de la norme\n",
    "Appliquons cette approche à la proportion des citations attribuées à chaque nuance politique. Supposons que la couverture médiatique d'une nuance est fonction de sa représentativité politique réelle, reflétée par son score aux précédentes élections législatives et son nombre de sièges à l'Assemblée Nationale, de sa représentativité politique anticipée, reflétée par son score aux prochaines élections présidentielles lorsqu'elles sont distantes de moins de 4 mois, et de sa participation au gouvernement. Cette hypothèse correspond au modèle n°3 de l'autre notebook, qui s'écrit :  \n",
    "\n",
    "$$Y_{i} = \\beta T_{i} + \\gamma G_{i} + \\theta P_{i} + \\delta L_{i}$$\n",
    "\n",
    "Comme nous cherchons à isoler des évolutions au cours du temps, il est préférable d'estimer ces paramètres sur une période de référence, afin de vérifier si les résidus augmentent lors des périodes suivantes. Nous avons retenu la charnière de juin 2012, comme dans l'autre notebook."
   ]
  },
  {
   "cell_type": "code",
   "execution_count": null,
   "id": "2253b7c2-6c23-4e4f-a352-40f567291c3f",
   "metadata": {},
   "outputs": [],
   "source": [
    "X = model_data_no_journal[[\"na_share\", \"government\", \"next_pres_votes_share\", \"leg_votes_share\"]]\n",
    "y = model_data_no_journal[outcome]\n",
    "model = sm.OLS(y, X).fit(cov_type='HC3')\n",
    "\n",
    "y_pred = model.predict(X)\n",
    "mape = mean_ape(y, y_pred)\n",
    "rmspe = root_mse(y, y_pred) / y.mean()\n",
    "\n",
    "params = model.params.rename(\"coef\").to_frame()\n",
    "pvalues = model.pvalues.rename(\"pval\").to_frame()\n",
    "print(pd.merge(params, pvalues, left_index=True, right_index=True))\n",
    "print(\"\")\n",
    "print(f\"R2: {100*model.rsquared:.2f}%\")\n",
    "print(f\"MAPE: {100*mape:.2f}%\")\n",
    "print(f\"RMSPE: {rmspe:.5f}\")"
   ]
  },
  {
   "cell_type": "code",
   "execution_count": null,
   "id": "50fbf7d0-526c-40a5-92d8-c715f5d9c32c",
   "metadata": {},
   "outputs": [],
   "source": [
    "cutoff = pd.Period('2017-06', freq='M')\n",
    "X = model_data_no_journal[model_data_no_journal[\"month\"] <= cutoff][[\"na_share\", \"government\", \"next_pres_votes_share\", \"leg_votes_share\"]]\n",
    "y = model_data_no_journal[model_data_no_journal[\"month\"] <= cutoff][outcome]\n",
    "model = sm.OLS(y, X).fit(cov_type='HC3')\n",
    "\n",
    "y_pred = model.predict(X)\n",
    "mape = mean_ape(y, y_pred)\n",
    "rmspe = root_mse(y, y_pred) / y.mean()\n",
    "\n",
    "params = model.params.rename(\"coef\").to_frame()\n",
    "pvalues = model.pvalues.rename(\"pval\").to_frame()\n",
    "print(pd.merge(params, pvalues, left_index=True, right_index=True))\n",
    "print(\"\")\n",
    "print(f\"R2: {100*model.rsquared:.2f}%\")\n",
    "print(f\"MAPE: {100*mape:.2f}%\")\n",
    "print(f\"RMSPE: {rmspe:.5f}\")"
   ]
  },
  {
   "cell_type": "markdown",
   "id": "0787dc5d-fb8d-4eda-8799-9ae2284ea563",
   "metadata": {},
   "source": [
    "Réduire les données à la période antérieure à juin 2017 exerce un effet ambigu sur les performances du modèle : les écarts absolus augmentent mais les écarts quadratiques se réduisent, ce qui signifie que les valeurs courantes sont moins bien prédites, tandis que les outliers sont mieux prédits.\n",
    "\n",
    "Le score aux prochaines élections présidentielles n'est pas significatif. Nous conservons néanmoins cette variable dont nous avons vu qu'elle est intéressante seulement pour les nuances extrêmes."
   ]
  },
  {
   "cell_type": "markdown",
   "id": "8c6f47a4-4abe-46e7-bb67-f3045b12bdb7",
   "metadata": {},
   "source": [
    "# 2. Mesure des écarts\n",
    "## Selon les partis politiques"
   ]
  },
  {
   "cell_type": "code",
   "execution_count": null,
   "id": "c050569e-b549-4d48-8d04-59e8cd061a71",
   "metadata": {},
   "outputs": [],
   "source": [
    "model_data_no_journal['y_pred'] = model.predict(model_data_no_journal[[\"na_share\", \"government\", \"pres_votes_share\", \"leg_votes_share\"]])\n",
    "model_data_no_journal['rel_residuals'] = 100 * (model_data_no_journal[outcome] - model_data_no_journal['y_pred']) / model_data_no_journal[outcome]"
   ]
  },
  {
   "cell_type": "code",
   "execution_count": null,
   "id": "2b6ee48e-48bd-4334-9392-7e2aa88a3991",
   "metadata": {
    "scrolled": true
   },
   "outputs": [],
   "source": [
    "summary = []\n",
    "\n",
    "for alignment in model_data_no_journal['political_alignment'].unique():\n",
    "    subset_data = model_data_no_journal[model_data_no_journal['political_alignment'] == alignment]\n",
    "    y = subset_data[outcome]\n",
    "    y_pred = subset_data['y_pred']\n",
    "    mape = mean_ape(y, y_pred)\n",
    "    rmspe = root_mse(y, y_pred) / y.mean()\n",
    "    summary.append({\n",
    "        'Political alignment': alignment,\n",
    "        'MAPE': mape,\n",
    "        'RMSPE': rmspe\n",
    "    })\n",
    "\n",
    "pd.DataFrame(summary).style.hide(axis=0)"
   ]
  },
  {
   "cell_type": "code",
   "execution_count": null,
   "id": "1da3809e-3ba5-48d1-b377-de438df09429",
   "metadata": {},
   "outputs": [],
   "source": [
    "plot_data = model_data_no_journal.copy()\n",
    "plot_data['month'] = plot_data['month'].dt.to_timestamp()\n",
    "\n",
    "alignment_groups = [\n",
    "    (['Far left', 'Far right'],\n",
    "     {'Far left': 'crimson',\n",
    "      'Far right': 'royalblue'}),\n",
    "    (['Right', 'Left', 'Center'],\n",
    "     {'Right': 'cornflowerblue',\n",
    "      'Left': 'orchid',\n",
    "      'Center': 'goldenrod'})]"
   ]
  },
  {
   "cell_type": "code",
   "execution_count": null,
   "id": "565cb223-f9a5-45e6-9f74-182199d9ac81",
   "metadata": {},
   "outputs": [],
   "source": [
    "alignment = 'Far right'\n",
    "subset_data = plot_data[plot_data['political_alignment'] == alignment].copy()\n",
    "subset_data['MA_observed'] = subset_data[outcome].rolling(window=6).mean()\n",
    "subset_data['MA_rel'] = subset_data['rel_residuals'].rolling(window=6).mean()\n",
    "\n",
    "fig, axes = plt.subplots(2, 1, figsize=(16, 10), sharex=True)\n",
    "\n",
    "sns.lineplot(data=subset_data, x='month', y=outcome, ax=axes[0], label='Observed values', alpha=0.2, color='crimson', linestyle='-')\n",
    "sns.lineplot(data=subset_data, x='month', y='MA_observed', ax=axes[0], label='6 months moving average for OV', alpha=0.65, color='crimson', linestyle='dashdot')\n",
    "sns.lineplot(data=subset_data, x='month', y='y_pred', ax=axes[0], label='Predicted values', alpha=1, color='teal', linestyle='dotted')\n",
    "axes[0].set_title(\"Observed and Predicted Values\")\n",
    "axes[0].set_ylabel('')\n",
    "\n",
    "sns.lineplot(data=subset_data, x='month', y='rel_residuals', ax=axes[1], label='Relative residuals', alpha=0.3, color='crimson', linestyle='-')\n",
    "sns.lineplot(data=subset_data, x='month', y='MA_rel', ax=axes[1], label='6 months moving average for RR', color='crimson', linestyle='dashdot')\n",
    "sns.lineplot(data=subset_data, x='month', y='y_pred', ax=axes[1], label='Predicted values', alpha=1, color='teal', linestyle='dotted')\n",
    "axes[1].set_title(\"Relative Residuals (%)\")\n",
    "axes[1].set_xlabel('')\n",
    "axes[1].set_ylabel('')\n",
    "\n",
    "plt.suptitle(\"Proportion of Quotes Attributed to Far-Right Politicians\")\n",
    "plt.tight_layout()\n",
    "plt.show()"
   ]
  },
  {
   "cell_type": "code",
   "execution_count": null,
   "id": "874c8630-e2a8-42da-b570-6b3d422160e7",
   "metadata": {},
   "outputs": [],
   "source": [
    "fig, axes = plt.subplots(2, 1, figsize=(16, 12), sharex=True)\n",
    "\n",
    "for ax, (political_alignments, colors) in zip(axes, alignment_groups):\n",
    "    alignment_handles = []\n",
    "\n",
    "    for alignment in political_alignments:\n",
    "        subset_data = plot_data[plot_data['political_alignment'] == alignment].copy()\n",
    "        subset_data['MA'] = subset_data[outcome].rolling(window=6).mean()\n",
    "        \n",
    "        ax.plot(subset_data['month'], subset_data[outcome], label=None,\n",
    "                alpha=0.2, color=colors[alignment], linestyle='-')\n",
    "        ax.plot(subset_data['month'], subset_data['MA'], label=None,\n",
    "                alpha=0.65, color=colors[alignment], linestyle='dashdot')\n",
    "        ax.plot(subset_data['month'], subset_data['y_pred'], label=None,\n",
    "                alpha=1, color=colors[alignment], linestyle='dotted')\n",
    "        \n",
    "        alignment_handles.append(Line2D([0], [0], color=colors[alignment], lw=2, label=alignment))\n",
    "\n",
    "    alignment_legend = ax.legend(handles=alignment_handles, title=\"Political alignment\", loc=\"upper left\")\n",
    "    ax.add_artist(alignment_legend)\n",
    "\n",
    "    line_type_handles = [\n",
    "        Line2D([0], [0], color='black', lw=2, linestyle='-', label=\"Monthly average\"),\n",
    "        Line2D([0], [0], color='black', lw=2, linestyle='dashdot', label=\"6 months moving average\"),\n",
    "        Line2D([0], [0], color='black', lw=2, linestyle='dotted', label=\"Predictions\")]\n",
    "    ax.legend(handles=line_type_handles, title=\"Values\", loc=\"upper right\")\n",
    "\n",
    "axes[-1].set_xlabel(\"\")\n",
    "\n",
    "plt.suptitle(\"Quote Distribution by Political Affiliation\\nObserved vs. Predicted Values\")\n",
    "plt.tight_layout()\n",
    "plt.savefig(\"output/nuances_val_graph.png\", dpi=300, bbox_inches='tight')\n",
    "plt.show()"
   ]
  },
  {
   "cell_type": "code",
   "execution_count": null,
   "id": "042da6c0-ab69-4b3c-ae62-1e61f994b5fd",
   "metadata": {},
   "outputs": [],
   "source": [
    "fig, axes = plt.subplots(2, 1, figsize=(16, 12), sharex=True)\n",
    "\n",
    "for ax, (political_alignments, colors) in zip(axes, alignment_groups):\n",
    "    alignment_handles = []\n",
    "\n",
    "    for alignment in political_alignments:\n",
    "        subset_data = plot_data[plot_data['political_alignment'] == alignment].copy()\n",
    "        subset_data['MA'] = subset_data['rel_residuals'].rolling(window=6).mean()\n",
    "        \n",
    "        ax.plot(subset_data['month'], subset_data['rel_residuals'], label=None,\n",
    "                alpha=0.2, color=colors[alignment], linestyle='-')\n",
    "        ax.plot(subset_data['month'], subset_data['MA'], label=None,\n",
    "                alpha=0.65, color=colors[alignment], linestyle='dashdot')\n",
    "\n",
    "        alignment_handles.append(Line2D([0], [0], color=colors[alignment], lw=2, label=alignment))\n",
    "\n",
    "    alignment_legend = ax.legend(handles=alignment_handles, title=\"Political alignment\", loc=\"lower left\")\n",
    "    ax.add_artist(alignment_legend)\n",
    "\n",
    "    line_type_handles = [\n",
    "        Line2D([0], [0], color='black', lw=2, linestyle='-', label=\"Monthly average\"),\n",
    "        Line2D([0], [0], color='black', lw=2, linestyle='dashdot', label=\"6 months moving average\")\n",
    "    ]\n",
    "    ax.legend(handles=line_type_handles, title=\"Values\", loc=\"lower right\")\n",
    "\n",
    "axes[-1].set_xlabel(\"\")\n",
    "\n",
    "plt.suptitle(\"Quote Distribution by Political Affiliation\\nRelative Residuals (%)\")\n",
    "plt.tight_layout()\n",
    "plt.savefig(\"output/nuances_rel_graph.png\", dpi=300, bbox_inches='tight')\n",
    "plt.show()"
   ]
  },
  {
   "cell_type": "markdown",
   "id": "e3793999-343e-4856-b60f-dc18e75693e5",
   "metadata": {},
   "source": [
    "On ne voit pas apparaître de tendance manifestement favorable à l'extrême droite."
   ]
  },
  {
   "cell_type": "markdown",
   "id": "cc5d2dfa-8ce0-4880-b0a0-b88660995b2f",
   "metadata": {},
   "source": [
    "## Selon les journaux"
   ]
  },
  {
   "cell_type": "code",
   "execution_count": null,
   "id": "c621e895-c175-4179-b23b-08c624b6ec29",
   "metadata": {},
   "outputs": [],
   "source": [
    "model_data['y_pred'] = model.predict(model_data[[\"na_share\", \"government\", \"pres_votes_share\", \"leg_votes_share\"]])\n",
    "model_data['rel_residuals'] = 100 * (model_data[outcome] - model_data['y_pred']) / model_data[outcome]"
   ]
  },
  {
   "cell_type": "code",
   "execution_count": null,
   "id": "71e6ccd2-e339-4c3c-8970-07d4442c3125",
   "metadata": {},
   "outputs": [],
   "source": [
    "summary = []\n",
    "\n",
    "for journal in model_data['journal'].unique():\n",
    "    subset_data = model_data[model_data['journal'] == journal]\n",
    "    y = subset_data[outcome]\n",
    "    y_pred = subset_data['y_pred']\n",
    "    mape = mean_ape(y, y_pred)\n",
    "    rmspe = root_mse(y, y_pred) / y.mean()\n",
    "    summary.append({\n",
    "        'Journal': journal,\n",
    "        'MAPE': mape,\n",
    "        'RMSPE': rmspe\n",
    "    })\n",
    "\n",
    "pd.DataFrame(summary).style.hide(axis=0)"
   ]
  },
  {
   "cell_type": "code",
   "execution_count": null,
   "id": "f6321ae5-94fd-4518-8a0a-1d177a3e9b66",
   "metadata": {},
   "outputs": [],
   "source": [
    "plot_data = model_data.copy()\n",
    "plot_data['month'] = plot_data['month'].dt.to_timestamp()\n",
    "\n",
    "colors = {\n",
    "    'Le Figaro': 'goldenrod',\n",
    "    'Libération': 'limegreen',\n",
    "    'Le Monde': 'orchid',\n",
    "    'La Croix': 'skyblue',\n",
    "    'Médiapart': 'crimson'}\n",
    "\n",
    "alignments = [\n",
    "    \"Far right\",\n",
    "    \"Right\",\n",
    "    \"Center\",\n",
    "    \"Left\",\n",
    "    \"Far left\"]\n",
    "n_alignments = len(alignments)"
   ]
  },
  {
   "cell_type": "code",
   "execution_count": null,
   "id": "a7479b96-184e-4ed0-9528-39c29b3767a2",
   "metadata": {},
   "outputs": [],
   "source": [
    "fig, axes = plt.subplots(n_alignments, 1, figsize=(16, 4 * n_alignments), sharex=True)\n",
    "\n",
    "for i, alignment in enumerate(alignments):\n",
    "    ax = axes[i]\n",
    "    subset_data = plot_data[plot_data['political_alignment'] == alignment]\n",
    "\n",
    "    for journal in subset_data['journal'].unique():\n",
    "        if journal == 'Médiapart': continue\n",
    "        sub_subset_data = subset_data[subset_data['journal'] == journal].copy()\n",
    "        sub_subset_data['MA'] = sub_subset_data[outcome].rolling(window=12).mean()\n",
    "        ax.plot(sub_subset_data['month'], sub_subset_data[outcome], label=journal,\n",
    "                alpha=0.7, color=colors[journal], linestyle='-')\n",
    "\n",
    "    ax.plot(subset_data['month'], subset_data['y_pred'], color='black', alpha=0.8, linestyle='dotted')\n",
    "    ax.set_title(f\"{alignment}\")\n",
    "    ax.legend()\n",
    "\n",
    "plt.suptitle(\"\"\"\n",
    "Quote Distribution by Political Affiliation and Journal\\n\n",
    "Observed vs. Predicted Values\n",
    "\"\"\")\n",
    "plt.tight_layout()\n",
    "plt.savefig(\"output/journals_val_graph.png\", dpi=300, bbox_inches='tight')\n",
    "plt.show()"
   ]
  },
  {
   "cell_type": "code",
   "execution_count": null,
   "id": "a920d2f4-2e7e-4aa5-b57b-5122463da028",
   "metadata": {},
   "outputs": [],
   "source": [
    "alignments = [\n",
    "    \"Far right\",\n",
    "    \"Right\",\n",
    "    \"Center\",\n",
    "    \"Left\",\n",
    "    \"Far left\"\n",
    "]\n",
    "n_alignments = len(alignments)\n",
    "\n",
    "fig, axes = plt.subplots(n_alignments, 1, figsize=(16, 4 * n_alignments), sharex=True)\n",
    "\n",
    "for i, alignment in enumerate(alignments):\n",
    "    ax = axes[i]\n",
    "    subset_data = plot_data[plot_data['political_alignment'] == alignment]\n",
    "\n",
    "    for journal in subset_data['journal'].unique():\n",
    "        sub_subset_data = subset_data[subset_data['journal'] == journal].copy()\n",
    "        sub_subset_data['MA'] = sub_subset_data['rel_residuals'].rolling(window=12).mean()\n",
    "        ax.plot(sub_subset_data['month'], sub_subset_data['MA'], label=journal,\n",
    "                alpha=0.7, color=colors[journal], linestyle='-')\n",
    "\n",
    "    ax.plot(subset_data['month'], subset_data['y_pred'], color='black', alpha=0.8, linestyle='dotted')\n",
    "    ax.set_title(f\"{alignment}\")\n",
    "    ax.legend()\n",
    "\n",
    "plt.suptitle(\"\"\"\n",
    "Quote Distribution by Political Affiliation and Journal\\n\n",
    "Relative Residuals (%) - 12 months moving averages\n",
    "\"\"\")\n",
    "plt.tight_layout()\n",
    "plt.savefig(\"output/journals_rel_graph.png\", dpi=300, bbox_inches='tight')\n",
    "plt.show()"
   ]
  },
  {
   "cell_type": "markdown",
   "id": "59452c79-0ec2-40f0-bd44-5d59a81fdc0a",
   "metadata": {},
   "source": [
    "Les comportements des différents journaux relativement à l'extrême droite s'avèrent très proches."
   ]
  }
 ],
 "metadata": {
  "kernelspec": {
   "display_name": "Python 3 (ipykernel)",
   "language": "python",
   "name": "python3"
  },
  "language_info": {
   "codemirror_mode": {
    "name": "ipython",
    "version": 3
   },
   "file_extension": ".py",
   "mimetype": "text/x-python",
   "name": "python",
   "nbconvert_exporter": "python",
   "pygments_lexer": "ipython3",
   "version": "3.12.9"
  }
 },
 "nbformat": 4,
 "nbformat_minor": 5
}
