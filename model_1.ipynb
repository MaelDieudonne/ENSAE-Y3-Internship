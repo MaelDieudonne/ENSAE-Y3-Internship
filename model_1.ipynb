{
 "cells": [
  {
   "cell_type": "code",
   "execution_count": 1,
   "id": "4828c685-2e56-4467-aa8e-f6a254eb2f57",
   "metadata": {},
   "outputs": [],
   "source": [
    "import pandas as pd\n",
    "import statsmodels.api as sm\n",
    "import statsmodels.formula.api as smf\n",
    "\n",
    "from sklearn.metrics import r2_score"
   ]
  },
  {
   "cell_type": "code",
   "execution_count": 2,
   "id": "bbdfb5f2-893b-4b63-9f5b-14eab05c7617",
   "metadata": {},
   "outputs": [],
   "source": [
    "model_data_no_journal = pd.read_parquet(\"data/model_data_no_journal.parquet\")\n",
    "model_data_no_journal = model_data_no_journal[model_data_no_journal['political_alignment'] != 'autre']\n",
    "model_data_no_journal['next_pres_votes_share'] = model_data_no_journal['pres_dummy'] * model_data_no_journal['pres_votes_share']\n",
    "model_data_no_journal[\"election_year\"] = model_data_no_journal[\"last_pres\"].dt.year\n",
    "model_data_no_journal[\"decade\"] = (model_data_no_journal[\"month\"].dt.year // 10) * 10\n",
    "model_data_no_journal['europ_votes_share_dum'] = (model_data_no_journal['europ_votes_share'] * model_data_no_journal['europ_dummy']).fillna(0)\n",
    "\n",
    "model_data = pd.read_parquet(\"data/model_data.parquet\")\n",
    "model_data = model_data[model_data['political_alignment'] != 'autre']\n",
    "model_data['next_pres_votes_share'] = model_data['pres_dummy'] * model_data['pres_votes_share']\n",
    "model_data[\"election_year\"] = model_data[\"last_election\"].dt.year\n",
    "model_data[\"decade\"] = (model_data[\"month\"].dt.year // 10) * 10\n",
    "model_data['europ_votes_share_dum'] = (model_data['europ_votes_share'] * model_data_no_journal['europ_dummy']).fillna(0)"
   ]
  },
  {
   "cell_type": "code",
   "execution_count": 3,
   "id": "bca52523-618a-4e21-9e03-d6875f672f15",
   "metadata": {},
   "outputs": [],
   "source": [
    "outcome = \"quotes_nb\""
   ]
  },
  {
   "cell_type": "markdown",
   "id": "1605430b-7bd7-4657-bdd8-7e4c927c48cd",
   "metadata": {},
   "source": [
    "# Tentative de modélisation directe du nombre de citations"
   ]
  },
  {
   "cell_type": "code",
   "execution_count": 4,
   "id": "208f711b-0dbb-408d-960a-e1e7da412006",
   "metadata": {},
   "outputs": [
    {
     "name": "stdout",
     "output_type": "stream",
     "text": [
      "R2: 58.32%\n",
      "\n"
     ]
    },
    {
     "data": {
      "text/html": [
       "<style type=\"text/css\">\n",
       "</style>\n",
       "<table id=\"T_bec1d\">\n",
       "  <thead>\n",
       "    <tr>\n",
       "      <th class=\"blank level0\" >&nbsp;</th>\n",
       "      <th id=\"T_bec1d_level0_col0\" class=\"col_heading level0 col0\" >coef</th>\n",
       "      <th id=\"T_bec1d_level0_col1\" class=\"col_heading level0 col1\" >pval</th>\n",
       "    </tr>\n",
       "  </thead>\n",
       "  <tbody>\n",
       "    <tr>\n",
       "      <th id=\"T_bec1d_level0_row0\" class=\"row_heading level0 row0\" >Intercept</th>\n",
       "      <td id=\"T_bec1d_row0_col0\" class=\"data row0 col0\" >-477.079332</td>\n",
       "      <td id=\"T_bec1d_row0_col1\" class=\"data row0 col1\" >0.000000</td>\n",
       "    </tr>\n",
       "    <tr>\n",
       "      <th id=\"T_bec1d_level0_row1\" class=\"row_heading level0 row1\" >C(election_year)[T.1988]</th>\n",
       "      <td id=\"T_bec1d_row1_col0\" class=\"data row1 col0\" >368.949823</td>\n",
       "      <td id=\"T_bec1d_row1_col1\" class=\"data row1 col1\" >0.000000</td>\n",
       "    </tr>\n",
       "    <tr>\n",
       "      <th id=\"T_bec1d_level0_row2\" class=\"row_heading level0 row2\" >C(election_year)[T.1995]</th>\n",
       "      <td id=\"T_bec1d_row2_col0\" class=\"data row2 col0\" >811.079678</td>\n",
       "      <td id=\"T_bec1d_row2_col1\" class=\"data row2 col1\" >0.000000</td>\n",
       "    </tr>\n",
       "    <tr>\n",
       "      <th id=\"T_bec1d_level0_row3\" class=\"row_heading level0 row3\" >C(election_year)[T.2002]</th>\n",
       "      <td id=\"T_bec1d_row3_col0\" class=\"data row3 col0\" >914.501359</td>\n",
       "      <td id=\"T_bec1d_row3_col1\" class=\"data row3 col1\" >0.000000</td>\n",
       "    </tr>\n",
       "    <tr>\n",
       "      <th id=\"T_bec1d_level0_row4\" class=\"row_heading level0 row4\" >C(election_year)[T.2007]</th>\n",
       "      <td id=\"T_bec1d_row4_col0\" class=\"data row4 col0\" >1176.823893</td>\n",
       "      <td id=\"T_bec1d_row4_col1\" class=\"data row4 col1\" >0.000000</td>\n",
       "    </tr>\n",
       "    <tr>\n",
       "      <th id=\"T_bec1d_level0_row5\" class=\"row_heading level0 row5\" >C(election_year)[T.2012]</th>\n",
       "      <td id=\"T_bec1d_row5_col0\" class=\"data row5 col0\" >1161.823409</td>\n",
       "      <td id=\"T_bec1d_row5_col1\" class=\"data row5 col1\" >0.000000</td>\n",
       "    </tr>\n",
       "    <tr>\n",
       "      <th id=\"T_bec1d_level0_row6\" class=\"row_heading level0 row6\" >C(election_year)[T.2017]</th>\n",
       "      <td id=\"T_bec1d_row6_col0\" class=\"data row6 col0\" >779.721478</td>\n",
       "      <td id=\"T_bec1d_row6_col1\" class=\"data row6 col1\" >0.000000</td>\n",
       "    </tr>\n",
       "    <tr>\n",
       "      <th id=\"T_bec1d_level0_row7\" class=\"row_heading level0 row7\" >C(election_year)[T.2022]</th>\n",
       "      <td id=\"T_bec1d_row7_col0\" class=\"data row7 col0\" >1062.477937</td>\n",
       "      <td id=\"T_bec1d_row7_col1\" class=\"data row7 col1\" >0.000000</td>\n",
       "    </tr>\n",
       "    <tr>\n",
       "      <th id=\"T_bec1d_level0_row8\" class=\"row_heading level0 row8\" >journal[T.Le Figaro]</th>\n",
       "      <td id=\"T_bec1d_row8_col0\" class=\"data row8 col0\" >1112.743415</td>\n",
       "      <td id=\"T_bec1d_row8_col1\" class=\"data row8 col1\" >0.000000</td>\n",
       "    </tr>\n",
       "    <tr>\n",
       "      <th id=\"T_bec1d_level0_row9\" class=\"row_heading level0 row9\" >journal[T.Le Monde]</th>\n",
       "      <td id=\"T_bec1d_row9_col0\" class=\"data row9 col0\" >1424.119905</td>\n",
       "      <td id=\"T_bec1d_row9_col1\" class=\"data row9 col1\" >0.000000</td>\n",
       "    </tr>\n",
       "    <tr>\n",
       "      <th id=\"T_bec1d_level0_row10\" class=\"row_heading level0 row10\" >journal[T.Libération]</th>\n",
       "      <td id=\"T_bec1d_row10_col0\" class=\"data row10 col0\" >920.540590</td>\n",
       "      <td id=\"T_bec1d_row10_col1\" class=\"data row10 col1\" >0.000000</td>\n",
       "    </tr>\n",
       "    <tr>\n",
       "      <th id=\"T_bec1d_level0_row11\" class=\"row_heading level0 row11\" >journal[T.Médiapart]</th>\n",
       "      <td id=\"T_bec1d_row11_col0\" class=\"data row11 col0\" >-232.436911</td>\n",
       "      <td id=\"T_bec1d_row11_col1\" class=\"data row11 col1\" >0.000000</td>\n",
       "    </tr>\n",
       "    <tr>\n",
       "      <th id=\"T_bec1d_level0_row12\" class=\"row_heading level0 row12\" >leg_votes_share</th>\n",
       "      <td id=\"T_bec1d_row12_col0\" class=\"data row12 col0\" >-569.584808</td>\n",
       "      <td id=\"T_bec1d_row12_col1\" class=\"data row12 col1\" >0.005710</td>\n",
       "    </tr>\n",
       "    <tr>\n",
       "      <th id=\"T_bec1d_level0_row13\" class=\"row_heading level0 row13\" >government</th>\n",
       "      <td id=\"T_bec1d_row13_col0\" class=\"data row13 col0\" >83.516761</td>\n",
       "      <td id=\"T_bec1d_row13_col1\" class=\"data row13 col1\" >0.029461</td>\n",
       "    </tr>\n",
       "    <tr>\n",
       "      <th id=\"T_bec1d_level0_row14\" class=\"row_heading level0 row14\" >europ_votes_share_dum</th>\n",
       "      <td id=\"T_bec1d_row14_col0\" class=\"data row14 col0\" >2.451655</td>\n",
       "      <td id=\"T_bec1d_row14_col1\" class=\"data row14 col1\" >0.000961</td>\n",
       "    </tr>\n",
       "  </tbody>\n",
       "</table>\n"
      ],
      "text/plain": [
       "<pandas.io.formats.style.Styler at 0x7fb437034e60>"
      ]
     },
     "execution_count": 4,
     "metadata": {},
     "output_type": "execute_result"
    }
   ],
   "source": [
    "model = smf.ols(f\"{outcome} ~ C(election_year) + journal + political_alignment + na_share + leg_votes_share + pres_votes_share + government + europ_votes_share_dum\", \n",
    "                data=model_data).fit(cov_type='HC3')\n",
    "y = model_data[outcome]\n",
    "y_pred = model.predict(model_data)\n",
    "\n",
    "r2 = r2_score(y, y_pred)\n",
    "print(f\"R2: {100*r2:.2f}%\")\n",
    "print(\"\")\n",
    "\n",
    "params = model.params.rename(\"coef\").to_frame()\n",
    "pvalues = model.pvalues.rename(\"pval\").to_frame()\n",
    "results = pd.merge(params, pvalues, left_index=True, right_index=True)\n",
    "results = results[results['pval'] <= 0.05]\n",
    "results.style"
   ]
  },
  {
   "cell_type": "markdown",
   "id": "91302648-fb04-43e2-a858-ce3e75ded522",
   "metadata": {},
   "source": [
    "On se heurte à la difficulté prévue : la tendance étant forte et indépendante des régresseurs, les effets fixes capturent l'essentiel de la dynamique. Les coefficients des régresseurs sont à la limite de la significativité, et pas forcément interprétables..."
   ]
  },
  {
   "cell_type": "code",
   "execution_count": 5,
   "id": "137c4682-3c2c-4723-b073-12ada81bcab0",
   "metadata": {},
   "outputs": [
    {
     "name": "stdout",
     "output_type": "stream",
     "text": [
      "R2: 58.58%\n",
      "\n"
     ]
    },
    {
     "data": {
      "text/html": [
       "<style type=\"text/css\">\n",
       "</style>\n",
       "<table id=\"T_0052d\">\n",
       "  <thead>\n",
       "    <tr>\n",
       "      <th class=\"blank level0\" >&nbsp;</th>\n",
       "      <th id=\"T_0052d_level0_col0\" class=\"col_heading level0 col0\" >coef</th>\n",
       "      <th id=\"T_0052d_level0_col1\" class=\"col_heading level0 col1\" >pval</th>\n",
       "    </tr>\n",
       "  </thead>\n",
       "  <tbody>\n",
       "    <tr>\n",
       "      <th id=\"T_0052d_level0_row0\" class=\"row_heading level0 row0\" >C(election_year)[2002]</th>\n",
       "      <td id=\"T_0052d_row0_col0\" class=\"data row0 col0\" >405.032270</td>\n",
       "      <td id=\"T_0052d_row0_col1\" class=\"data row0 col1\" >0.007677</td>\n",
       "    </tr>\n",
       "    <tr>\n",
       "      <th id=\"T_0052d_level0_row1\" class=\"row_heading level0 row1\" >C(election_year)[2007]</th>\n",
       "      <td id=\"T_0052d_row1_col0\" class=\"data row1 col0\" >948.334900</td>\n",
       "      <td id=\"T_0052d_row1_col1\" class=\"data row1 col1\" >0.000000</td>\n",
       "    </tr>\n",
       "    <tr>\n",
       "      <th id=\"T_0052d_level0_row2\" class=\"row_heading level0 row2\" >C(election_year)[2012]</th>\n",
       "      <td id=\"T_0052d_row2_col0\" class=\"data row2 col0\" >583.289292</td>\n",
       "      <td id=\"T_0052d_row2_col1\" class=\"data row2 col1\" >0.000000</td>\n",
       "    </tr>\n",
       "    <tr>\n",
       "      <th id=\"T_0052d_level0_row3\" class=\"row_heading level0 row3\" >journal[T.Le Figaro]</th>\n",
       "      <td id=\"T_0052d_row3_col0\" class=\"data row3 col0\" >1113.130305</td>\n",
       "      <td id=\"T_0052d_row3_col1\" class=\"data row3 col1\" >0.000000</td>\n",
       "    </tr>\n",
       "    <tr>\n",
       "      <th id=\"T_0052d_level0_row4\" class=\"row_heading level0 row4\" >journal[T.Le Monde]</th>\n",
       "      <td id=\"T_0052d_row4_col0\" class=\"data row4 col0\" >1422.362050</td>\n",
       "      <td id=\"T_0052d_row4_col1\" class=\"data row4 col1\" >0.000000</td>\n",
       "    </tr>\n",
       "    <tr>\n",
       "      <th id=\"T_0052d_level0_row5\" class=\"row_heading level0 row5\" >journal[T.Libération]</th>\n",
       "      <td id=\"T_0052d_row5_col0\" class=\"data row5 col0\" >919.115584</td>\n",
       "      <td id=\"T_0052d_row5_col1\" class=\"data row5 col1\" >0.000000</td>\n",
       "    </tr>\n",
       "    <tr>\n",
       "      <th id=\"T_0052d_level0_row6\" class=\"row_heading level0 row6\" >journal[T.Médiapart]</th>\n",
       "      <td id=\"T_0052d_row6_col0\" class=\"data row6 col0\" >-235.213406</td>\n",
       "      <td id=\"T_0052d_row6_col1\" class=\"data row6 col1\" >0.000000</td>\n",
       "    </tr>\n",
       "    <tr>\n",
       "      <th id=\"T_0052d_level0_row7\" class=\"row_heading level0 row7\" >leg_votes_share</th>\n",
       "      <td id=\"T_0052d_row7_col0\" class=\"data row7 col0\" >-1179.657423</td>\n",
       "      <td id=\"T_0052d_row7_col1\" class=\"data row7 col1\" >0.002709</td>\n",
       "    </tr>\n",
       "    <tr>\n",
       "      <th id=\"T_0052d_level0_row8\" class=\"row_heading level0 row8\" >government</th>\n",
       "      <td id=\"T_0052d_row8_col0\" class=\"data row8 col0\" >337.241193</td>\n",
       "      <td id=\"T_0052d_row8_col1\" class=\"data row8 col1\" >0.014448</td>\n",
       "    </tr>\n",
       "  </tbody>\n",
       "</table>\n"
      ],
      "text/plain": [
       "<pandas.io.formats.style.Styler at 0x7fb4352fb3b0>"
      ]
     },
     "execution_count": 5,
     "metadata": {},
     "output_type": "execute_result"
    }
   ],
   "source": [
    "model = smf.ols(f\"{outcome} ~ C(election_year) * political_alignment + na_share + journal + leg_votes_share + pres_votes_share + government - 1\", \n",
    "                data=model_data).fit(cov_type='HC3')\n",
    "y = model_data[outcome]\n",
    "y_pred = model.predict(model_data)\n",
    "\n",
    "r2 = r2_score(y, y_pred)\n",
    "print(f\"R2: {100*r2:.2f}%\")\n",
    "print(\"\")\n",
    "\n",
    "params = model.params.rename(\"coef\").to_frame()\n",
    "pvalues = model.pvalues.rename(\"pval\").to_frame()\n",
    "results = pd.merge(params, pvalues, left_index=True, right_index=True)\n",
    "results = results[results['pval'] <= 0.05]\n",
    "results.style"
   ]
  },
  {
   "cell_type": "markdown",
   "id": "06282c90-8571-41e7-af13-745f11a942bc",
   "metadata": {},
   "source": [
    "L'ajout de termes d'interaction, qui permettraient de refléter une éventuelle normalisation de l'extrême droite, ne modifie pas les résultats."
   ]
  }
 ],
 "metadata": {
  "kernelspec": {
   "display_name": "Python 3 (ipykernel)",
   "language": "python",
   "name": "python3"
  },
  "language_info": {
   "codemirror_mode": {
    "name": "ipython",
    "version": 3
   },
   "file_extension": ".py",
   "mimetype": "text/x-python",
   "name": "python",
   "nbconvert_exporter": "python",
   "pygments_lexer": "ipython3",
   "version": "3.12.9"
  }
 },
 "nbformat": 4,
 "nbformat_minor": 5
}
