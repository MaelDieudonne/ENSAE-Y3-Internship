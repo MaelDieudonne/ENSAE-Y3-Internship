{
 "cells": [
  {
   "cell_type": "code",
   "execution_count": null,
   "id": "4828c685-2e56-4467-aa8e-f6a254eb2f57",
   "metadata": {},
   "outputs": [],
   "source": [
    "import pandas as pd\n",
    "import statsmodels.api as sm\n",
    "import statsmodels.formula.api as smf\n",
    "\n",
    "from sklearn.metrics import r2_score"
   ]
  },
  {
   "cell_type": "code",
   "execution_count": null,
   "id": "bbdfb5f2-893b-4b63-9f5b-14eab05c7617",
   "metadata": {},
   "outputs": [],
   "source": [
    "model_data_no_journal = pd.read_parquet(\"data/model_data_no_journal.parquet\")\n",
    "model_data_no_journal = model_data_no_journal[model_data_no_journal['political_alignment'] != 'autre']\n",
    "model_data_no_journal['next_pres_votes_share'] = model_data_no_journal['pres_dummy'] * model_data_no_journal['pres_votes_share']\n",
    "model_data_no_journal[\"election_year\"] = model_data_no_journal[\"last_election\"].dt.year\n",
    "model_data_no_journal[\"decade\"] = (model_data_no_journal[\"month\"].dt.year // 10) * 10\n",
    "\n",
    "model_data = pd.read_parquet(\"data/model_data.parquet\")\n",
    "model_data = model_data[model_data['political_alignment'] != 'autre']\n",
    "model_data['next_pres_votes_share'] = model_data['pres_dummy'] * model_data['pres_votes_share']\n",
    "model_data[\"election_year\"] = model_data[\"last_election\"].dt.year\n",
    "model_data[\"decade\"] = (model_data[\"month\"].dt.year // 10) * 10"
   ]
  },
  {
   "cell_type": "code",
   "execution_count": null,
   "id": "bca52523-618a-4e21-9e03-d6875f672f15",
   "metadata": {},
   "outputs": [],
   "source": [
    "outcome = \"quotes_nb\""
   ]
  },
  {
   "cell_type": "markdown",
   "id": "1605430b-7bd7-4657-bdd8-7e4c927c48cd",
   "metadata": {},
   "source": [
    "Tentative de modélisation directe du nombre de citations."
   ]
  },
  {
   "cell_type": "code",
   "execution_count": null,
   "id": "208f711b-0dbb-408d-960a-e1e7da412006",
   "metadata": {},
   "outputs": [],
   "source": [
    "model = smf.ols(f\"{outcome} ~ C(election_year) + journal + political_alignment + na_share + leg_votes_share + pres_votes_share + government\", \n",
    "                data=model_data).fit(cov_type='HC3')\n",
    "y = model_data[outcome]\n",
    "y_pred = model.predict(model_data)\n",
    "\n",
    "r2 = r2_score(y, y_pred)\n",
    "print(f\"R2: {100*r2:.2f}%\")\n",
    "print(\"\")\n",
    "\n",
    "params = model.params.rename(\"coef\").to_frame()\n",
    "pvalues = model.pvalues.rename(\"pval\").to_frame()\n",
    "results = pd.merge(params, pvalues, left_index=True, right_index=True)\n",
    "results = results[results['pval'] <= 0.05]\n",
    "results.style"
   ]
  },
  {
   "cell_type": "markdown",
   "id": "91302648-fb04-43e2-a858-ce3e75ded522",
   "metadata": {},
   "source": [
    "On se heurte à la difficulté prévue : la tendance étant forte et indépendante des régresseurs, les effets fixes capturent l'essentiel de la dynamique. Les coefficients des régresseurs sont à la limite de la significativité, et pas forcément interprétables..."
   ]
  },
  {
   "cell_type": "code",
   "execution_count": null,
   "id": "137c4682-3c2c-4723-b073-12ada81bcab0",
   "metadata": {},
   "outputs": [],
   "source": [
    "model = smf.ols(f\"{outcome} ~ C(election_year) * political_alignment + na_share + journal + leg_votes_share + pres_votes_share + government - 1\", \n",
    "                data=model_data).fit(cov_type='HC3')\n",
    "y = model_data[outcome]\n",
    "y_pred = model.predict(model_data)\n",
    "\n",
    "r2 = r2_score(y, y_pred)\n",
    "print(f\"R2: {100*r2:.2f}%\")\n",
    "print(\"\")\n",
    "\n",
    "params = model.params.rename(\"coef\").to_frame()\n",
    "pvalues = model.pvalues.rename(\"pval\").to_frame()\n",
    "results = pd.merge(params, pvalues, left_index=True, right_index=True)\n",
    "results = results[results['pval'] <= 0.05]\n",
    "results.style"
   ]
  },
  {
   "cell_type": "markdown",
   "id": "06282c90-8571-41e7-af13-745f11a942bc",
   "metadata": {},
   "source": [
    "L'ajout de termes d'interaction, qui permettraient de refléter une éventuelle normalisation de l'extrême droite, ne modifie pas les résultats."
   ]
  }
 ],
 "metadata": {
  "kernelspec": {
   "display_name": "Python 3 (ipykernel)",
   "language": "python",
   "name": "python3"
  },
  "language_info": {
   "codemirror_mode": {
    "name": "ipython",
    "version": 3
   },
   "file_extension": ".py",
   "mimetype": "text/x-python",
   "name": "python",
   "nbconvert_exporter": "python",
   "pygments_lexer": "ipython3",
   "version": "3.12.9"
  }
 },
 "nbformat": 4,
 "nbformat_minor": 5
}
