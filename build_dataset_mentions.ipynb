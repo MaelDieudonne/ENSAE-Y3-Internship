{
 "cells": [
  {
   "cell_type": "code",
   "execution_count": 1,
   "id": "b711356e-62e9-40d1-90aa-ebd27a189a49",
   "metadata": {},
   "outputs": [],
   "source": [
    "import itertools\n",
    "import matplotlib.pyplot as plt\n",
    "import numpy as np\n",
    "import os\n",
    "import pandas as pd\n",
    "import seaborn as sns\n",
    "\n",
    "from functools import reduce"
   ]
  },
  {
   "cell_type": "markdown",
   "id": "4f663c8b-7d93-4075-8a15-9840754d714d",
   "metadata": {},
   "source": [
    "## 1. Outcomes"
   ]
  },
  {
   "cell_type": "code",
   "execution_count": 2,
   "id": "fa337ee8-e184-479a-9abc-6730997cf4c2",
   "metadata": {
    "scrolled": true
   },
   "outputs": [],
   "source": [
    "mentions_quotes = pd.read_parquet(\"articles_quotes_mentions_med_1981-2025.parquet\")"
   ]
  },
  {
   "cell_type": "code",
   "execution_count": 3,
   "id": "29e16a8e-f15c-4149-a471-a6f62fdbac26",
   "metadata": {
    "scrolled": true
   },
   "outputs": [],
   "source": [
    "# Translate political nuances\n",
    "def map_political_alignment(df, col='political_alignment'):\n",
    "    mapping = {\n",
    "        'centredroite_droite': 'Right',\n",
    "        'centregauche_gauche': 'Left',\n",
    "        'extremegauche_gaucheradicale': 'Far left',\n",
    "        'centre': 'Center',\n",
    "        'extremedroite_droiteradicale': 'Far right',\n",
    "        'autre': 'Other'\n",
    "    }\n",
    "    df[col] = df[col].replace(mapping)\n",
    "    return df\n",
    "\n",
    "# Select alignments\n",
    "valid_alignments = ['Far right', 'Right', 'Center', 'Left', 'Far left', 'Other']\n",
    "\n",
    "# Rename journals\n",
    "mentions_quotes['journal'] = mentions_quotes['journal'].replace('Mediapart', 'Médiapart')\n",
    "\n",
    "# Convert date to datetime if it isn't already\n",
    "if not pd.api.types.is_datetime64_any_dtype(mentions_quotes['date']):\n",
    "    mentions_quotes['date'] = pd.to_datetime(mentions_quotes['date'])\n",
    "\n",
    "# Extract month from date\n",
    "mentions_quotes['month'] = mentions_quotes['date'].dt.to_period('M')"
   ]
  },
  {
   "cell_type": "markdown",
   "id": "2ea7072e-659d-4783-ab7c-e8b4ed5a2bed",
   "metadata": {},
   "source": [
    "Les données ne portent pas sur les mentions mais sur les personnes mentionnées ou citées.\n",
    "1. Comment les personnes mentionnées ou citées se répartissent-elles entre les nuances politiques ?\n",
    "2. Quelle est la probabilité, pour les personnes d'une nuance politique, d'être citées dans un article = proportion des articles citant des personnes de chaque nuance (plus de compositionnalité car toutes les nuances peuvent être citées / mentionnées dans chaque article)\n",
    "3. Proportion des articles citant au moins 1 fois chaque nuance politique\n",
    "\n",
    "Pour 1., il faut construire 3 bases :\n",
    "- Des personnes mentionnées chaque mois\n",
    "- Des personnes citées chaque mois\n",
    "- Des personnes mentionnées ou citées chaque mois => avec deux indicatrices, pour les mentions et les citations"
   ]
  },
  {
   "cell_type": "markdown",
   "id": "e3031bab-6d9c-4d12-b16d-cb48ad55cdee",
   "metadata": {},
   "source": [
    "## Citations"
   ]
  },
  {
   "cell_type": "code",
   "execution_count": 4,
   "id": "0468371d-a238-49b2-922a-3fa9b1f4ae9b",
   "metadata": {
    "scrolled": true
   },
   "outputs": [],
   "source": [
    "# Build a dataset where rows correspond to quoted persons\n",
    "## Create a df with one row for each item in the 'quoted_people' dictionnary\n",
    "single_quotes = mentions_quotes.explode('quoted_people')\n",
    "\n",
    "## Create another df with one column for each key in the 'quoted_people' dictionnary\n",
    "quotes_data = pd.json_normalize(single_quotes['quoted_people'])\n",
    "quotes_data = quotes_data.reset_index(drop=True)\n",
    "quotes_data = quotes_data[['Alignement', 'FirstLastName']]\n",
    "quotes_data.rename(columns={'Alignement': 'political_alignment'}, inplace=True)\n",
    "quotes_data = map_political_alignment(quotes_data)\n",
    "\n",
    "## Merge the datasets\n",
    "single_quotes = single_quotes[['journal', 'month']].reset_index(drop=True)\n",
    "quotes = pd.concat([single_quotes, quotes_data], axis=1)\n",
    "\n",
    "## Select relevant columns and rows\n",
    "quotes = quotes[quotes['political_alignment'].isin(valid_alignments)]\n",
    "quotes = quotes.dropna(subset=['FirstLastName'])  # Remove article without quotes\n",
    "\n",
    "## Count the number of quotations for each person and remove duplicated rows\n",
    "quotes_counts = (\n",
    "    quotes.groupby(['month', 'journal', 'FirstLastName'])\n",
    "    .size()\n",
    "    .reset_index(name='quotes'))\n",
    "quotes = quotes.drop_duplicates()\n",
    "quotes = quotes.merge(quotes_counts, on=['journal', 'month', 'FirstLastName'])"
   ]
  },
  {
   "cell_type": "markdown",
   "id": "920f175d-3bbc-4459-9963-92c6d5d6ab9a",
   "metadata": {},
   "source": [
    "## Mentions"
   ]
  },
  {
   "cell_type": "code",
   "execution_count": 5,
   "id": "b434c92b-89d9-4162-8d20-2397200ff557",
   "metadata": {},
   "outputs": [],
   "source": [
    "# Build a dataset where rows correspond to mentionned persons\n",
    "## Create a df with one row for each item in the 'mentionned_people' dictionnary\n",
    "single_mentions = mentions_quotes.explode('mentioned_people')\n",
    "\n",
    "## Create another df with one column for each key in the 'quoted_people' dictionnary\n",
    "mentions_data = pd.json_normalize(single_mentions['mentioned_people'])\n",
    "mentions_data = mentions_data.reset_index(drop=True)\n",
    "mentions_data = mentions_data[['Alignement', 'FirstLastName']]\n",
    "mentions_data.rename(columns={'Alignement': 'political_alignment'}, inplace=True)\n",
    "mentions_data = map_political_alignment(mentions_data)\n",
    "\n",
    "## Merge the datasets\n",
    "single_mentions = single_mentions[['journal', 'month']].reset_index(drop=True)\n",
    "mentions = pd.concat([single_mentions, mentions_data], axis=1)\n",
    "\n",
    "## Select relevant columns and rows\n",
    "mentions = mentions[mentions['political_alignment'].isin(valid_alignments)]\n",
    "mentions = mentions.dropna(subset=['FirstLastName'])  # Remove article without mentions\n",
    "\n",
    "## Count the number of quotations for each person and remove duplicated rows\n",
    "mentions_counts = (\n",
    "    mentions.groupby(['month', 'journal', 'FirstLastName'])\n",
    "    .size()\n",
    "    .reset_index(name='mentions'))\n",
    "mentions = mentions.drop_duplicates()\n",
    "mentions = mentions.merge(mentions_counts, on=['journal', 'month', 'FirstLastName'])"
   ]
  },
  {
   "cell_type": "markdown",
   "id": "827e02d6-6fef-489d-8c2f-a75e84b36229",
   "metadata": {},
   "source": [
    "## Quotes and mentions"
   ]
  },
  {
   "cell_type": "code",
   "execution_count": 6,
   "id": "f965345c-2529-42d3-a6dc-9777237b6c9f",
   "metadata": {},
   "outputs": [],
   "source": [
    "evocations = pd.merge(quotes, mentions, on=['month', 'journal', 'political_alignment', 'FirstLastName'])"
   ]
  },
  {
   "cell_type": "code",
   "execution_count": 7,
   "id": "a92e23ab-a360-424b-b238-9687bb72b969",
   "metadata": {},
   "outputs": [
    {
     "data": {
      "text/html": [
       "<style type=\"text/css\">\n",
       "</style>\n",
       "<table id=\"T_0130a\">\n",
       "  <thead>\n",
       "    <tr>\n",
       "      <th class=\"blank level0\" >&nbsp;</th>\n",
       "      <th id=\"T_0130a_level0_col0\" class=\"col_heading level0 col0\" >quotes</th>\n",
       "      <th id=\"T_0130a_level0_col1\" class=\"col_heading level0 col1\" >mentions</th>\n",
       "      <th id=\"T_0130a_level0_col2\" class=\"col_heading level0 col2\" >ratio</th>\n",
       "    </tr>\n",
       "    <tr>\n",
       "      <th class=\"index_name level0\" >political_alignment</th>\n",
       "      <th class=\"blank col0\" >&nbsp;</th>\n",
       "      <th class=\"blank col1\" >&nbsp;</th>\n",
       "      <th class=\"blank col2\" >&nbsp;</th>\n",
       "    </tr>\n",
       "  </thead>\n",
       "  <tbody>\n",
       "    <tr>\n",
       "      <th id=\"T_0130a_level0_row0\" class=\"row_heading level0 row0\" >Center</th>\n",
       "      <td id=\"T_0130a_row0_col0\" class=\"data row0 col0\" >6.114</td>\n",
       "      <td id=\"T_0130a_row0_col1\" class=\"data row0 col1\" >13.612</td>\n",
       "      <td id=\"T_0130a_row0_col2\" class=\"data row0 col2\" >2.227</td>\n",
       "    </tr>\n",
       "    <tr>\n",
       "      <th id=\"T_0130a_level0_row1\" class=\"row_heading level0 row1\" >Far left</th>\n",
       "      <td id=\"T_0130a_row1_col0\" class=\"data row1 col0\" >3.248</td>\n",
       "      <td id=\"T_0130a_row1_col1\" class=\"data row1 col1\" >6.762</td>\n",
       "      <td id=\"T_0130a_row1_col2\" class=\"data row1 col2\" >2.082</td>\n",
       "    </tr>\n",
       "    <tr>\n",
       "      <th id=\"T_0130a_level0_row2\" class=\"row_heading level0 row2\" >Far right</th>\n",
       "      <td id=\"T_0130a_row2_col0\" class=\"data row2 col0\" >4.220</td>\n",
       "      <td id=\"T_0130a_row2_col1\" class=\"data row2 col1\" >11.948</td>\n",
       "      <td id=\"T_0130a_row2_col2\" class=\"data row2 col2\" >2.831</td>\n",
       "    </tr>\n",
       "    <tr>\n",
       "      <th id=\"T_0130a_level0_row3\" class=\"row_heading level0 row3\" >Left</th>\n",
       "      <td id=\"T_0130a_row3_col0\" class=\"data row3 col0\" >3.356</td>\n",
       "      <td id=\"T_0130a_row3_col1\" class=\"data row3 col1\" >8.227</td>\n",
       "      <td id=\"T_0130a_row3_col2\" class=\"data row3 col2\" >2.451</td>\n",
       "    </tr>\n",
       "    <tr>\n",
       "      <th id=\"T_0130a_level0_row4\" class=\"row_heading level0 row4\" >Other</th>\n",
       "      <td id=\"T_0130a_row4_col0\" class=\"data row4 col0\" >3.632</td>\n",
       "      <td id=\"T_0130a_row4_col1\" class=\"data row4 col1\" >10.156</td>\n",
       "      <td id=\"T_0130a_row4_col2\" class=\"data row4 col2\" >2.796</td>\n",
       "    </tr>\n",
       "    <tr>\n",
       "      <th id=\"T_0130a_level0_row5\" class=\"row_heading level0 row5\" >Right</th>\n",
       "      <td id=\"T_0130a_row5_col0\" class=\"data row5 col0\" >3.570</td>\n",
       "      <td id=\"T_0130a_row5_col1\" class=\"data row5 col1\" >9.269</td>\n",
       "      <td id=\"T_0130a_row5_col2\" class=\"data row5 col2\" >2.596</td>\n",
       "    </tr>\n",
       "  </tbody>\n",
       "</table>\n"
      ],
      "text/plain": [
       "<pandas.io.formats.style.Styler at 0x11d0e0d40>"
      ]
     },
     "execution_count": 7,
     "metadata": {},
     "output_type": "execute_result"
    }
   ],
   "source": [
    "stats = evocations.groupby(['political_alignment'])[['quotes', 'mentions']].mean()\n",
    "stats['ratio'] = stats['mentions'] / stats['quotes']\n",
    "stats.style.format({col: \"{:.3f}\" for col in stats.columns})"
   ]
  }
 ],
 "metadata": {
  "kernelspec": {
   "display_name": "Python 3 (ipykernel)",
   "language": "python",
   "name": "python3"
  },
  "language_info": {
   "codemirror_mode": {
    "name": "ipython",
    "version": 3
   },
   "file_extension": ".py",
   "mimetype": "text/x-python",
   "name": "python",
   "nbconvert_exporter": "python",
   "pygments_lexer": "ipython3",
   "version": "3.12.9"
  }
 },
 "nbformat": 4,
 "nbformat_minor": 5
}
