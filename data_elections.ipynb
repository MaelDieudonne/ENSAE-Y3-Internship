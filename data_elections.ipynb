{
 "cells": [
  {
   "cell_type": "code",
   "execution_count": null,
   "id": "618d97b4-d948-4029-a1a9-2965cd7eb4bd",
   "metadata": {},
   "outputs": [],
   "source": [
    "import numpy as np\n",
    "import os\n",
    "import pandas as pd\n",
    "import re\n",
    "import requests\n",
    "import shutil\n",
    "import zipfile\n",
    "import glob\n",
    "\n",
    "from tqdm import tqdm"
   ]
  },
  {
   "cell_type": "markdown",
   "id": "dd93d07f-41c7-4b6f-9b56-882dbde836c6",
   "metadata": {},
   "source": [
    "# Présidentielles et législatives\n",
    "D'après les données collationnées par Piketty et Cagé pour leur ouvrage *[Une histoire du conflit politique](https://unehistoireduconflitpolitique.fr/)*."
   ]
  },
  {
   "cell_type": "code",
   "execution_count": null,
   "id": "a2e85835-ac7f-4465-941e-849a314a9cc9",
   "metadata": {},
   "outputs": [],
   "source": [
    "def extract_strings_from_webpage(url):\n",
    "    response = requests.get(url) \n",
    "    if response.status_code == 200:\n",
    "        strings = re.findall(r'\"([^\"]*)\"', response.text)\n",
    "        return strings\n",
    "    else:\n",
    "        print(f'Failed to fetch the webpage. Status code: {response.status_code}')\n",
    "        return []\n",
    "\n",
    "webpage_url = 'https://unehistoireduconflitpolitique.fr/telecharger.html'\n",
    "extracted_strings = extract_strings_from_webpage(webpage_url)\n",
    "download_links = [item for item in extracted_strings if item.endswith('dta.zip') or item.endswith('dta.zip')]\n",
    "print(f'Identified {len(download_links)} files to download.')"
   ]
  },
  {
   "cell_type": "code",
   "execution_count": null,
   "id": "c6a1e542-69ee-4aa8-9adc-560e0d7888a8",
   "metadata": {
    "scrolled": true
   },
   "outputs": [],
   "source": [
    "filtered_links = [\n",
    "    link for link in download_links \n",
    "    if ('pres' in link.lower() or 'leg' in link.lower()) \n",
    "    and any(int(match.group(1)) >= 1988 \n",
    "           for match in re.finditer(r'(?:pres|leg)(\\d{4})', link.lower()))\n",
    "]\n",
    "print(f'Extracted {len(filtered_links)} relevant files.')"
   ]
  },
  {
   "cell_type": "code",
   "execution_count": null,
   "id": "96bbc47c-b0e8-4db2-9240-9118e436c2ee",
   "metadata": {},
   "outputs": [],
   "source": [
    "os.makedirs('data/zip', exist_ok=True)\n",
    "\n",
    "progress_bar = tqdm(total=len(filtered_links), desc='Downloading', unit='file')\n",
    "\n",
    "for link in filtered_links:\n",
    "    try:\n",
    "        file_name = os.path.join('data/zip', os.path.basename(link))\n",
    "        response = requests.get(link)\n",
    "        with open(file_name, 'wb') as file:\n",
    "            file.write(response.content)\n",
    "        progress_bar.update(1)\n",
    "    except Exception as e:\n",
    "        print(f'Error downloading {link}: {e}')\n",
    "        \n",
    "progress_bar.close()"
   ]
  },
  {
   "cell_type": "code",
   "execution_count": null,
   "id": "1c4304a3-6eef-4655-855f-fd2d50436868",
   "metadata": {},
   "outputs": [],
   "source": [
    "os.makedirs('data/dta', exist_ok=True)\n",
    "\n",
    "zip_files = [file for file in os.listdir('data/zip') if file.endswith('.zip')]\n",
    "\n",
    "progress_bar = tqdm(total=len(zip_files), desc=\"Extracting\", unit=\"file\")\n",
    "\n",
    "for file in zip_files:\n",
    "    try:\n",
    "        zip_file_path = os.path.join('data/zip', file)\n",
    "        with zipfile.ZipFile(zip_file_path, 'r') as zip_ref:\n",
    "            for member in zip_ref.infolist():\n",
    "                # Skip macOS metadata files (those starting with ._)\n",
    "                basename = os.path.basename(member.filename)\n",
    "                if basename.startswith('._'):\n",
    "                    continue\n",
    "                    \n",
    "                if member.filename.lower().endswith('.dta'):\n",
    "                    target_path = os.path.join('data/dta', basename)\n",
    "                    with zip_ref.open(member) as source, open(target_path, 'wb') as dest:\n",
    "                        shutil.copyfileobj(source, dest)\n",
    "        \n",
    "        progress_bar.update(1)\n",
    "    except Exception as e:\n",
    "        print(f'Error extracting {file}: {e}')\n",
    "\n",
    "progress_bar.close()"
   ]
  },
  {
   "cell_type": "code",
   "execution_count": null,
   "id": "7280899b-288e-4ad7-a455-9d92e3c018f1",
   "metadata": {},
   "outputs": [],
   "source": [
    "os.makedirs('data/elec', exist_ok=True)\n",
    "\n",
    "for prefix in [\"leg\", \"pres\"]:\n",
    "    files = glob.glob(f\"data/dta/{prefix}????comm.dta\")\n",
    "\n",
    "    # Step 1: collect all voix columns across all files\n",
    "    all_candidates = set()\n",
    "    for file in files:\n",
    "        df = pd.read_stata(file)\n",
    "        candidates = [col for col in df.columns if col.startswith('voix')]\n",
    "        all_candidates.update(candidates)\n",
    "    all_candidates = list(all_candidates)\n",
    "\n",
    "    # Step 2: compute sums and proportions\n",
    "    counts_records = []\n",
    "    shares_records = []\n",
    "    \n",
    "    for file in files:\n",
    "        df = pd.read_stata(file)\n",
    "        match = re.search(rf'{prefix}(\\d{{4}})comm\\.dta', os.path.basename(file))\n",
    "        year = int(match.group(1)) if match else None\n",
    "\n",
    "        for col in all_candidates:\n",
    "            if col not in df.columns:\n",
    "                df[col] = np.nan\n",
    "\n",
    "        sums = df[all_candidates + ['inscrits']].sum(min_count=1)\n",
    "        tot_inscrits = sums['inscrits']\n",
    "\n",
    "        for col in all_candidates:\n",
    "            candidate_name = col.replace('voix', '')\n",
    "            counts_records.append({\n",
    "                'candidat': candidate_name,\n",
    "                str(year): sums[col]\n",
    "            })\n",
    "            shares_records.append({\n",
    "                'candidat': candidate_name,\n",
    "                str(year): sums[col] / tot_inscrits if tot_inscrits != 0 else 0\n",
    "            })\n",
    "\n",
    "    # Step 3: build dataframes for counts and shares\n",
    "    df_counts_raw = pd.DataFrame(counts_records)\n",
    "    df_counts = df_counts_raw.groupby('candidat').first().reset_index()\n",
    "\n",
    "    df_shares_raw = pd.DataFrame(shares_records)\n",
    "    df_shares = df_shares_raw.groupby('candidat').first().reset_index()\n",
    "\n",
    "    # Reorder columns\n",
    "    year_columns = sorted([col for col in df_counts.columns if col != 'candidat'])\n",
    "    df_counts = df_counts[['candidat'] + year_columns]\n",
    "    df_shares = df_shares[['candidat'] + year_columns]\n",
    "\n",
    "    # Step 4: handle round info for presidential elections\n",
    "    if prefix == \"pres\":\n",
    "        for df in [df_counts, df_shares]:\n",
    "            df['tour'] = np.where(df['candidat'].str.contains('T2'), 2, 1)\n",
    "            df['candidat'] = df['candidat'].str.replace('T2', '', regex=False)\n",
    "\n",
    "    # Step 5: save to parquet\n",
    "    df_counts.to_parquet(f\"data/elec/{prefix}_counts.parquet\", index=False)\n",
    "    df_shares.to_parquet(f\"data/elec/{prefix}_shares.parquet\", index=False)"
   ]
  },
  {
   "cell_type": "markdown",
   "id": "9ab6c6b2-c039-4bee-9566-9dc5e8531d67",
   "metadata": {},
   "source": [
    "# Européennes\n",
    "Résultats téléchargés depuis [data.gouv.fr](https://www.data.gouv.fr/)."
   ]
  },
  {
   "cell_type": "code",
   "execution_count": null,
   "id": "7a1bd260-104d-4e22-8dfb-6588c136d7fb",
   "metadata": {},
   "outputs": [],
   "source": [
    "# 2019\n",
    "https://static.data.gouv.fr/resources/resultats-des-elections-europeennes-2019/20190531-144431/resultats-definitifs-par-region.xls\n",
    "# 2014\n",
    "https://www.data.gouv.fr/storage/f/2014-05-30T10-34-25/euro-2014-resultats-c.xlsx\n",
    "# 2009\n",
    "https://static.data.gouv.fr/e0/88c770f067e9bc4cfd3dea656aa69b15add243c1c4c367a85d7314e74fde63.xls\n",
    "# 2004\n",
    "https://static.data.gouv.fr/82/b8b9cde91b95802dc0092d4a76c10dbf5b0b0fae8e4ccafc6ffb33397e8053.xls\n",
    "# 1999\n",
    "https://static.data.gouv.fr/fa/d907ec8071c5f153de8235efa65df560bb269425132521c079657794a0c62a.xls"
   ]
  }
 ],
 "metadata": {
  "kernelspec": {
   "display_name": "Python 3 (ipykernel)",
   "language": "python",
   "name": "python3"
  },
  "language_info": {
   "codemirror_mode": {
    "name": "ipython",
    "version": 3
   },
   "file_extension": ".py",
   "mimetype": "text/x-python",
   "name": "python",
   "nbconvert_exporter": "python",
   "pygments_lexer": "ipython3",
   "version": "3.12.9"
  }
 },
 "nbformat": 4,
 "nbformat_minor": 5
}
