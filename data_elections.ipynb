{
 "cells": [
  {
   "cell_type": "code",
   "execution_count": null,
   "id": "618d97b4-d948-4029-a1a9-2965cd7eb4bd",
   "metadata": {},
   "outputs": [],
   "source": [
    "import numpy as np\n",
    "import os\n",
    "import pandas as pd\n",
    "import re\n",
    "import requests\n",
    "import shutil\n",
    "import zipfile\n",
    "import glob\n",
    "\n",
    "from tqdm import tqdm"
   ]
  },
  {
   "cell_type": "markdown",
   "id": "dd93d07f-41c7-4b6f-9b56-882dbde836c6",
   "metadata": {},
   "source": [
    "# Présidentielles et législatives\n",
    "D'après les données collationnées par Piketty et Cagé pour leur ouvrage *[Une histoire du conflit politique](https://unehistoireduconflitpolitique.fr/)*.\n",
    "## 1. Téléchargement et préparation"
   ]
  },
  {
   "cell_type": "code",
   "execution_count": null,
   "id": "a2e85835-ac7f-4465-941e-849a314a9cc9",
   "metadata": {},
   "outputs": [],
   "source": [
    "def extract_strings_from_webpage(url):\n",
    "    response = requests.get(url) \n",
    "    if response.status_code == 200:\n",
    "        strings = re.findall(r'\"([^\"]*)\"', response.text)\n",
    "        return strings\n",
    "    else:\n",
    "        print(f'Failed to fetch the webpage. Status code: {response.status_code}')\n",
    "        return []\n",
    "\n",
    "webpage_url = 'https://unehistoireduconflitpolitique.fr/telecharger.html'\n",
    "extracted_strings = extract_strings_from_webpage(webpage_url)\n",
    "download_links = [item for item in extracted_strings if item.endswith('dta.zip') or item.endswith('dta.zip')]\n",
    "print(f'Identified {len(download_links)} files to download.')"
   ]
  },
  {
   "cell_type": "code",
   "execution_count": null,
   "id": "c6a1e542-69ee-4aa8-9adc-560e0d7888a8",
   "metadata": {
    "scrolled": true
   },
   "outputs": [],
   "source": [
    "filtered_links = [\n",
    "    link for link in download_links \n",
    "    if ('pres' in link.lower() or 'leg' in link.lower()) \n",
    "    and any(int(match.group(1)) >= 1988 \n",
    "           for match in re.finditer(r'(?:pres|leg)(\\d{4})', link.lower()))\n",
    "]\n",
    "print(f'Extracted {len(filtered_links)} relevant files.')"
   ]
  },
  {
   "cell_type": "code",
   "execution_count": null,
   "id": "96bbc47c-b0e8-4db2-9240-9118e436c2ee",
   "metadata": {},
   "outputs": [],
   "source": [
    "os.makedirs('data/zip', exist_ok=True)\n",
    "\n",
    "progress_bar = tqdm(total=len(filtered_links), desc='Downloading', unit='file')\n",
    "\n",
    "for link in filtered_links:\n",
    "    try:\n",
    "        file_name = os.path.join('data/zip', os.path.basename(link))\n",
    "        response = requests.get(link)\n",
    "        with open(file_name, 'wb') as file:\n",
    "            file.write(response.content)\n",
    "        progress_bar.update(1)\n",
    "    except Exception as e:\n",
    "        print(f'Error downloading {link}: {e}')\n",
    "        \n",
    "progress_bar.close()"
   ]
  },
  {
   "cell_type": "code",
   "execution_count": null,
   "id": "1c4304a3-6eef-4655-855f-fd2d50436868",
   "metadata": {},
   "outputs": [],
   "source": [
    "os.makedirs('data/dta', exist_ok=True)\n",
    "\n",
    "zip_files = [file for file in os.listdir('data/zip') if file.endswith('.zip')]\n",
    "\n",
    "progress_bar = tqdm(total=len(zip_files), desc=\"Extracting\", unit=\"file\")\n",
    "\n",
    "for file in zip_files:\n",
    "    try:\n",
    "        zip_file_path = os.path.join('data/zip', file)\n",
    "        with zipfile.ZipFile(zip_file_path, 'r') as zip_ref:\n",
    "            for member in zip_ref.infolist():\n",
    "                # Skip macOS metadata files (those starting with ._)\n",
    "                basename = os.path.basename(member.filename)\n",
    "                if basename.startswith('._'):\n",
    "                    continue\n",
    "                    \n",
    "                if member.filename.lower().endswith('.dta'):\n",
    "                    target_path = os.path.join('data/dta', basename)\n",
    "                    with zip_ref.open(member) as source, open(target_path, 'wb') as dest:\n",
    "                        shutil.copyfileobj(source, dest)\n",
    "        \n",
    "        progress_bar.update(1)\n",
    "    except Exception as e:\n",
    "        print(f'Error extracting {file}: {e}')\n",
    "\n",
    "progress_bar.close()"
   ]
  },
  {
   "cell_type": "code",
   "execution_count": null,
   "id": "7280899b-288e-4ad7-a455-9d92e3c018f1",
   "metadata": {},
   "outputs": [],
   "source": [
    "os.makedirs('data/elec', exist_ok=True)\n",
    "\n",
    "for prefix in [\"leg\", \"pres\"]:\n",
    "    files = glob.glob(f\"data/dta/{prefix}????comm.dta\")\n",
    "\n",
    "    # Step 1: collect all voix columns across all files\n",
    "    all_candidates = set()\n",
    "    for file in files:\n",
    "        df = pd.read_stata(file)\n",
    "        candidates = [col for col in df.columns if col.startswith('voix')]\n",
    "        all_candidates.update(candidates)\n",
    "    all_candidates = list(all_candidates)\n",
    "\n",
    "    # Step 2: compute sums and proportions\n",
    "    counts_records = []\n",
    "    shares_records = []\n",
    "    \n",
    "    for file in files:\n",
    "        df = pd.read_stata(file)\n",
    "        match = re.search(rf'{prefix}(\\d{{4}})comm\\.dta', os.path.basename(file))\n",
    "        year = int(match.group(1)) if match else None\n",
    "\n",
    "        for col in all_candidates:\n",
    "            if col not in df.columns:\n",
    "                df[col] = np.nan\n",
    "\n",
    "        sums = df[all_candidates + ['inscrits']].sum(min_count=1)\n",
    "        tot_inscrits = sums['inscrits']\n",
    "\n",
    "        for col in all_candidates:\n",
    "            candidate_name = col.replace('voix', '')\n",
    "            counts_records.append({\n",
    "                'candidat': candidate_name,\n",
    "                str(year): sums[col]\n",
    "            })\n",
    "            shares_records.append({\n",
    "                'candidat': candidate_name,\n",
    "                str(year): sums[col] / tot_inscrits if tot_inscrits != 0 else 0\n",
    "            })\n",
    "\n",
    "    # Step 3: build dataframes for counts and shares\n",
    "    df_counts_raw = pd.DataFrame(counts_records)\n",
    "    df_counts = df_counts_raw.groupby('candidat').first().reset_index()\n",
    "\n",
    "    df_shares_raw = pd.DataFrame(shares_records)\n",
    "    df_shares = df_shares_raw.groupby('candidat').first().reset_index()\n",
    "\n",
    "    # Reorder columns\n",
    "    year_columns = sorted([col for col in df_counts.columns if col != 'candidat'])\n",
    "    df_counts = df_counts[['candidat'] + year_columns]\n",
    "    df_shares = df_shares[['candidat'] + year_columns]\n",
    "\n",
    "    # Step 4: handle round info for presidential elections\n",
    "    if prefix == \"pres\":\n",
    "        for df in [df_counts, df_shares]:\n",
    "            df['tour'] = np.where(df['candidat'].str.contains('T2'), 2, 1)\n",
    "            df['candidat'] = df['candidat'].str.replace('T2', '', regex=False)\n",
    "\n",
    "    # Step 5: save to parquet\n",
    "    df_counts.to_parquet(f\"data/elec/{prefix}_counts.parquet\", index=False)\n",
    "    df_shares.to_parquet(f\"data/elec/{prefix}_shares.parquet\", index=False)"
   ]
  },
  {
   "cell_type": "code",
   "execution_count": null,
   "id": "cfcc9248-1d4c-4589-b7e6-5e6a512281c7",
   "metadata": {},
   "outputs": [],
   "source": [
    "shutil.rmtree(\"data/zip\")\n",
    "shutil.rmtree(\"data/dta\")"
   ]
  },
  {
   "cell_type": "markdown",
   "id": "b857a923-3a12-48bf-86a4-bdbc4bd73a95",
   "metadata": {},
   "source": [
    "## 2. Nuances politiques pour les élections législatives\n",
    "D'après l'encodage documenté dans les [annexes](https://conflit-politique-data.ams3.cdn.digitaloceanspaces.com/pdf/CagePiketty2023Annexes.pdf).\n",
    "- AUG = autre gauche non-communiste\n",
    "- AUD = partis et organisations à la droite de la droite\n",
    "- CENALLI = CEN-ALLI (Le Centre pour la France / Alliance Centriste)\n",
    "- CPNT = Chasse, pêche, nature et traditions\n",
    "- DIV = candidats divers et inclassables (régionalistes, animalistes...)\n",
    "- DLF = Debout la France\n",
    "- DVD = divers droites\n",
    "- DVG = divers gauche\n",
    "- ECO = candidats écologistes (hors NUPES)\n",
    "- EELV = Europe Ecologie Les Verts\n",
    "- ENS = Ensemble (Renaissance/LRM, Modem, Horizons)\n",
    "- FG = Front de Gauche (PCF, PG, DVG)\n",
    "- FN = Front National\n",
    "- GEC = Génération Ecologie + divers écologiques hormis les Verts\n",
    "- LCR = Ligue Communiste Révolutionnaire\n",
    "- LFI = La France Insoumise\n",
    "- LO = Lutte Ouvrière\n",
    "- LR = Les Républicains\n",
    "- LREM = La République en Marche\n",
    "- MAJ = majorité présidentielle hors PS / RDG\n",
    "- MDM = Mouvement Démocrate / MoDem\n",
    "- MNRAUD = MNR-AUD = Mouvement National Républicain et autres organisations de droite\n",
    "- MPF = Mouvement pour la France\n",
    "- NCE = Nouveau Centre\n",
    "- NUP = NUPES (LFI, PS, EELV, PCF)\n",
    "- PCF = Parti Communiste Français\n",
    "- PREP = Pôle Républicain (MDC et autres partis de la mouvance républicaine)\n",
    "- PRGDVG = PRG-DVG = Parti Radical de Gauche et divers gauche\n",
    "- PRV = Parti Radical\n",
    "- PS = Parti Socialiste\n",
    "- RDG = Radicaux de Gauche\n",
    "- RDGDVG = RDG-DVG = Radicaux de gauche et divers gauche\n",
    "- REC = Reconquête\n",
    "- REG = régionalistes\n",
    "- RN = Rassemblement National\n",
    "- RPR = Rassemblement pour la République\n",
    "- UDF = Union pour la Démocratie Française\n",
    "- UDFD = Union pour la Démocratie Française et MoDem\n",
    "- UDI = Union des Démocrates et Indépendants\n",
    "- UMP = Union pour un Mouvement Populaire\n",
    "- VEC = Les Verts et organisations proches"
   ]
  },
  {
   "cell_type": "markdown",
   "id": "a03c792a-394d-4ad9-b29f-f7c77377c9bd",
   "metadata": {},
   "source": [
    "**Restent à classer :**\n",
    "- CPNT = Chasse, pêche, nature et traditions\n",
    "- ECO = candidats écologistes (hors NUPES)\n",
    "- EELV = Europe Ecologie Les Verts\n",
    "- VEC = Les Verts et organisations proches"
   ]
  },
  {
   "cell_type": "code",
   "execution_count": null,
   "id": "137c5bbd-b3ab-4c73-8660-319248eefab0",
   "metadata": {},
   "outputs": [],
   "source": [
    "# Helper\n",
    "# leg_counts[\n",
    "#     (parties['alignement_politique'] == 'centredroite_droite') &\n",
    "#     (parties['wikipedia_label'].str.contains('républicain', case=False, na=False))\n",
    "# ]"
   ]
  },
  {
   "cell_type": "code",
   "execution_count": null,
   "id": "90fedfa6-cbeb-4b99-b187-03fd89d5f1ca",
   "metadata": {},
   "outputs": [],
   "source": [
    "leg_counts = pd.read_parquet(\"data/elec/leg_counts.parquet\")\n",
    "leg_shares = pd.read_parquet(\"data/elec/leg_shares.parquet\")"
   ]
  },
  {
   "cell_type": "code",
   "execution_count": null,
   "id": "1541fb83-f233-49d5-a6ee-e6a06cef76b4",
   "metadata": {},
   "outputs": [],
   "source": [
    "alignement_dict = {\n",
    "    # autre\n",
    "    'DIV': 'autre',\n",
    "    'REG': 'autre',\n",
    "    # centre\n",
    "    'CENALLI': 'centre',\n",
    "    'ENS': 'centre',\n",
    "    'LREM': 'centre',\n",
    "    'PREP': 'centre',\n",
    "    # centredroite_droite\n",
    "    'DVD': 'centredroite_droite',\n",
    "    'MDM': 'centredroite_droite',\n",
    "    'NCE': 'centredroite_droite',\n",
    "    'LR': 'centredroite_droite',\n",
    "    'PRV': 'centredroite_droite',\n",
    "    'RPR': 'centredroite_droite',\n",
    "    'UDF': 'centredroite_droite',\n",
    "    'UDFD': 'centredroite_droite',\n",
    "    'UDI': 'centredroite_droite',\n",
    "    'UMP': 'centredroite_droite',\n",
    "    # centregauche_gauche\n",
    "    'DVG': 'centregauche_gauche',\n",
    "    'FG': 'centregauche_gauche',\n",
    "    'GEC': 'centregauche_gauche',\n",
    "    'MAJ': 'centregauche_gauche',\n",
    "    'NUP': 'centregauche_gauche',\n",
    "    'PRGDVG': 'centregauche_gauche',\n",
    "    'PS': 'centregauche_gauche',\n",
    "    'RDGDVG': 'centregauche_gauche',\n",
    "    'RDG': 'centregauche_gauche',\n",
    "    # extremedroite_droiteradicale\n",
    "    'AUD': 'extremedroite_droiteradicale',\n",
    "    'DLF': 'extremedroite_droiteradicale',\n",
    "    'FN': 'extremedroite_droiteradicale',\n",
    "    'MNRAUD': 'extremedroite_droiteradicale',\n",
    "    'MPF': 'extremedroite_droiteradicale',\n",
    "    'REC': 'extremedroite_droiteradicale',\n",
    "    'RN': 'extremedroite_droiteradicale',\n",
    "    # extremegauche_gaucheradicale\n",
    "    'AUG': 'extremegauche_gaucheradicale',\n",
    "    'LCR': 'extremegauche_gaucheradicale',\n",
    "    'LFI': 'extremegauche_gaucheradicale',\n",
    "    'LO': 'extremegauche_gaucheradicale',\n",
    "    'PCF': 'extremegauche_gaucheradicale'\n",
    "}\n",
    "\n",
    "leg_counts['alignement_politique'] = leg_counts['candidat'].map(alignement_dict)\n",
    "leg_shares['alignement_politique'] = leg_shares['candidat'].map(alignement_dict)"
   ]
  },
  {
   "cell_type": "code",
   "execution_count": null,
   "id": "20999143-0f1b-4ce4-a0c7-a33741fb5063",
   "metadata": {},
   "outputs": [],
   "source": [
    "leg_counts.to_parquet(f\"data/elec/leg_counts.parquet\", index=False)\n",
    "leg_shares.to_parquet(f\"data/elec/leg_shares.parquet\", index=False)"
   ]
  },
  {
   "cell_type": "markdown",
   "id": "9ab6c6b2-c039-4bee-9566-9dc5e8531d67",
   "metadata": {},
   "source": [
    "# Européennes\n",
    "Résultats téléchargés depuis [data.gouv.fr](https://www.data.gouv.fr/)."
   ]
  },
  {
   "cell_type": "code",
   "execution_count": null,
   "id": "7a1bd260-104d-4e22-8dfb-6588c136d7fb",
   "metadata": {},
   "outputs": [],
   "source": [
    "urls = {\n",
    "    2019: \"https://static.data.gouv.fr/resources/resultats-des-elections-europeennes-2019/20190531-144431/resultats-definitifs-par-region.xls\",\n",
    "    2014: \"https://www.data.gouv.fr/storage/f/2014-05-30T10-34-25/euro-2014-resultats-c.xlsx\",\n",
    "    2009: \"https://static.data.gouv.fr/e0/88c770f067e9bc4cfd3dea656aa69b15add243c1c4c367a85d7314e74fde63.xls\",\n",
    "    2004: \"https://static.data.gouv.fr/82/b8b9cde91b95802dc0092d4a76c10dbf5b0b0fae8e4ccafc6ffb33397e8053.xls\",\n",
    "    1999: \"https://static.data.gouv.fr/fa/d907ec8071c5f153de8235efa65df560bb269425132521c079657794a0c62a.xls\"\n",
    "}\n",
    "\n",
    "os.makedirs('data/xls', exist_ok=True)\n",
    "\n",
    "for year, url in urls.items():\n",
    "    response = requests.get(url)\n",
    "    response.raise_for_status()\n",
    "    filepath = f\"data/xls/{year}.xls\"\n",
    "    with open(filepath, \"wb\") as f:\n",
    "        f.write(response.content)\n",
    "    print(f\"Downloaded {year}: {filepath}\")"
   ]
  },
  {
   "cell_type": "code",
   "execution_count": null,
   "id": "642204b0-ddce-4dfd-87c8-2d65738fc5db",
   "metadata": {},
   "outputs": [],
   "source": [
    "df = pd.read_excel(\"data/xls/2019.xls\")"
   ]
  },
  {
   "cell_type": "code",
   "execution_count": null,
   "id": "8360f193-5290-4f39-ac3e-fe8f9410cc9f",
   "metadata": {},
   "outputs": [],
   "source": [
    "df = df.drop(columns=[\n",
    "    \"Code de la région\", \"Abstentions\", \"% Abs/Ins\", \n",
    "    \"Votants\", \"% Vot/Ins\", \"Blancs\", \"% Blancs/Ins\", \"% Blancs/Vot\", \n",
    "    \"Nuls\", \"% Nuls/Ins\", \"% Nuls/Vot\", \"Exprimés\", \"% Exp/Ins\", \"% Exp/Vot\"\n",
    "])\n",
    "\n",
    "col_names = [\"N°Liste\", \"Libellé Abrégé Liste\", \"Liste\",\n",
    "             \"Nom Tête de Liste\", \"Voix\", \"% Voix/Ins\", \"% Voix/Exp\"]\n",
    "data_columns = df.columns[2:]\n",
    "n_lists = len(data_columns) // len(col_names)\n",
    "\n",
    "renamed_columns = []\n",
    "for i in range(n_lists):\n",
    "    for name in col_names:\n",
    "        renamed_columns.append(f\"{name}\")\n",
    "\n",
    "df.columns = ['Région'] + ['Inscrits'] + renamed_columns"
   ]
  },
  {
   "cell_type": "code",
   "execution_count": null,
   "id": "69d7eb1f-20ce-4de2-a10d-c8d4f5001e9b",
   "metadata": {},
   "outputs": [],
   "source": [
    "fixed_cols = df.iloc[:, :2]\n",
    "\n",
    "blocks = []\n",
    "for i in range(34):\n",
    "    start = 2 + i * 7\n",
    "    end = start + 7\n",
    "    block = df.iloc[:, start:end].copy()\n",
    "    block.columns = [\"N°Liste\", \"Libellé Abrégé Liste\", \"Liste\",  \n",
    "                     \"Nom Tête de Liste\", \"Voix\", \"% Voix/Ins\", \"% Voix/Exp\"]\n",
    "    block[\"Région\"] = fixed_cols[\"Région\"]\n",
    "    block[\"Inscrits\"] = fixed_cols[\"Inscrits\"]\n",
    "    blocks.append(block)\n",
    "\n",
    "long_df = pd.concat(blocks, ignore_index=True)"
   ]
  },
  {
   "cell_type": "code",
   "execution_count": null,
   "id": "539d1d6b-f32d-406c-ad74-f10766270745",
   "metadata": {},
   "outputs": [],
   "source": [
    "summary = (\n",
    "    long_df.groupby([\"Liste\"])\n",
    "    .agg({\n",
    "        \"Inscrits\": \"sum\",\n",
    "        \"Voix\": \"sum\"\n",
    "    })\n",
    "    .reset_index()\n",
    ")\n",
    "\n",
    "summary[\"Voix/Inscrits\"] = summary[\"Voix\"] / summary[\"Inscrits\"]\n",
    "summary = summary.drop(columns = 'Inscrits')"
   ]
  },
  {
   "cell_type": "code",
   "execution_count": null,
   "id": "a5fab52b-c365-4d83-821c-537273e55b16",
   "metadata": {
    "scrolled": true
   },
   "outputs": [],
   "source": [
    "summary"
   ]
  },
  {
   "cell_type": "code",
   "execution_count": null,
   "id": "1a82bd8a-3326-4478-ac33-55d49b6ef81a",
   "metadata": {},
   "outputs": [],
   "source": [
    "shutil.rmtree(\"data/xls\")"
   ]
  }
 ],
 "metadata": {
  "kernelspec": {
   "display_name": "Python 3 (ipykernel)",
   "language": "python",
   "name": "python3"
  },
  "language_info": {
   "codemirror_mode": {
    "name": "ipython",
    "version": 3
   },
   "file_extension": ".py",
   "mimetype": "text/x-python",
   "name": "python",
   "nbconvert_exporter": "python",
   "pygments_lexer": "ipython3",
   "version": "3.12.9"
  }
 },
 "nbformat": 4,
 "nbformat_minor": 5
}
