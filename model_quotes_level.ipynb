{
 "cells": [
  {
   "cell_type": "code",
   "execution_count": 1,
   "id": "4828c685-2e56-4467-aa8e-f6a254eb2f57",
   "metadata": {},
   "outputs": [],
   "source": [
    "import numpy as np\n",
    "import pandas as pd\n",
    "import statsmodels.api as sm\n",
    "import statsmodels.formula.api as smf\n",
    "\n",
    "from sklearn.metrics import r2_score\n",
    "from statsmodels.othermod.betareg import BetaModel"
   ]
  },
  {
   "cell_type": "code",
   "execution_count": 2,
   "id": "28b78a8b-bf79-4b6e-a5f0-5b6ca8386a5e",
   "metadata": {},
   "outputs": [],
   "source": [
    "model_data = pd.read_parquet(\"data/model_data.parquet\")\n",
    "model_data = model_data[model_data['political_alignment'] != 'autre']\n",
    "model_data[\"election_year\"] = model_data[\"last_pres\"].dt.year\n",
    "model_data[\"decade\"] = (model_data[\"month\"].dt.year // 10) * 10\n",
    "model_data['europ_votes_share_dum'] = (model_data['europ_votes_share'] * model_data['europ_dummy_short']).fillna(0)"
   ]
  },
  {
   "cell_type": "code",
   "execution_count": 3,
   "id": "9256ec47-659e-4db2-a0a7-ad42d7a14818",
   "metadata": {},
   "outputs": [
    {
     "name": "stdout",
     "output_type": "stream",
     "text": [
      "2385\n",
      "19.371345029239766\n"
     ]
    }
   ],
   "source": [
    "nul_outcomes = (model_data[\"quotes_share\"] == 0).sum()\n",
    "print(nul_outcomes)\n",
    "print(100 * nul_outcomes / len(model_data))"
   ]
  },
  {
   "cell_type": "code",
   "execution_count": 4,
   "id": "93c378f5-a735-4649-a2f1-6954945ce6c8",
   "metadata": {},
   "outputs": [
    {
     "name": "stdout",
     "output_type": "stream",
     "text": [
      "0\n"
     ]
    }
   ],
   "source": [
    "unit_outcomes = (model_data[\"quotes_share\"] == 1).sum()\n",
    "print(unit_outcomes)"
   ]
  },
  {
   "cell_type": "code",
   "execution_count": 5,
   "id": "bbdfb5f2-893b-4b63-9f5b-14eab05c7617",
   "metadata": {},
   "outputs": [],
   "source": [
    "model_data_njl = pd.read_parquet(\"data/model_data_njl.parquet\")\n",
    "model_data_njl = model_data_njl[model_data_njl['political_alignment'] != 'autre']\n",
    "model_data_njl[\"election_year\"] = model_data_njl[\"last_pres\"].dt.year\n",
    "model_data_njl[\"decade\"] = (model_data_njl[\"month\"].dt.year // 10) * 10\n",
    "model_data_njl['europ_votes_share_dum'] = (model_data_njl['europ_votes_share'] * model_data_njl['europ_dummy_short']).fillna(0)"
   ]
  },
  {
   "cell_type": "code",
   "execution_count": 6,
   "id": "645b10db-e11f-4ae0-8ef0-d5328908daf7",
   "metadata": {},
   "outputs": [
    {
     "name": "stdout",
     "output_type": "stream",
     "text": [
      "409\n",
      "0.12765293383270912\n"
     ]
    }
   ],
   "source": [
    "nul_outcomes = (model_data_njl[\"quotes_share\"] == 0).sum()\n",
    "print(nul_outcomes)\n",
    "print(nul_outcomes / len(model_data_njl))"
   ]
  },
  {
   "cell_type": "code",
   "execution_count": 7,
   "id": "1e45d333-6265-4480-ba2e-4b1ffbd53765",
   "metadata": {},
   "outputs": [
    {
     "name": "stdout",
     "output_type": "stream",
     "text": [
      "0\n"
     ]
    }
   ],
   "source": [
    "unit_outcomes = (model_data_njl[\"quotes_share\"] == 1).sum()\n",
    "print(unit_outcomes)"
   ]
  },
  {
   "cell_type": "markdown",
   "id": "1605430b-7bd7-4657-bdd8-7e4c927c48cd",
   "metadata": {},
   "source": [
    "# Tentative de modélisation directe du nombre de citations"
   ]
  },
  {
   "cell_type": "code",
   "execution_count": 8,
   "id": "bca52523-618a-4e21-9e03-d6875f672f15",
   "metadata": {},
   "outputs": [],
   "source": [
    "outcome = \"quotes_nb\""
   ]
  },
  {
   "cell_type": "code",
   "execution_count": 9,
   "id": "208f711b-0dbb-408d-960a-e1e7da412006",
   "metadata": {
    "scrolled": true
   },
   "outputs": [
    {
     "name": "stdout",
     "output_type": "stream",
     "text": [
      "R2: 48.14%\n",
      "\n"
     ]
    },
    {
     "data": {
      "text/html": [
       "<style type=\"text/css\">\n",
       "</style>\n",
       "<table id=\"T_4812a\">\n",
       "  <thead>\n",
       "    <tr>\n",
       "      <th class=\"blank level0\" >&nbsp;</th>\n",
       "      <th id=\"T_4812a_level0_col0\" class=\"col_heading level0 col0\" >coef</th>\n",
       "      <th id=\"T_4812a_level0_col1\" class=\"col_heading level0 col1\" >pval</th>\n",
       "    </tr>\n",
       "  </thead>\n",
       "  <tbody>\n",
       "    <tr>\n",
       "      <th id=\"T_4812a_level0_row0\" class=\"row_heading level0 row0\" >Intercept</th>\n",
       "      <td id=\"T_4812a_row0_col0\" class=\"data row0 col0\" >845.430448</td>\n",
       "      <td id=\"T_4812a_row0_col1\" class=\"data row0 col1\" >0.000000</td>\n",
       "    </tr>\n",
       "    <tr>\n",
       "      <th id=\"T_4812a_level0_row1\" class=\"row_heading level0 row1\" >C(decade, Treatment(reference=1980))[T.1990]</th>\n",
       "      <td id=\"T_4812a_row1_col0\" class=\"data row1 col0\" >562.426750</td>\n",
       "      <td id=\"T_4812a_row1_col1\" class=\"data row1 col1\" >0.000000</td>\n",
       "    </tr>\n",
       "    <tr>\n",
       "      <th id=\"T_4812a_level0_row2\" class=\"row_heading level0 row2\" >C(decade, Treatment(reference=1980))[T.2000]</th>\n",
       "      <td id=\"T_4812a_row2_col0\" class=\"data row2 col0\" >748.883661</td>\n",
       "      <td id=\"T_4812a_row2_col1\" class=\"data row2 col1\" >0.000000</td>\n",
       "    </tr>\n",
       "    <tr>\n",
       "      <th id=\"T_4812a_level0_row3\" class=\"row_heading level0 row3\" >C(decade, Treatment(reference=1980))[T.2010]</th>\n",
       "      <td id=\"T_4812a_row3_col0\" class=\"data row3 col0\" >977.715159</td>\n",
       "      <td id=\"T_4812a_row3_col1\" class=\"data row3 col1\" >0.000000</td>\n",
       "    </tr>\n",
       "    <tr>\n",
       "      <th id=\"T_4812a_level0_row4\" class=\"row_heading level0 row4\" >C(decade, Treatment(reference=1980))[T.2020]</th>\n",
       "      <td id=\"T_4812a_row4_col0\" class=\"data row4 col0\" >1972.178088</td>\n",
       "      <td id=\"T_4812a_row4_col1\" class=\"data row4 col1\" >0.000000</td>\n",
       "    </tr>\n",
       "    <tr>\n",
       "      <th id=\"T_4812a_level0_row5\" class=\"row_heading level0 row5\" >C(political_alignment, Treatment(reference='Far right'))[T.Center]</th>\n",
       "      <td id=\"T_4812a_row5_col0\" class=\"data row5 col0\" >-349.160998</td>\n",
       "      <td id=\"T_4812a_row5_col1\" class=\"data row5 col1\" >0.000000</td>\n",
       "    </tr>\n",
       "    <tr>\n",
       "      <th id=\"T_4812a_level0_row6\" class=\"row_heading level0 row6\" >C(political_alignment, Treatment(reference='Far right'))[T.Far left]</th>\n",
       "      <td id=\"T_4812a_row6_col0\" class=\"data row6 col0\" >6.922613</td>\n",
       "      <td id=\"T_4812a_row6_col1\" class=\"data row6 col1\" >0.765673</td>\n",
       "    </tr>\n",
       "    <tr>\n",
       "      <th id=\"T_4812a_level0_row7\" class=\"row_heading level0 row7\" >C(political_alignment, Treatment(reference='Far right'))[T.Left]</th>\n",
       "      <td id=\"T_4812a_row7_col0\" class=\"data row7 col0\" >-73.473529</td>\n",
       "      <td id=\"T_4812a_row7_col1\" class=\"data row7 col1\" >0.018501</td>\n",
       "    </tr>\n",
       "    <tr>\n",
       "      <th id=\"T_4812a_level0_row8\" class=\"row_heading level0 row8\" >C(political_alignment, Treatment(reference='Far right'))[T.Other]</th>\n",
       "      <td id=\"T_4812a_row8_col0\" class=\"data row8 col0\" >-962.642153</td>\n",
       "      <td id=\"T_4812a_row8_col1\" class=\"data row8 col1\" >0.000000</td>\n",
       "    </tr>\n",
       "    <tr>\n",
       "      <th id=\"T_4812a_level0_row9\" class=\"row_heading level0 row9\" >C(political_alignment, Treatment(reference='Far right'))[T.Right]</th>\n",
       "      <td id=\"T_4812a_row9_col0\" class=\"data row9 col0\" >-138.880159</td>\n",
       "      <td id=\"T_4812a_row9_col1\" class=\"data row9 col1\" >0.000411</td>\n",
       "    </tr>\n",
       "    <tr>\n",
       "      <th id=\"T_4812a_level0_row10\" class=\"row_heading level0 row10\" >C(journal, Treatment(reference='Le Monde'))[T.La Croix]</th>\n",
       "      <td id=\"T_4812a_row10_col0\" class=\"data row10 col0\" >-1226.757899</td>\n",
       "      <td id=\"T_4812a_row10_col1\" class=\"data row10 col1\" >0.000000</td>\n",
       "    </tr>\n",
       "    <tr>\n",
       "      <th id=\"T_4812a_level0_row11\" class=\"row_heading level0 row11\" >C(journal, Treatment(reference='Le Monde'))[T.Le Figaro]</th>\n",
       "      <td id=\"T_4812a_row11_col0\" class=\"data row11 col0\" >-120.710674</td>\n",
       "      <td id=\"T_4812a_row11_col1\" class=\"data row11 col1\" >0.000000</td>\n",
       "    </tr>\n",
       "    <tr>\n",
       "      <th id=\"T_4812a_level0_row12\" class=\"row_heading level0 row12\" >C(journal, Treatment(reference='Le Monde'))[T.Libération]</th>\n",
       "      <td id=\"T_4812a_row12_col0\" class=\"data row12 col0\" >-542.642397</td>\n",
       "      <td id=\"T_4812a_row12_col1\" class=\"data row12 col1\" >0.000000</td>\n",
       "    </tr>\n",
       "    <tr>\n",
       "      <th id=\"T_4812a_level0_row13\" class=\"row_heading level0 row13\" >C(journal, Treatment(reference='Le Monde'))[T.Médiapart]</th>\n",
       "      <td id=\"T_4812a_row13_col0\" class=\"data row13 col0\" >-720.602706</td>\n",
       "      <td id=\"T_4812a_row13_col1\" class=\"data row13 col1\" >0.000000</td>\n",
       "    </tr>\n",
       "    <tr>\n",
       "      <th id=\"T_4812a_level0_row14\" class=\"row_heading level0 row14\" >na_share</th>\n",
       "      <td id=\"T_4812a_row14_col0\" class=\"data row14 col0\" >207.210322</td>\n",
       "      <td id=\"T_4812a_row14_col1\" class=\"data row14 col1\" >0.023531</td>\n",
       "    </tr>\n",
       "    <tr>\n",
       "      <th id=\"T_4812a_level0_row15\" class=\"row_heading level0 row15\" >pres_votes_share</th>\n",
       "      <td id=\"T_4812a_row15_col0\" class=\"data row15 col0\" >379.627986</td>\n",
       "      <td id=\"T_4812a_row15_col1\" class=\"data row15 col1\" >0.000210</td>\n",
       "    </tr>\n",
       "    <tr>\n",
       "      <th id=\"T_4812a_level0_row16\" class=\"row_heading level0 row16\" >government</th>\n",
       "      <td id=\"T_4812a_row16_col0\" class=\"data row16 col0\" >-13.788506</td>\n",
       "      <td id=\"T_4812a_row16_col1\" class=\"data row16 col1\" >0.686342</td>\n",
       "    </tr>\n",
       "  </tbody>\n",
       "</table>\n"
      ],
      "text/plain": [
       "<pandas.io.formats.style.Styler at 0x11ab68230>"
      ]
     },
     "execution_count": 9,
     "metadata": {},
     "output_type": "execute_result"
    }
   ],
   "source": [
    "alignment_ref = 'Far right'\n",
    "period_ref = '1980'\n",
    "journal_ref = 'Le Monde'\n",
    "\n",
    "formula = f\"{outcome} ~ C(decade, Treatment(reference={period_ref})) + C(political_alignment, Treatment(reference='{alignment_ref}')) + C(journal, Treatment(reference='{journal_ref}'))+ na_share + pres_votes_share + government\"\n",
    "\n",
    "model = smf.ols(formula, data=model_data).fit(cov_type='HC3')\n",
    "y = model_data[outcome]\n",
    "y_pred = model.predict(model_data)\n",
    "\n",
    "r2 = r2_score(y, y_pred)\n",
    "print(f\"R2: {100*r2:.2f}%\")\n",
    "print(\"\")\n",
    "\n",
    "params = model.params.rename(\"coef\").to_frame()\n",
    "pvalues = model.pvalues.rename(\"pval\").to_frame()\n",
    "results = pd.merge(params, pvalues, left_index=True, right_index=True)\n",
    "results.style"
   ]
  },
  {
   "cell_type": "code",
   "execution_count": 10,
   "id": "137c4682-3c2c-4723-b073-12ada81bcab0",
   "metadata": {
    "scrolled": true
   },
   "outputs": [
    {
     "name": "stdout",
     "output_type": "stream",
     "text": [
      "R2: 55.90%\n",
      "\n"
     ]
    },
    {
     "data": {
      "text/html": [
       "<style type=\"text/css\">\n",
       "</style>\n",
       "<table id=\"T_1e6de\">\n",
       "  <thead>\n",
       "    <tr>\n",
       "      <th class=\"blank level0\" >&nbsp;</th>\n",
       "      <th id=\"T_1e6de_level0_col0\" class=\"col_heading level0 col0\" >coef</th>\n",
       "      <th id=\"T_1e6de_level0_col1\" class=\"col_heading level0 col1\" >pval</th>\n",
       "    </tr>\n",
       "  </thead>\n",
       "  <tbody>\n",
       "    <tr>\n",
       "      <th id=\"T_1e6de_level0_row0\" class=\"row_heading level0 row0\" >Intercept</th>\n",
       "      <td id=\"T_1e6de_row0_col0\" class=\"data row0 col0\" >-543.376622</td>\n",
       "      <td id=\"T_1e6de_row0_col1\" class=\"data row0 col1\" >0.000000</td>\n",
       "    </tr>\n",
       "    <tr>\n",
       "      <th id=\"T_1e6de_level0_row1\" class=\"row_heading level0 row1\" >C(decade, Treatment(reference=1980))[T.1990]</th>\n",
       "      <td id=\"T_1e6de_row1_col0\" class=\"data row1 col0\" >510.559027</td>\n",
       "      <td id=\"T_1e6de_row1_col1\" class=\"data row1 col1\" >0.000000</td>\n",
       "    </tr>\n",
       "    <tr>\n",
       "      <th id=\"T_1e6de_level0_row2\" class=\"row_heading level0 row2\" >C(decade, Treatment(reference=1980))[T.2000]</th>\n",
       "      <td id=\"T_1e6de_row2_col0\" class=\"data row2 col0\" >873.644033</td>\n",
       "      <td id=\"T_1e6de_row2_col1\" class=\"data row2 col1\" >0.000000</td>\n",
       "    </tr>\n",
       "    <tr>\n",
       "      <th id=\"T_1e6de_level0_row3\" class=\"row_heading level0 row3\" >C(decade, Treatment(reference=1980))[T.2010]</th>\n",
       "      <td id=\"T_1e6de_row3_col0\" class=\"data row3 col0\" >1122.955470</td>\n",
       "      <td id=\"T_1e6de_row3_col1\" class=\"data row3 col1\" >0.000000</td>\n",
       "    </tr>\n",
       "    <tr>\n",
       "      <th id=\"T_1e6de_level0_row4\" class=\"row_heading level0 row4\" >C(decade, Treatment(reference=1980))[T.2020]</th>\n",
       "      <td id=\"T_1e6de_row4_col0\" class=\"data row4 col0\" >2343.572656</td>\n",
       "      <td id=\"T_1e6de_row4_col1\" class=\"data row4 col1\" >0.000000</td>\n",
       "    </tr>\n",
       "    <tr>\n",
       "      <th id=\"T_1e6de_level0_row5\" class=\"row_heading level0 row5\" >C(political_alignment, Treatment(reference='Right'))[T.Center]</th>\n",
       "      <td id=\"T_1e6de_row5_col0\" class=\"data row5 col0\" >-208.918424</td>\n",
       "      <td id=\"T_1e6de_row5_col1\" class=\"data row5 col1\" >0.001388</td>\n",
       "    </tr>\n",
       "    <tr>\n",
       "      <th id=\"T_1e6de_level0_row6\" class=\"row_heading level0 row6\" >C(political_alignment, Treatment(reference='Right'))[T.Far left]</th>\n",
       "      <td id=\"T_1e6de_row6_col0\" class=\"data row6 col0\" >95.241376</td>\n",
       "      <td id=\"T_1e6de_row6_col1\" class=\"data row6 col1\" >0.046125</td>\n",
       "    </tr>\n",
       "    <tr>\n",
       "      <th id=\"T_1e6de_level0_row7\" class=\"row_heading level0 row7\" >C(political_alignment, Treatment(reference='Right'))[T.Far right]</th>\n",
       "      <td id=\"T_1e6de_row7_col0\" class=\"data row7 col0\" >110.535191</td>\n",
       "      <td id=\"T_1e6de_row7_col1\" class=\"data row7 col1\" >0.061176</td>\n",
       "    </tr>\n",
       "    <tr>\n",
       "      <th id=\"T_1e6de_level0_row8\" class=\"row_heading level0 row8\" >C(political_alignment, Treatment(reference='Right'))[T.Left]</th>\n",
       "      <td id=\"T_1e6de_row8_col0\" class=\"data row8 col0\" >10.417476</td>\n",
       "      <td id=\"T_1e6de_row8_col1\" class=\"data row8 col1\" >0.784897</td>\n",
       "    </tr>\n",
       "    <tr>\n",
       "      <th id=\"T_1e6de_level0_row9\" class=\"row_heading level0 row9\" >C(political_alignment, Treatment(reference='Right'))[T.Other]</th>\n",
       "      <td id=\"T_1e6de_row9_col0\" class=\"data row9 col0\" >-266.753500</td>\n",
       "      <td id=\"T_1e6de_row9_col1\" class=\"data row9 col1\" >0.000027</td>\n",
       "    </tr>\n",
       "    <tr>\n",
       "      <th id=\"T_1e6de_level0_row10\" class=\"row_heading level0 row10\" >journal[T.Le Figaro]</th>\n",
       "      <td id=\"T_1e6de_row10_col0\" class=\"data row10 col0\" >1106.047630</td>\n",
       "      <td id=\"T_1e6de_row10_col1\" class=\"data row10 col1\" >0.000000</td>\n",
       "    </tr>\n",
       "    <tr>\n",
       "      <th id=\"T_1e6de_level0_row11\" class=\"row_heading level0 row11\" >journal[T.Le Monde]</th>\n",
       "      <td id=\"T_1e6de_row11_col0\" class=\"data row11 col0\" >1226.758304</td>\n",
       "      <td id=\"T_1e6de_row11_col1\" class=\"data row11 col1\" >0.000000</td>\n",
       "    </tr>\n",
       "    <tr>\n",
       "      <th id=\"T_1e6de_level0_row12\" class=\"row_heading level0 row12\" >journal[T.Libération]</th>\n",
       "      <td id=\"T_1e6de_row12_col0\" class=\"data row12 col0\" >684.115991</td>\n",
       "      <td id=\"T_1e6de_row12_col1\" class=\"data row12 col1\" >0.000000</td>\n",
       "    </tr>\n",
       "    <tr>\n",
       "      <th id=\"T_1e6de_level0_row13\" class=\"row_heading level0 row13\" >journal[T.Médiapart]</th>\n",
       "      <td id=\"T_1e6de_row13_col0\" class=\"data row13 col0\" >506.155967</td>\n",
       "      <td id=\"T_1e6de_row13_col1\" class=\"data row13 col1\" >0.000000</td>\n",
       "    </tr>\n",
       "    <tr>\n",
       "      <th id=\"T_1e6de_level0_row14\" class=\"row_heading level0 row14\" >C(decade, Treatment(reference=1980))[T.1990]:C(political_alignment, Treatment(reference='Right'))[T.Center]</th>\n",
       "      <td id=\"T_1e6de_row14_col0\" class=\"data row14 col0\" >-139.665427</td>\n",
       "      <td id=\"T_1e6de_row14_col1\" class=\"data row14 col1\" >0.026778</td>\n",
       "    </tr>\n",
       "    <tr>\n",
       "      <th id=\"T_1e6de_level0_row15\" class=\"row_heading level0 row15\" >C(decade, Treatment(reference=1980))[T.2000]:C(political_alignment, Treatment(reference='Right'))[T.Center]</th>\n",
       "      <td id=\"T_1e6de_row15_col0\" class=\"data row15 col0\" >-400.157269</td>\n",
       "      <td id=\"T_1e6de_row15_col1\" class=\"data row15 col1\" >0.000000</td>\n",
       "    </tr>\n",
       "    <tr>\n",
       "      <th id=\"T_1e6de_level0_row16\" class=\"row_heading level0 row16\" >C(decade, Treatment(reference=1980))[T.2010]:C(political_alignment, Treatment(reference='Right'))[T.Center]</th>\n",
       "      <td id=\"T_1e6de_row16_col0\" class=\"data row16 col0\" >53.373031</td>\n",
       "      <td id=\"T_1e6de_row16_col1\" class=\"data row16 col1\" >0.408037</td>\n",
       "    </tr>\n",
       "    <tr>\n",
       "      <th id=\"T_1e6de_level0_row17\" class=\"row_heading level0 row17\" >C(decade, Treatment(reference=1980))[T.2020]:C(political_alignment, Treatment(reference='Right'))[T.Center]</th>\n",
       "      <td id=\"T_1e6de_row17_col0\" class=\"data row17 col0\" >157.044301</td>\n",
       "      <td id=\"T_1e6de_row17_col1\" class=\"data row17 col1\" >0.246010</td>\n",
       "    </tr>\n",
       "    <tr>\n",
       "      <th id=\"T_1e6de_level0_row18\" class=\"row_heading level0 row18\" >C(decade, Treatment(reference=1980))[T.1990]:C(political_alignment, Treatment(reference='Right'))[T.Far left]</th>\n",
       "      <td id=\"T_1e6de_row18_col0\" class=\"data row18 col0\" >44.481134</td>\n",
       "      <td id=\"T_1e6de_row18_col1\" class=\"data row18 col1\" >0.434293</td>\n",
       "    </tr>\n",
       "    <tr>\n",
       "      <th id=\"T_1e6de_level0_row19\" class=\"row_heading level0 row19\" >C(decade, Treatment(reference=1980))[T.2000]:C(political_alignment, Treatment(reference='Right'))[T.Far left]</th>\n",
       "      <td id=\"T_1e6de_row19_col0\" class=\"data row19 col0\" >22.140994</td>\n",
       "      <td id=\"T_1e6de_row19_col1\" class=\"data row19 col1\" >0.629204</td>\n",
       "    </tr>\n",
       "    <tr>\n",
       "      <th id=\"T_1e6de_level0_row20\" class=\"row_heading level0 row20\" >C(decade, Treatment(reference=1980))[T.2010]:C(political_alignment, Treatment(reference='Right'))[T.Far left]</th>\n",
       "      <td id=\"T_1e6de_row20_col0\" class=\"data row20 col0\" >-13.532975</td>\n",
       "      <td id=\"T_1e6de_row20_col1\" class=\"data row20 col1\" >0.794185</td>\n",
       "    </tr>\n",
       "    <tr>\n",
       "      <th id=\"T_1e6de_level0_row21\" class=\"row_heading level0 row21\" >C(decade, Treatment(reference=1980))[T.2020]:C(political_alignment, Treatment(reference='Right'))[T.Far left]</th>\n",
       "      <td id=\"T_1e6de_row21_col0\" class=\"data row21 col0\" >-98.851257</td>\n",
       "      <td id=\"T_1e6de_row21_col1\" class=\"data row21 col1\" >0.427862</td>\n",
       "    </tr>\n",
       "    <tr>\n",
       "      <th id=\"T_1e6de_level0_row22\" class=\"row_heading level0 row22\" >C(decade, Treatment(reference=1980))[T.1990]:C(political_alignment, Treatment(reference='Right'))[T.Far right]</th>\n",
       "      <td id=\"T_1e6de_row22_col0\" class=\"data row22 col0\" >29.874283</td>\n",
       "      <td id=\"T_1e6de_row22_col1\" class=\"data row22 col1\" >0.658627</td>\n",
       "    </tr>\n",
       "    <tr>\n",
       "      <th id=\"T_1e6de_level0_row23\" class=\"row_heading level0 row23\" >C(decade, Treatment(reference=1980))[T.2000]:C(political_alignment, Treatment(reference='Right'))[T.Far right]</th>\n",
       "      <td id=\"T_1e6de_row23_col0\" class=\"data row23 col0\" >-5.561203</td>\n",
       "      <td id=\"T_1e6de_row23_col1\" class=\"data row23 col1\" >0.924567</td>\n",
       "    </tr>\n",
       "    <tr>\n",
       "      <th id=\"T_1e6de_level0_row24\" class=\"row_heading level0 row24\" >C(decade, Treatment(reference=1980))[T.2010]:C(political_alignment, Treatment(reference='Right'))[T.Far right]</th>\n",
       "      <td id=\"T_1e6de_row24_col0\" class=\"data row24 col0\" >-18.989160</td>\n",
       "      <td id=\"T_1e6de_row24_col1\" class=\"data row24 col1\" >0.773097</td>\n",
       "    </tr>\n",
       "    <tr>\n",
       "      <th id=\"T_1e6de_level0_row25\" class=\"row_heading level0 row25\" >C(decade, Treatment(reference=1980))[T.2020]:C(political_alignment, Treatment(reference='Right'))[T.Far right]</th>\n",
       "      <td id=\"T_1e6de_row25_col0\" class=\"data row25 col0\" >-119.122400</td>\n",
       "      <td id=\"T_1e6de_row25_col1\" class=\"data row25 col1\" >0.386523</td>\n",
       "    </tr>\n",
       "    <tr>\n",
       "      <th id=\"T_1e6de_level0_row26\" class=\"row_heading level0 row26\" >C(decade, Treatment(reference=1980))[T.1990]:C(political_alignment, Treatment(reference='Right'))[T.Left]</th>\n",
       "      <td id=\"T_1e6de_row26_col0\" class=\"data row26 col0\" >60.549074</td>\n",
       "      <td id=\"T_1e6de_row26_col1\" class=\"data row26 col1\" >0.381442</td>\n",
       "    </tr>\n",
       "    <tr>\n",
       "      <th id=\"T_1e6de_level0_row27\" class=\"row_heading level0 row27\" >C(decade, Treatment(reference=1980))[T.2000]:C(political_alignment, Treatment(reference='Right'))[T.Left]</th>\n",
       "      <td id=\"T_1e6de_row27_col0\" class=\"data row27 col0\" >29.793573</td>\n",
       "      <td id=\"T_1e6de_row27_col1\" class=\"data row27 col1\" >0.570537</td>\n",
       "    </tr>\n",
       "    <tr>\n",
       "      <th id=\"T_1e6de_level0_row28\" class=\"row_heading level0 row28\" >C(decade, Treatment(reference=1980))[T.2010]:C(political_alignment, Treatment(reference='Right'))[T.Left]</th>\n",
       "      <td id=\"T_1e6de_row28_col0\" class=\"data row28 col0\" >17.371037</td>\n",
       "      <td id=\"T_1e6de_row28_col1\" class=\"data row28 col1\" >0.728621</td>\n",
       "    </tr>\n",
       "    <tr>\n",
       "      <th id=\"T_1e6de_level0_row29\" class=\"row_heading level0 row29\" >C(decade, Treatment(reference=1980))[T.2020]:C(political_alignment, Treatment(reference='Right'))[T.Left]</th>\n",
       "      <td id=\"T_1e6de_row29_col0\" class=\"data row29 col0\" >10.558252</td>\n",
       "      <td id=\"T_1e6de_row29_col1\" class=\"data row29 col1\" >0.923716</td>\n",
       "    </tr>\n",
       "    <tr>\n",
       "      <th id=\"T_1e6de_level0_row30\" class=\"row_heading level0 row30\" >C(decade, Treatment(reference=1980))[T.1990]:C(political_alignment, Treatment(reference='Right'))[T.Other]</th>\n",
       "      <td id=\"T_1e6de_row30_col0\" class=\"data row30 col0\" >315.941068</td>\n",
       "      <td id=\"T_1e6de_row30_col1\" class=\"data row30 col1\" >0.000001</td>\n",
       "    </tr>\n",
       "    <tr>\n",
       "      <th id=\"T_1e6de_level0_row31\" class=\"row_heading level0 row31\" >C(decade, Treatment(reference=1980))[T.2000]:C(political_alignment, Treatment(reference='Right'))[T.Other]</th>\n",
       "      <td id=\"T_1e6de_row31_col0\" class=\"data row31 col0\" >-394.782806</td>\n",
       "      <td id=\"T_1e6de_row31_col1\" class=\"data row31 col1\" >0.000000</td>\n",
       "    </tr>\n",
       "    <tr>\n",
       "      <th id=\"T_1e6de_level0_row32\" class=\"row_heading level0 row32\" >C(decade, Treatment(reference=1980))[T.2010]:C(political_alignment, Treatment(reference='Right'))[T.Other]</th>\n",
       "      <td id=\"T_1e6de_row32_col0\" class=\"data row32 col0\" >-909.670572</td>\n",
       "      <td id=\"T_1e6de_row32_col1\" class=\"data row32 col1\" >0.000000</td>\n",
       "    </tr>\n",
       "    <tr>\n",
       "      <th id=\"T_1e6de_level0_row33\" class=\"row_heading level0 row33\" >C(decade, Treatment(reference=1980))[T.2020]:C(political_alignment, Treatment(reference='Right'))[T.Other]</th>\n",
       "      <td id=\"T_1e6de_row33_col0\" class=\"data row33 col0\" >-2178.041266</td>\n",
       "      <td id=\"T_1e6de_row33_col1\" class=\"data row33 col1\" >0.000000</td>\n",
       "    </tr>\n",
       "    <tr>\n",
       "      <th id=\"T_1e6de_level0_row34\" class=\"row_heading level0 row34\" >na_share</th>\n",
       "      <td id=\"T_1e6de_row34_col0\" class=\"data row34 col0\" >233.105343</td>\n",
       "      <td id=\"T_1e6de_row34_col1\" class=\"data row34 col1\" >0.036684</td>\n",
       "    </tr>\n",
       "    <tr>\n",
       "      <th id=\"T_1e6de_level0_row35\" class=\"row_heading level0 row35\" >pres_votes_share</th>\n",
       "      <td id=\"T_1e6de_row35_col0\" class=\"data row35 col0\" >103.860777</td>\n",
       "      <td id=\"T_1e6de_row35_col1\" class=\"data row35 col1\" >0.435112</td>\n",
       "    </tr>\n",
       "    <tr>\n",
       "      <th id=\"T_1e6de_level0_row36\" class=\"row_heading level0 row36\" >government</th>\n",
       "      <td id=\"T_1e6de_row36_col0\" class=\"data row36 col0\" >-49.366913</td>\n",
       "      <td id=\"T_1e6de_row36_col1\" class=\"data row36 col1\" >0.214107</td>\n",
       "    </tr>\n",
       "  </tbody>\n",
       "</table>\n"
      ],
      "text/plain": [
       "<pandas.io.formats.style.Styler at 0x11917ad80>"
      ]
     },
     "execution_count": 10,
     "metadata": {},
     "output_type": "execute_result"
    }
   ],
   "source": [
    "alignment_ref = 'Right'\n",
    "period_ref = '1980'\n",
    "\n",
    "formula = f\"{outcome} ~ C(decade, Treatment(reference={period_ref})) * C(political_alignment, Treatment(reference='{alignment_ref}')) + na_share + journal + pres_votes_share + government\"\n",
    "model = smf.ols(formula, data=model_data).fit(cov_type='HC3')\n",
    "y = model_data[outcome]\n",
    "y_pred = model.predict(model_data)\n",
    "\n",
    "r2 = r2_score(y, y_pred)\n",
    "print(f\"R2: {100*r2:.2f}%\")\n",
    "print(\"\")\n",
    "\n",
    "params = model.params.rename(\"coef\").to_frame()\n",
    "pvalues = model.pvalues.rename(\"pval\").to_frame()\n",
    "results = pd.merge(params, pvalues, left_index=True, right_index=True)\n",
    "results.style"
   ]
  },
  {
   "cell_type": "markdown",
   "id": "a850e23e-d995-4010-a124-07f89e66de09",
   "metadata": {},
   "source": [
    "# Modèle à probabilité linéaire"
   ]
  },
  {
   "cell_type": "code",
   "execution_count": 11,
   "id": "232242ab-be05-48da-878b-289e2cd69acc",
   "metadata": {},
   "outputs": [],
   "source": [
    "outcome = \"quotes_share\"\n",
    "model_data = model_data_njl"
   ]
  },
  {
   "cell_type": "code",
   "execution_count": 12,
   "id": "4b25a1c7-9a68-4838-b54a-38f6e5b5a7d1",
   "metadata": {},
   "outputs": [
    {
     "name": "stdout",
     "output_type": "stream",
     "text": [
      "R2: 89.18%\n",
      "\n"
     ]
    },
    {
     "data": {
      "text/html": [
       "<style type=\"text/css\">\n",
       "</style>\n",
       "<table id=\"T_5591d\">\n",
       "  <thead>\n",
       "    <tr>\n",
       "      <th class=\"blank level0\" >&nbsp;</th>\n",
       "      <th id=\"T_5591d_level0_col0\" class=\"col_heading level0 col0\" >coef</th>\n",
       "      <th id=\"T_5591d_level0_col1\" class=\"col_heading level0 col1\" >pval</th>\n",
       "    </tr>\n",
       "  </thead>\n",
       "  <tbody>\n",
       "    <tr>\n",
       "      <th id=\"T_5591d_level0_row0\" class=\"row_heading level0 row0\" >Intercept</th>\n",
       "      <td id=\"T_5591d_row0_col0\" class=\"data row0 col0\" >-0.0115</td>\n",
       "      <td id=\"T_5591d_row0_col1\" class=\"data row0 col1\" >0.0000</td>\n",
       "    </tr>\n",
       "    <tr>\n",
       "      <th id=\"T_5591d_level0_row1\" class=\"row_heading level0 row1\" >na_share</th>\n",
       "      <td id=\"T_5591d_row1_col0\" class=\"data row1 col0\" >0.6544</td>\n",
       "      <td id=\"T_5591d_row1_col1\" class=\"data row1 col1\" >0.0000</td>\n",
       "    </tr>\n",
       "    <tr>\n",
       "      <th id=\"T_5591d_level0_row2\" class=\"row_heading level0 row2\" >pres_votes_share</th>\n",
       "      <td id=\"T_5591d_row2_col0\" class=\"data row2 col0\" >0.3214</td>\n",
       "      <td id=\"T_5591d_row2_col1\" class=\"data row2 col1\" >0.0000</td>\n",
       "    </tr>\n",
       "    <tr>\n",
       "      <th id=\"T_5591d_level0_row3\" class=\"row_heading level0 row3\" >government</th>\n",
       "      <td id=\"T_5591d_row3_col0\" class=\"data row3 col0\" >0.0934</td>\n",
       "      <td id=\"T_5591d_row3_col1\" class=\"data row3 col1\" >0.0000</td>\n",
       "    </tr>\n",
       "  </tbody>\n",
       "</table>\n"
      ],
      "text/plain": [
       "<pandas.io.formats.style.Styler at 0x107f39df0>"
      ]
     },
     "execution_count": 12,
     "metadata": {},
     "output_type": "execute_result"
    }
   ],
   "source": [
    "formula = f\"{outcome} ~ na_share + pres_votes_share + government\"\n",
    "\n",
    "model = smf.ols(formula, data=model_data).fit(cov_type='HC3')\n",
    "y = model_data[outcome]\n",
    "y_pred = model.predict(model_data)\n",
    "\n",
    "r2 = r2_score(y, y_pred)\n",
    "print(f\"R2: {100*r2:.2f}%\")\n",
    "print(\"\")\n",
    "\n",
    "params = model.params.rename(\"coef\").to_frame()\n",
    "pvalues = model.pvalues.rename(\"pval\").to_frame()\n",
    "results = pd.merge(params, pvalues, left_index=True, right_index=True)\n",
    "results.style.format({\"coef\": \"{:.4f}\", \"pval\": \"{:.4f}\"})"
   ]
  },
  {
   "cell_type": "code",
   "execution_count": 13,
   "id": "3ed64a38-fb38-40b3-ac55-a39659209e44",
   "metadata": {},
   "outputs": [
    {
     "name": "stdout",
     "output_type": "stream",
     "text": [
      "776\n",
      "0\n",
      "3204\n",
      "24.21972534332085\n"
     ]
    }
   ],
   "source": [
    "print((y_pred < 0).sum())\n",
    "print((y_pred > 1).sum())\n",
    "print(len(y_pred))\n",
    "print(100 * (y_pred < 0).sum() / len(y_pred))"
   ]
  },
  {
   "cell_type": "code",
   "execution_count": 14,
   "id": "f81a6874-3b10-4adc-bae1-758bf725e8a9",
   "metadata": {},
   "outputs": [
    {
     "name": "stdout",
     "output_type": "stream",
     "text": [
      "412\n",
      "12.85892634207241\n"
     ]
    }
   ],
   "source": [
    "outcome_data = pd.DataFrame({\n",
    "    \"month\": model_data[\"month\"],\n",
    "    \"y_pred\": y_pred\n",
    "}).groupby(['month']).sum()\n",
    "bad_outcomes = (outcome_data > 1).sum().iloc[0]\n",
    "print(bad_outcomes)\n",
    "print(100 * bad_outcomes / len(y_pred))"
   ]
  },
  {
   "cell_type": "markdown",
   "id": "e970d35e-20e2-4671-b4a1-b077adc7b7d4",
   "metadata": {},
   "source": [
    "# Modèle logistique"
   ]
  },
  {
   "cell_type": "code",
   "execution_count": 15,
   "id": "f96ce13b-2a69-43d8-acf5-b12d12e05b0c",
   "metadata": {},
   "outputs": [
    {
     "name": "stdout",
     "output_type": "stream",
     "text": [
      "Optimization terminated successfully.\n",
      "         Current function value: 0.226831\n",
      "         Iterations 7\n"
     ]
    },
    {
     "data": {
      "text/html": [
       "<style type=\"text/css\">\n",
       "</style>\n",
       "<table id=\"T_57a17\">\n",
       "  <thead>\n",
       "    <tr>\n",
       "      <th class=\"blank level0\" >&nbsp;</th>\n",
       "      <th id=\"T_57a17_level0_col0\" class=\"col_heading level0 col0\" >coef</th>\n",
       "      <th id=\"T_57a17_level0_col1\" class=\"col_heading level0 col1\" >odds_ratio</th>\n",
       "      <th id=\"T_57a17_level0_col2\" class=\"col_heading level0 col2\" >pval</th>\n",
       "    </tr>\n",
       "  </thead>\n",
       "  <tbody>\n",
       "    <tr>\n",
       "      <th id=\"T_57a17_level0_row0\" class=\"row_heading level0 row0\" >Intercept</th>\n",
       "      <td id=\"T_57a17_row0_col0\" class=\"data row0 col0\" >-3.7914</td>\n",
       "      <td id=\"T_57a17_row0_col1\" class=\"data row0 col1\" >0.0226</td>\n",
       "      <td id=\"T_57a17_row0_col2\" class=\"data row0 col2\" >0.0000</td>\n",
       "    </tr>\n",
       "    <tr>\n",
       "      <th id=\"T_57a17_level0_row1\" class=\"row_heading level0 row1\" >na_share</th>\n",
       "      <td id=\"T_57a17_row1_col0\" class=\"data row1 col0\" >4.0559</td>\n",
       "      <td id=\"T_57a17_row1_col1\" class=\"data row1 col1\" >57.7382</td>\n",
       "      <td id=\"T_57a17_row1_col2\" class=\"data row1 col2\" >0.0000</td>\n",
       "    </tr>\n",
       "    <tr>\n",
       "      <th id=\"T_57a17_level0_row2\" class=\"row_heading level0 row2\" >pres_votes_share</th>\n",
       "      <td id=\"T_57a17_row2_col0\" class=\"data row2 col0\" >4.4961</td>\n",
       "      <td id=\"T_57a17_row2_col1\" class=\"data row2 col1\" >89.6655</td>\n",
       "      <td id=\"T_57a17_row2_col2\" class=\"data row2 col2\" >0.0000</td>\n",
       "    </tr>\n",
       "    <tr>\n",
       "      <th id=\"T_57a17_level0_row3\" class=\"row_heading level0 row3\" >government</th>\n",
       "      <td id=\"T_57a17_row3_col0\" class=\"data row3 col0\" >0.2638</td>\n",
       "      <td id=\"T_57a17_row3_col1\" class=\"data row3 col1\" >1.3019</td>\n",
       "      <td id=\"T_57a17_row3_col2\" class=\"data row3 col2\" >0.0000</td>\n",
       "    </tr>\n",
       "  </tbody>\n",
       "</table>\n"
      ],
      "text/plain": [
       "<pandas.io.formats.style.Styler at 0x11d6314f0>"
      ]
     },
     "execution_count": 15,
     "metadata": {},
     "output_type": "execute_result"
    }
   ],
   "source": [
    "formula = f\"{outcome} ~ na_share + pres_votes_share + government\"\n",
    "model = smf.logit(formula, data=model_data).fit(cov_type='HC3')\n",
    "\n",
    "params = model.params.rename(\"coef\").to_frame()\n",
    "pvalues = model.pvalues.rename(\"pval\").to_frame()\n",
    "odds_ratios = np.exp(model.params).rename(\"odds_ratio\").to_frame()\n",
    "results = params.join(odds_ratios).join(pvalues)\n",
    "results.style.format({\"coef\": \"{:.4f}\", \"odds_ratio\": \"{:.4f}\", \"pval\": \"{:.4f}\"})"
   ]
  },
  {
   "cell_type": "code",
   "execution_count": 16,
   "id": "6cb7ac62-5217-4d45-b402-c3262b55e1a9",
   "metadata": {},
   "outputs": [
    {
     "name": "stdout",
     "output_type": "stream",
     "text": [
      "318\n",
      "9.925093632958802\n"
     ]
    }
   ],
   "source": [
    "y_pred = model.predict(model_data)\n",
    "\n",
    "outcome_data = pd.DataFrame({\n",
    "    \"month\": model_data[\"month\"],\n",
    "    \"y_pred\": y_pred\n",
    "}).groupby(['month']).sum()\n",
    "\n",
    "bad_outcomes = (outcome_data > 1).sum().iloc[0]\n",
    "print(bad_outcomes)\n",
    "print(100 * bad_outcomes / len(y_pred))"
   ]
  },
  {
   "cell_type": "markdown",
   "id": "f7f917ec-6edd-412c-94be-84fd8c217db6",
   "metadata": {},
   "source": [
    "# Régression béta"
   ]
  },
  {
   "cell_type": "code",
   "execution_count": 17,
   "id": "6043ef2c-4c7e-42c1-bae1-41a17c82084f",
   "metadata": {},
   "outputs": [
    {
     "name": "stdout",
     "output_type": "stream",
     "text": [
      "                              BetaModel Results                               \n",
      "==============================================================================\n",
      "Dep. Variable:           quotes_share   Log-Likelihood:                 8688.8\n",
      "Model:                      BetaModel   AIC:                        -1.737e+04\n",
      "Method:            Maximum Likelihood   BIC:                        -1.734e+04\n",
      "Date:                Mon, 29 Sep 2025                                         \n",
      "Time:                        22:36:10                                         \n",
      "No. Observations:                3204                                         \n",
      "Df Residuals:                    3199                                         \n",
      "Df Model:                           3                                         \n",
      "====================================================================================\n",
      "                       coef    std err          z      P>|z|      [0.025      0.975]\n",
      "------------------------------------------------------------------------------------\n",
      "Intercept           -4.0645      0.029   -138.617      0.000      -4.122      -4.007\n",
      "na_share             3.4980      0.120     29.105      0.000       3.262       3.734\n",
      "pres_votes_share     6.0247      0.138     43.593      0.000       5.754       6.296\n",
      "government           0.3229      0.055      5.888      0.000       0.215       0.430\n",
      "precision            2.5835      0.028     92.848      0.000       2.529       2.638\n",
      "====================================================================================\n",
      "\n"
     ]
    },
    {
     "data": {
      "text/html": [
       "<div>\n",
       "<style scoped>\n",
       "    .dataframe tbody tr th:only-of-type {\n",
       "        vertical-align: middle;\n",
       "    }\n",
       "\n",
       "    .dataframe tbody tr th {\n",
       "        vertical-align: top;\n",
       "    }\n",
       "\n",
       "    .dataframe thead th {\n",
       "        text-align: right;\n",
       "    }\n",
       "</style>\n",
       "<table border=\"1\" class=\"dataframe\">\n",
       "  <thead>\n",
       "    <tr style=\"text-align: right;\">\n",
       "      <th></th>\n",
       "      <th>coef</th>\n",
       "      <th>exp_coef</th>\n",
       "      <th>pval</th>\n",
       "    </tr>\n",
       "  </thead>\n",
       "  <tbody>\n",
       "    <tr>\n",
       "      <th>Intercept</th>\n",
       "      <td>-4.0645</td>\n",
       "      <td>0.0172</td>\n",
       "      <td>0.0</td>\n",
       "    </tr>\n",
       "    <tr>\n",
       "      <th>na_share</th>\n",
       "      <td>3.4980</td>\n",
       "      <td>33.0499</td>\n",
       "      <td>0.0</td>\n",
       "    </tr>\n",
       "    <tr>\n",
       "      <th>pres_votes_share</th>\n",
       "      <td>6.0247</td>\n",
       "      <td>413.5172</td>\n",
       "      <td>0.0</td>\n",
       "    </tr>\n",
       "    <tr>\n",
       "      <th>government</th>\n",
       "      <td>0.3229</td>\n",
       "      <td>1.3811</td>\n",
       "      <td>0.0</td>\n",
       "    </tr>\n",
       "    <tr>\n",
       "      <th>precision</th>\n",
       "      <td>2.5835</td>\n",
       "      <td>13.2429</td>\n",
       "      <td>0.0</td>\n",
       "    </tr>\n",
       "  </tbody>\n",
       "</table>\n",
       "</div>"
      ],
      "text/plain": [
       "                    coef  exp_coef  pval\n",
       "Intercept        -4.0645    0.0172   0.0\n",
       "na_share          3.4980   33.0499   0.0\n",
       "pres_votes_share  6.0247  413.5172   0.0\n",
       "government        0.3229    1.3811   0.0\n",
       "precision         2.5835   13.2429   0.0"
      ]
     },
     "execution_count": 17,
     "metadata": {},
     "output_type": "execute_result"
    }
   ],
   "source": [
    "# Make sure the outcome is strictly in (0, 1)\n",
    "eps = 1e-6\n",
    "model_data[outcome] = model_data[outcome].clip(eps, 1 - eps)\n",
    "\n",
    "formula = f\"{outcome} ~ na_share + pres_votes_share + government\"\n",
    "mod = BetaModel.from_formula(formula, data=model_data)\n",
    "res = mod.fit()\n",
    "print(res.summary())\n",
    "print(\"\")\n",
    "\n",
    "params = res.params.rename(\"coef\").to_frame()\n",
    "pvalues = res.pvalues.rename(\"pval\").to_frame()\n",
    "exp_coef = np.exp(res.params).rename(\"exp_coef\").to_frame()\n",
    "results = params.join(exp_coef).join(pvalues)\n",
    "results = results.round(4)\n",
    "results"
   ]
  },
  {
   "cell_type": "code",
   "execution_count": 18,
   "id": "15a18721-1eb2-4241-acca-f873bc035151",
   "metadata": {},
   "outputs": [
    {
     "name": "stdout",
     "output_type": "stream",
     "text": [
      "318\n",
      "9.925093632958802\n"
     ]
    }
   ],
   "source": [
    "y_pred = res.predict(model_data)\n",
    "\n",
    "outcome_data = pd.DataFrame({\n",
    "    \"month\": model_data[\"month\"],\n",
    "    \"y_pred\": y_pred\n",
    "}).groupby(['month']).sum()\n",
    "\n",
    "bad_outcomes = (outcome_data > 1).sum().iloc[0]\n",
    "print(bad_outcomes)\n",
    "print(100 * bad_outcomes / len(y_pred))"
   ]
  }
 ],
 "metadata": {
  "kernelspec": {
   "display_name": "Python 3 (ipykernel)",
   "language": "python",
   "name": "python3"
  },
  "language_info": {
   "codemirror_mode": {
    "name": "ipython",
    "version": 3
   },
   "file_extension": ".py",
   "mimetype": "text/x-python",
   "name": "python",
   "nbconvert_exporter": "python",
   "pygments_lexer": "ipython3",
   "version": "3.12.9"
  }
 },
 "nbformat": 4,
 "nbformat_minor": 5
}
