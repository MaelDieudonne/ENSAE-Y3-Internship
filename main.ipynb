{
 "cells": [
  {
   "cell_type": "code",
   "execution_count": null,
   "id": "d2725951-4abe-4ec4-8db7-387c20e7f405",
   "metadata": {},
   "outputs": [],
   "source": [
    "import h5py\n",
    "import pandas as pd\n",
    "import matplotlib.patches as mpatches\n",
    "import matplotlib.pyplot as plt\n",
    "\n",
    "from datetime import datetime\n",
    "from pandas.tseries.offsets import MonthEnd"
   ]
  },
  {
   "cell_type": "markdown",
   "id": "2c414e47-07de-4471-a902-84e38c2ee302",
   "metadata": {},
   "source": [
    "# Données"
   ]
  },
  {
   "cell_type": "code",
   "execution_count": null,
   "id": "e5737e71-124d-48bf-a730-167457ac0052",
   "metadata": {},
   "outputs": [],
   "source": [
    "quotes = pd.read_hdf(\"data/quotes.h5\")"
   ]
  },
  {
   "cell_type": "code",
   "execution_count": null,
   "id": "aaed2a45-f00e-4b03-a4ac-967b7b38cd8b",
   "metadata": {},
   "outputs": [],
   "source": [
    "ed_quotes = quotes[quotes['alignement_politique'] == 'extremegauche_gaucheradicale'].copy()"
   ]
  },
  {
   "cell_type": "code",
   "execution_count": null,
   "id": "8c13f37a-d609-4a8e-a081-f69ecb5bd6e9",
   "metadata": {},
   "outputs": [],
   "source": [
    "presi_dates = [\n",
    "    \"21/04/2002\", \"5/05/2002\",\n",
    "    \"22/04/2007\", \"6/05/2007\",\n",
    "    \"22/04/2012\", \"6/05/2012\",\n",
    "    \"21/04/2017\", \"7/05/2017\",\n",
    "    \"10/04/2022\", \"24/04/2022\"]\n",
    "presi_months = pd.to_datetime(presi_dates, dayfirst=True).to_period('M').drop_duplicates()\n",
    "\n",
    "legi_dates = [\n",
    "    \"09/06/2002\", \"16/06/2002\",\n",
    "    \"10/06/2007\", \"17/06/2007\",\n",
    "    \"10/06/2012\", \"17/06/2012\",\n",
    "    \"11/06/2017\", \"18/06/2017\",\n",
    "    \"12/06/2022\", \"19/06/2022\"]\n",
    "legi_months = pd.to_datetime(legi_dates, dayfirst=True).to_period('M').drop_duplicates()\n",
    "\n",
    "regio_dates = [\n",
    "    \"15/03/1998\",\n",
    "    \"21/03/2004\", \"28/03/2004\",\n",
    "    \"14/03/2010\", \"21/03/2010\",\n",
    "    \"06/12/2015\", \"13/12/2015\",\n",
    "    \"20/06/2021\", \"27/06/2021\"]\n",
    "regio_months = pd.to_datetime(regio_dates, dayfirst=True).to_period('M').drop_duplicates()\n",
    "\n",
    "canto_dates = [\n",
    "    \"15/03/1998\", \"22/03/1998\",\n",
    "    \"11/03/2001\", \"18/03/2001\",\n",
    "    \"21/03/2004\", \"28/03/2004\",\n",
    "    \"9/03/2008\", \"16/03/2008\",\n",
    "    \"20/03/2011\", \"27/03/2011\"]\n",
    "canto_months = pd.to_datetime(canto_dates, dayfirst=True).to_period('M').drop_duplicates()\n",
    "\n",
    "dept_dates = [\n",
    "    \"22/03/2015\", \"29/03/2015\",\n",
    "    \"20/06/2021\", \"27/06/2021\"]\n",
    "dept_months = pd.to_datetime(dept_dates, dayfirst=True).to_period('M').drop_duplicates()\n",
    "\n",
    "muni_dates = [\n",
    "    \"11/03/2001\", \"18/03/2001\",\n",
    "    \"09/03/2008\", \"16/03/2008\",\n",
    "    \"23/03/2014\", \"30/03/2014\",\n",
    "    \"15/03/2020\", \"28/06/2020\"]\n",
    "muni_months = pd.to_datetime(muni_dates, dayfirst=True).to_period('M').drop_duplicates()\n",
    "\n",
    "europ_dates = [\n",
    "    \"13/06/1999\",\n",
    "    \"13/06/2004\",\n",
    "    \"7/06/2009\",\n",
    "    \"25/05/2014\",\n",
    "    \"26/05/2019\"]\n",
    "europ_months = pd.to_datetime(europ_dates, dayfirst=True).to_period('M').drop_duplicates()"
   ]
  },
  {
   "cell_type": "markdown",
   "id": "101b3214-3993-4868-b2fb-f046ba195602",
   "metadata": {},
   "source": [
    "# Nombre et proportion d'articles citant l'ED par mois"
   ]
  },
  {
   "cell_type": "markdown",
   "id": "41c5afb6-a63a-455a-ace1-5d348a81a646",
   "metadata": {},
   "source": [
    "## ED seule + élections"
   ]
  },
  {
   "cell_type": "code",
   "execution_count": null,
   "id": "10576fb2-af12-4339-8500-f3d9b34f293d",
   "metadata": {},
   "outputs": [],
   "source": [
    "ed_monthly = ed_quotes.groupby(pd.Grouper(key='date', freq='ME'))['titre'].nunique().reset_index()\n",
    "ed_monthly.columns = ['Mois', 'Articles']\n",
    "all_monthly = quotes.groupby(pd.Grouper(key='date', freq='ME'))['titre'].nunique().reset_index()\n",
    "all_monthly.columns = ['Mois', 'Articles']\n",
    "plot_data = pd.merge(all_monthly, ed_monthly, on='Mois', how='left').fillna(0)\n",
    "plot_data['prop_ed'] = plot_data['Articles_y'] / plot_data['Articles_x']\n",
    "\n",
    "fig, ax1 = plt.subplots(figsize=(16, 6))\n",
    "\n",
    "# Effectifs\n",
    "ax1.plot(plot_data['Mois'], plot_data['Articles_y'], color=\"steelblue\")\n",
    "ax1.set_ylabel(\"Nombre d'articles citant l'ED\", color=\"steelblue\")\n",
    "ax1.tick_params(axis='y', labelcolor=\"steelblue\")\n",
    "\n",
    "# Proportions\n",
    "ax2 = ax1.twinx()\n",
    "ax2.plot(plot_data['Mois'], plot_data['prop_ed'], color=\"deepskyblue\")\n",
    "ax2.set_ylabel(\"Proportion d'articles citant l'ED\", color=\"deepskyblue\")\n",
    "ax2.tick_params(axis='y', labelcolor=\"deepskyblue\")\n",
    "ax2.set_ylim(0, 1.1)\n",
    "\n",
    "# Périodes électorales\n",
    "for period in presi_months:\n",
    "    start = period.to_timestamp()\n",
    "    end = (start + MonthEnd(1))\n",
    "    plt.axvspan(start, end, color='limegreen', alpha=0.3)\n",
    "presi_months_patch = mpatches.Patch(color='limegreen', alpha=0.3, label='Présidentielles')\n",
    "\n",
    "for period in legi_months:\n",
    "    start = period.to_timestamp()\n",
    "    end = (start + MonthEnd(1))\n",
    "    plt.axvspan(start, end, color='salmon', alpha=0.3)\n",
    "legi_months_patch = mpatches.Patch(color='salmon', alpha=0.6, label='Législatives')\n",
    "\n",
    "for period in regio_months:\n",
    "    start = period.to_timestamp()\n",
    "    end = (start + MonthEnd(1))\n",
    "    plt.axvspan(start, end, color='turquoise', alpha=0.3)\n",
    "regio_months_patch = mpatches.Patch(color='turquoise', alpha=0.6, label='Régionales')\n",
    "\n",
    "for period in canto_months:\n",
    "    start = period.to_timestamp()\n",
    "    end = (start + MonthEnd(1))\n",
    "    plt.axvspan(start, end, color='coral', alpha=0.3)\n",
    "canto_months_patch = mpatches.Patch(color='coral', alpha=0.6, label='Cantonales')\n",
    "\n",
    "for period in dept_months:\n",
    "    start = period.to_timestamp()\n",
    "    end = (start + MonthEnd(1))\n",
    "    plt.axvspan(start, end, color='coral', alpha=0.3)\n",
    "dept_months_patch = mpatches.Patch(color='coral', alpha=0.6, label='Départementales')\n",
    "\n",
    "for period in muni_months:\n",
    "    start = period.to_timestamp()\n",
    "    end = (start + MonthEnd(1))\n",
    "    plt.axvspan(start, end, color='cornflowerblue', alpha=0.3)\n",
    "muni_months_patch = mpatches.Patch(color='cornflowerblue', alpha=0.6, label='Municipales')\n",
    "\n",
    "for period in europ_months:\n",
    "    start = period.to_timestamp()\n",
    "    end = (start + MonthEnd(1))\n",
    "    plt.axvspan(start, end, color='orchid', alpha=0.3)\n",
    "europ_months_patch = mpatches.Patch(color='orchid', alpha=0.6, label='Européennes')\n",
    "\n",
    "plt.legend(handles=[legi_months_patch, presi_months_patch, regio_months_patch, canto_months_patch, dept_months_patch, muni_months_patch, europ_months_patch])\n",
    "\n",
    "plt.title(\"Nombre et proportion d'articles citant l'ED par mois\")\n",
    "plt.tight_layout()\n",
    "plt.show()"
   ]
  },
  {
   "cell_type": "markdown",
   "id": "2fde75bc-0ed8-4523-8e0b-7dd149d34de2",
   "metadata": {},
   "source": [
    "## ED en comparaison des autres orientations politiques"
   ]
  },
  {
   "cell_type": "code",
   "execution_count": null,
   "id": "b0a898b7-981a-4f27-8b4b-616081d83421",
   "metadata": {},
   "outputs": [],
   "source": [
    "political_alignments = [\n",
    "    'extremegauche_gaucheradicale',\n",
    "    'independent',\n",
    "    'regionaliste',\n",
    "    'extremedroite_droiteradicale']\n",
    "plt.figure(figsize=(16, 6))\n",
    "\n",
    "for alignment in political_alignments:\n",
    "    subset_quotes = quotes[quotes['alignement_politique'] == alignment]\n",
    "    monthly_counts = subset_quotes.groupby(pd.Grouper(key='date', freq='ME'))['titre'].nunique().reset_index()\n",
    "    monthly_counts.columns = ['Mois', 'Articles']\n",
    "    plt.plot(monthly_counts['Mois'], monthly_counts['Articles'], label=f\"{alignment}\")\n",
    "\n",
    "plt.legend()\n",
    "plt.title(\"Nombre d'articles par mois pour différentes orientations politiques\")\n",
    "plt.xlabel(\"Mois\")\n",
    "plt.ylabel(\"Nombre d'articles\")\n",
    "plt.tight_layout()\n",
    "plt.show()"
   ]
  },
  {
   "cell_type": "code",
   "execution_count": null,
   "id": "52924a29-28cd-41b5-a0d2-fe5d8b729068",
   "metadata": {},
   "outputs": [],
   "source": [
    "political_alignments = [\n",
    "    'centredroite_droite', \n",
    "    'centregauche_gauche',\n",
    "    'centre']\n",
    "plt.figure(figsize=(16, 6))\n",
    "\n",
    "for alignment in political_alignments:\n",
    "    subset_quotes = quotes[quotes['alignement_politique'] == alignment]\n",
    "    monthly_counts = subset_quotes.groupby(pd.Grouper(key='date', freq='ME'))['titre'].nunique().reset_index()\n",
    "    monthly_counts.columns = ['Mois', 'Articles']\n",
    "    plt.plot(monthly_counts['Mois'], monthly_counts['Articles'], label=f\"{alignment}\")\n",
    "\n",
    "plt.legend()\n",
    "plt.title(\"Nombre d'articles par mois pour différentes orientations politiques\")\n",
    "plt.xlabel(\"Mois\")\n",
    "plt.ylabel(\"Nombre d'articles\")\n",
    "plt.tight_layout()\n",
    "plt.show()"
   ]
  },
  {
   "cell_type": "markdown",
   "id": "219f4ff3-7ea4-45a0-bb5c-f9c8996fdeae",
   "metadata": {},
   "source": [
    "## ED en fonction des journaux"
   ]
  },
  {
   "cell_type": "code",
   "execution_count": null,
   "id": "e37dce96-bf94-4162-bc91-40ba38adc9a9",
   "metadata": {},
   "outputs": [],
   "source": [
    "journals = quotes['journal'].unique()\n",
    "plt.figure(figsize=(16, 6))\n",
    "\n",
    "for journal in journals:\n",
    "    subset_quotes = quotes[quotes['journal'] == journal]\n",
    "    monthly_counts = subset_quotes.groupby(pd.Grouper(key='date', freq='ME'))['titre'].nunique().reset_index()\n",
    "    monthly_counts.columns = ['Mois', 'Articles']\n",
    "    plt.plot(monthly_counts['Mois'], monthly_counts['Articles'], label=f\"{journal}\")\n",
    "\n",
    "plt.legend()\n",
    "plt.title(\"Nombre mensuel d'articles citant des personnalités d'ED pour différents journaux\")\n",
    "plt.xlabel(\"\")\n",
    "plt.ylabel(\"\")\n",
    "plt.tight_layout()\n",
    "plt.show()"
   ]
  },
  {
   "cell_type": "markdown",
   "id": "4411fa47-ff8e-4dfa-9284-b47db4703ae6",
   "metadata": {},
   "source": [
    "# Nombre de citations par article"
   ]
  },
  {
   "cell_type": "code",
   "execution_count": null,
   "id": "353b9f1a-1a54-473b-b107-2288ac7871d1",
   "metadata": {},
   "outputs": [],
   "source": [
    "quotes_per_article_monthly = ed_quotes.groupby(pd.Grouper(key='date', freq='ME'))['titre'].nunique().reset_index()\n",
    "quotes_per_article_monthly.columns = ['Mois', 'Nb cit']\n",
    "quotes_per_article_monthly['12_month_MA'] = quotes_per_article_monthly['Nb cit'].rolling(window=12).mean()\n",
    "\n",
    "plt.figure(figsize=(16, 6))\n",
    "plt.plot(quotes_per_article_monthly['Mois'], quotes_per_article_monthly['Nb cit'], marker='', linestyle='-', color='steelblue', label='Moyenne mensuelle')\n",
    "plt.plot(quotes_per_article_monthly['Mois'], quotes_per_article_monthly['12_month_MA'], marker='', linestyle='-', color='deepskyblue', label='Moyenne mobile annuelle')\n",
    "plt.xlabel('')\n",
    "plt.ylabel('')\n",
    "plt.title(\"Nombre de citations par article citant une personne d'ED\")\n",
    "plt.legend()\n",
    "plt.tight_layout()\n",
    "plt.show()"
   ]
  },
  {
   "cell_type": "markdown",
   "id": "f6fa3098-7db7-4655-8174-cab994841c79",
   "metadata": {},
   "source": [
    "# Longueur des citations"
   ]
  },
  {
   "cell_type": "code",
   "execution_count": null,
   "id": "f2392eca-4f86-4345-96df-2b3833d72b98",
   "metadata": {},
   "outputs": [],
   "source": [
    "ed_quotes.loc[:, 'quote_length'] = ed_quotes['quotes'].apply(lambda x: len(x['Quote'][0].strip('«  »')))\n",
    "quote_length_monthly = ed_quotes.groupby(pd.Grouper(key='date', freq='ME'))['quote_length'].nunique().reset_index()\n",
    "quote_length_monthly.columns = ['Mois', 'Longueur des citations']\n",
    "quote_length_monthly['12_month_MA'] = quote_length_monthly['Longueur des citations'].rolling(window=12).mean()\n",
    "\n",
    "plt.figure(figsize=(16, 6))\n",
    "plt.plot(quote_length_monthly['Mois'], quote_length_monthly['Longueur des citations'], marker='', linestyle='-', color='steelblue', label='Moyenne mensuelle')\n",
    "plt.plot(quote_length_monthly['Mois'], quote_length_monthly['12_month_MA'], marker='', linestyle='-', color='deepskyblue', label='Moyenne mobile annuelle')\n",
    "plt.xlabel('Mois')\n",
    "plt.ylabel('Longueur des citations')\n",
    "plt.title(\"Longueur moyenne des citations des personnalités d'ED, par mois\")\n",
    "plt.legend()\n",
    "plt.tight_layout()\n",
    "plt.show()"
   ]
  },
  {
   "cell_type": "markdown",
   "id": "b20d49ec-b70d-4682-b72c-b3f284dce194",
   "metadata": {},
   "source": [
    "# Style des citations"
   ]
  },
  {
   "cell_type": "code",
   "execution_count": null,
   "id": "9c0be111-16a9-4e79-8f7d-96be21a91f83",
   "metadata": {},
   "outputs": [],
   "source": [
    "ed_quotes.loc[:, 'quote_style'] = ed_quotes['quotes'].apply(lambda x: str(x['Quote'][3]))\n",
    "ed_style_monthly = ed_quotes.groupby([pd.Grouper(key='date', freq='ME'), 'quote_style']).size().reset_index(name='count')\n",
    "ed_style_monthly_pivot = ed_style_monthly.pivot(index='date', columns='quote_style', values='count').fillna(0)\n",
    "ed_style_monthly_pivot = ed_style_monthly_pivot.div(ed_style_monthly_pivot.sum(axis=1), axis=0)\n",
    "ed_style_monthly_pivot_ma = ed_style_monthly_pivot.rolling(window=12, min_periods=1).mean()\n",
    "\n",
    "\n",
    "plt.figure(figsize=(16, 6))\n",
    "\n",
    "for style in ed_style_monthly_pivot.columns:\n",
    "    plt.plot(ed_style_monthly_pivot.index, ed_style_monthly_pivot[style], label=f'{style} (raw)', alpha=0.6)\n",
    "    plt.plot(ed_style_monthly_pivot_ma.index, ed_style_monthly_pivot_ma[style], label=f'{style} (12-month MA)', linestyle='--')\n",
    "\n",
    "plt.legend(title=\"Style de citation\")\n",
    "plt.title(\"Part des types de citation de personnalités de l'ED par mois avec moyenne mobile sur 12 mois\")\n",
    "plt.tight_layout()\n",
    "plt.show()"
   ]
  },
  {
   "cell_type": "markdown",
   "id": "8bee30d0-70c1-4c68-b2ec-4303b4fa6a4c",
   "metadata": {},
   "source": [
    "# Journalistes et personnalités"
   ]
  },
  {
   "cell_type": "code",
   "execution_count": null,
   "id": "eaf2ffb3-7187-4ede-8a5c-157c78829408",
   "metadata": {},
   "outputs": [],
   "source": [
    "ed_pers_monthly = ed_quotes.groupby(pd.Grouper(key='date', freq='ME'))['name_surname'].nunique().reset_index()\n",
    "ed_pers_monthly.columns = ['Mois', 'Personnalités']\n",
    "\n",
    "ed_journ_monthly = (\n",
    "    ed_quotes.explode('list_authors')\n",
    "    .groupby(pd.Grouper(key='date', freq='ME'))['list_authors']\n",
    "    .nunique()\n",
    "    .reset_index()\n",
    ")\n",
    "ed_journ_monthly.columns = ['Mois', 'Journalistes']\n",
    "plot_data = pd.merge(ed_pers_monthly, ed_journ_monthly, on='Mois', how='left').fillna(0)\n",
    "\n",
    "plt.figure(figsize=(16, 6))\n",
    "plt.plot(plot_data['Mois'], plot_data['Personnalités'], color=\"steelblue\", label=\"Nombre de personnalités de l'ED citées par mois\")\n",
    "plt.plot(plot_data['Mois'], plot_data['Journalistes'], color=\"deepskyblue\", label=\"Nombre de journalistes citant des personnalités d'ED par mois\")\n",
    "plt.legend()\n",
    "plt.title(\"Nombre de journalistes et de personnalités de l'ED apparaisant par mois\")\n",
    "plt.tight_layout()\n",
    "plt.show()"
   ]
  },
  {
   "cell_type": "markdown",
   "id": "087ffa9d-23fc-4e84-a030-dd4264045606",
   "metadata": {},
   "source": [
    "# Cues\n",
    "Beaucoup de valeurs manquantes, et pas l'impression d'évolutions notables au cours du temps ?"
   ]
  },
  {
   "cell_type": "code",
   "execution_count": null,
   "id": "19529d66-a5b6-4667-965f-4f8036d33027",
   "metadata": {},
   "outputs": [],
   "source": [
    "# Comparer selon les orientations politiques sans dimension temporelle"
   ]
  },
  {
   "cell_type": "code",
   "execution_count": null,
   "id": "897620ca-0934-4753-887a-9570635b9721",
   "metadata": {
    "scrolled": true
   },
   "outputs": [],
   "source": [
    "ed_clean = ed_quotes[\n",
    "    ed_quotes['cue_lemma'].notna() & (ed_quotes['cue_lemma'] != 'nan')\n",
    "].copy()\n",
    "ed_clean['year'] = ed_clean['date'].dt.year\n",
    "\n",
    "lemma_counts = (\n",
    "    ed_clean\n",
    "    .groupby(['year', 'cue_lemma'])\n",
    "    .size()\n",
    "    .reset_index(name='count')\n",
    ")\n",
    "\n",
    "top_lemmas_per_year = (\n",
    "    lemma_counts\n",
    "    .sort_values(['year', 'count'], ascending=[True, False])\n",
    "    .groupby('year')\n",
    "    .head(5)\n",
    ").reset_index(drop=True)\n",
    "\n",
    "top_lemmas_per_year.style.hide(axis=\"index\")"
   ]
  }
 ],
 "metadata": {
  "kernelspec": {
   "display_name": "Python 3 (ipykernel)",
   "language": "python",
   "name": "python3"
  },
  "language_info": {
   "codemirror_mode": {
    "name": "ipython",
    "version": 3
   },
   "file_extension": ".py",
   "mimetype": "text/x-python",
   "name": "python",
   "nbconvert_exporter": "python",
   "pygments_lexer": "ipython3",
   "version": "3.12.9"
  }
 },
 "nbformat": 4,
 "nbformat_minor": 5
}
