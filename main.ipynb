{
 "cells": [
  {
   "cell_type": "code",
   "execution_count": null,
   "id": "d2725951-4abe-4ec4-8db7-387c20e7f405",
   "metadata": {},
   "outputs": [],
   "source": [
    "import h5py\n",
    "import pandas as pd\n",
    "import matplotlib.patches as mpatches\n",
    "import matplotlib.pyplot as plt\n",
    "\n",
    "from datetime import datetime\n",
    "from pandas.tseries.offsets import MonthEnd"
   ]
  },
  {
   "cell_type": "markdown",
   "id": "2c414e47-07de-4471-a902-84e38c2ee302",
   "metadata": {
    "jp-MarkdownHeadingCollapsed": true
   },
   "source": [
    "# Données"
   ]
  },
  {
   "cell_type": "code",
   "execution_count": null,
   "id": "e5737e71-124d-48bf-a730-167457ac0052",
   "metadata": {},
   "outputs": [],
   "source": [
    "quotes = pd.read_hdf(\"data/quotes.h5\")"
   ]
  },
  {
   "cell_type": "code",
   "execution_count": null,
   "id": "aaed2a45-f00e-4b03-a4ac-967b7b38cd8b",
   "metadata": {},
   "outputs": [],
   "source": [
    "ed_quotes = quotes[quotes['alignement_politique'] == 'extremedroite_droiteradicale']"
   ]
  },
  {
   "cell_type": "code",
   "execution_count": null,
   "id": "8c13f37a-d609-4a8e-a081-f69ecb5bd6e9",
   "metadata": {},
   "outputs": [],
   "source": [
    "presi_dates = [\n",
    "    \"21/04/2002\", \"5/05/2002\",\n",
    "    \"22/04/2007\", \"6/05/2007\",\n",
    "    \"22/04/2012\", \"6/05/2012\",\n",
    "    \"21/04/2017\", \"7/05/2017\",\n",
    "    \"10/04/2022\", \"24/04/2022\"]\n",
    "presi_months = pd.to_datetime(presi_dates, dayfirst=True).to_period('M').drop_duplicates()\n",
    "\n",
    "legi_dates = [\n",
    "    \"09/06/2002\", \"16/06/2002\",\n",
    "    \"10/06/2007\", \"17/06/2007\",\n",
    "    \"10/06/2012\", \"17/06/2012\",\n",
    "    \"11/06/2017\", \"18/06/2017\",\n",
    "    \"12/06/2022\", \"19/06/2022\"]\n",
    "legi_months = pd.to_datetime(legi_dates, dayfirst=True).to_period('M').drop_duplicates()\n",
    "\n",
    "regio_dates = [\n",
    "    \"15/03/1998\",\n",
    "    \"21/03/2004\", \"28/03/2004\",\n",
    "    \"14/03/2010\", \"21/03/2010\",\n",
    "    \"06/12/2015\", \"13/12/2015\",\n",
    "    \"20/06/2021\", \"27/06/2021\"]\n",
    "regio_months = pd.to_datetime(regio_dates, dayfirst=True).to_period('M').drop_duplicates()\n",
    "\n",
    "canto_dates = [\n",
    "    \"15/03/1998\", \"22/03/1998\",\n",
    "    \"11/03/2001\", \"18/03/2001\",\n",
    "    \"21/03/2004\", \"28/03/2004\",\n",
    "    \"9/03/2008\", \"16/03/2008\",\n",
    "    \"20/03/2011\", \"27/03/2011\"]\n",
    "canto_months = pd.to_datetime(canto_dates, dayfirst=True).to_period('M').drop_duplicates()\n",
    "\n",
    "dept_dates = [\n",
    "    \"22/03/2015\", \"29/03/2015\",\n",
    "    \"20/06/2021\", \"27/06/2021\"]\n",
    "dept_months = pd.to_datetime(dept_dates, dayfirst=True).to_period('M').drop_duplicates()\n",
    "\n",
    "muni_dates = [\n",
    "    \"11/03/2001\", \"18/03/2001\",\n",
    "    \"09/03/2008\", \"16/03/2008\",\n",
    "    \"23/03/2014\", \"30/03/2014\",\n",
    "    \"15/03/2020\", \"28/06/2020\"]\n",
    "muni_months = pd.to_datetime(muni_dates, dayfirst=True).to_period('M').drop_duplicates()\n",
    "\n",
    "europ_dates = [\n",
    "    \"13/06/1999\",\n",
    "    \"13/06/2004\",\n",
    "    \"7/06/2009\",\n",
    "    \"25/05/2014\",\n",
    "    \"26/05/2019\"]\n",
    "europ_months = pd.to_datetime(europ_dates, dayfirst=True).to_period('M').drop_duplicates()"
   ]
  },
  {
   "cell_type": "markdown",
   "id": "101b3214-3993-4868-b2fb-f046ba195602",
   "metadata": {},
   "source": [
    "# Nombre et proportion d'articles citant l'ED par mois"
   ]
  },
  {
   "cell_type": "code",
   "execution_count": null,
   "id": "10576fb2-af12-4339-8500-f3d9b34f293d",
   "metadata": {},
   "outputs": [],
   "source": [
    "ed_monthly = ed_quotes.groupby(pd.Grouper(key='date', freq='ME'))['titre'].nunique().reset_index()\n",
    "ed_monthly.columns = ['Mois', 'Articles']\n",
    "all_monthly = quotes.groupby(pd.Grouper(key='date', freq='ME'))['titre'].nunique().reset_index()\n",
    "all_monthly.columns = ['Mois', 'Articles']\n",
    "plot_data = pd.merge(all_monthly, ed_monthly, on='Mois', how='left').fillna(0)\n",
    "plot_data['prop_ed'] = plot_data['Articles_y'] / plot_data['Articles_x']\n",
    "\n",
    "fig, ax1 = plt.subplots(figsize=(16, 6))\n",
    "\n",
    "# Effectifs\n",
    "ax1.plot(plot_data['Mois'], plot_data['Articles_y'], color=\"steelblue\")\n",
    "ax1.set_ylabel(\"Nombre d'articles citant l'ED\", color=\"steelblue\")\n",
    "ax1.tick_params(axis='y', labelcolor=\"steelblue\")\n",
    "\n",
    "# Proportions\n",
    "ax2 = ax1.twinx()\n",
    "ax2.plot(plot_data['Mois'], plot_data['prop_ed'], color=\"deepskyblue\")\n",
    "ax2.set_ylabel(\"Proportion d'articles citant l'ED\", color=\"deepskyblue\")\n",
    "ax2.tick_params(axis='y', labelcolor=\"deepskyblue\")\n",
    "ax2.set_ylim(0, 1.1)\n",
    "\n",
    "# Périodes électorales\n",
    "for period in presi_months:\n",
    "    start = period.to_timestamp()\n",
    "    end = (start + MonthEnd(1))\n",
    "    plt.axvspan(start, end, color='limegreen', alpha=0.3)\n",
    "presi_months_patch = mpatches.Patch(color='limegreen', alpha=0.3, label='Présidentielles')\n",
    "\n",
    "for period in legi_months:\n",
    "    start = period.to_timestamp()\n",
    "    end = (start + MonthEnd(1))\n",
    "    plt.axvspan(start, end, color='salmon', alpha=0.3)\n",
    "legi_months_patch = mpatches.Patch(color='salmon', alpha=0.6, label='Législatives')\n",
    "\n",
    "for period in regio_months:\n",
    "    start = period.to_timestamp()\n",
    "    end = (start + MonthEnd(1))\n",
    "    plt.axvspan(start, end, color='turquoise', alpha=0.3)\n",
    "regio_months_patch = mpatches.Patch(color='turquoise', alpha=0.6, label='Régionales')\n",
    "\n",
    "for period in canto_months:\n",
    "    start = period.to_timestamp()\n",
    "    end = (start + MonthEnd(1))\n",
    "    plt.axvspan(start, end, color='coral', alpha=0.3)\n",
    "canto_months_patch = mpatches.Patch(color='coral', alpha=0.6, label='Cantonales')\n",
    "\n",
    "for period in dept_months:\n",
    "    start = period.to_timestamp()\n",
    "    end = (start + MonthEnd(1))\n",
    "    plt.axvspan(start, end, color='coral', alpha=0.3)\n",
    "dept_months_patch = mpatches.Patch(color='coral', alpha=0.6, label='Départementales')\n",
    "\n",
    "for period in muni_months:\n",
    "    start = period.to_timestamp()\n",
    "    end = (start + MonthEnd(1))\n",
    "    plt.axvspan(start, end, color='cornflowerblue', alpha=0.3)\n",
    "muni_months_patch = mpatches.Patch(color='cornflowerblue', alpha=0.6, label='Municipales')\n",
    "\n",
    "for period in europ_months:\n",
    "    start = period.to_timestamp()\n",
    "    end = (start + MonthEnd(1))\n",
    "    plt.axvspan(start, end, color='orchid', alpha=0.3)\n",
    "europ_months_patch = mpatches.Patch(color='orchid', alpha=0.6, label='Européennes')\n",
    "\n",
    "plt.legend(handles=[legi_months_patch, presi_months_patch, regio_months_patch, canto_months_patch, dept_months_patch, muni_months_patch, europ_months_patch])\n",
    "\n",
    "plt.title(\"Nombre et proportion d'articles citant l'ED par mois\")\n",
    "plt.tight_layout()\n",
    "plt.show()"
   ]
  },
  {
   "cell_type": "markdown",
   "id": "4411fa47-ff8e-4dfa-9284-b47db4703ae6",
   "metadata": {},
   "source": [
    "# Nombre de citations par article"
   ]
  },
  {
   "cell_type": "code",
   "execution_count": null,
   "id": "353b9f1a-1a54-473b-b107-2288ac7871d1",
   "metadata": {},
   "outputs": [],
   "source": []
  },
  {
   "cell_type": "code",
   "execution_count": null,
   "id": "22f11134-11e2-4e62-86b4-986bf9a7c24c",
   "metadata": {},
   "outputs": [],
   "source": []
  },
  {
   "cell_type": "markdown",
   "id": "f6fa3098-7db7-4655-8174-cab994841c79",
   "metadata": {},
   "source": [
    "# Longueur des citations"
   ]
  },
  {
   "cell_type": "code",
   "execution_count": null,
   "id": "fc036dd1-8386-497c-b12a-129d2bb09fe4",
   "metadata": {},
   "outputs": [],
   "source": []
  },
  {
   "cell_type": "code",
   "execution_count": null,
   "id": "8f2e58d4-3a0c-491d-8bbd-9c2623e29c0b",
   "metadata": {},
   "outputs": [],
   "source": [
    "df.style.hide(axis=\"index\")"
   ]
  },
  {
   "cell_type": "code",
   "execution_count": null,
   "id": "e6494a3f-42ea-495e-a296-6d47976d1bf6",
   "metadata": {},
   "outputs": [],
   "source": [
    "len(ed_quotes['dernier_parti'].unique())"
   ]
  },
  {
   "cell_type": "code",
   "execution_count": null,
   "id": "49b7c833-8d00-4ebc-bd25-e0e2bd53a130",
   "metadata": {},
   "outputs": [],
   "source": [
    "len(df['dernier_parti'].unique())"
   ]
  },
  {
   "cell_type": "code",
   "execution_count": null,
   "id": "1eb9b75d-8d30-4408-8a2a-90c4571a1733",
   "metadata": {},
   "outputs": [],
   "source": [
    "df.columns"
   ]
  },
  {
   "cell_type": "code",
   "execution_count": null,
   "id": "3560d6f5-88a2-44c5-a125-f0f0084156d4",
   "metadata": {},
   "outputs": [],
   "source": [
    "df.iloc[0]['titre']"
   ]
  },
  {
   "cell_type": "code",
   "execution_count": null,
   "id": "63baf7b4-bf69-46be-9535-1d461697669f",
   "metadata": {},
   "outputs": [],
   "source": [
    "df.iloc[0]['quotes']"
   ]
  }
 ],
 "metadata": {
  "kernelspec": {
   "display_name": "Python 3 (ipykernel)",
   "language": "python",
   "name": "python3"
  },
  "language_info": {
   "codemirror_mode": {
    "name": "ipython",
    "version": 3
   },
   "file_extension": ".py",
   "mimetype": "text/x-python",
   "name": "python",
   "nbconvert_exporter": "python",
   "pygments_lexer": "ipython3",
   "version": "3.12.9"
  }
 },
 "nbformat": 4,
 "nbformat_minor": 5
}
