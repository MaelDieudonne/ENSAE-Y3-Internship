{
 "cells": [
  {
   "cell_type": "code",
   "execution_count": null,
   "id": "b711356e-62e9-40d1-90aa-ebd27a189a49",
   "metadata": {},
   "outputs": [],
   "source": [
    "import h5py\n",
    "import pandas as pd\n",
    "\n",
    "from urllib.parse import unquote"
   ]
  },
  {
   "cell_type": "code",
   "execution_count": null,
   "id": "ba686740-0b42-43ce-be74-10134937d081",
   "metadata": {},
   "outputs": [],
   "source": [
    "quotes = pd.read_hdf(\"data/quotes/quotes_pol_allpol1.h5\")"
   ]
  },
  {
   "cell_type": "code",
   "execution_count": null,
   "id": "6795ed03-ddc4-4117-b0c5-afd9e0a97059",
   "metadata": {},
   "outputs": [],
   "source": [
    "elec = pd.read_parquet(\"data/elec/leg_shares.parquet\")"
   ]
  },
  {
   "cell_type": "code",
   "execution_count": null,
   "id": "3d92b9bf-5833-4867-9762-0315d07960a8",
   "metadata": {},
   "outputs": [],
   "source": [
    "parties = pd.read_csv(\"data/quotes/parties_annotated_eo.csv\")\n",
    "\n",
    "for col in parties.select_dtypes(include='object').columns:\n",
    "    parties[col] = parties[col].apply(lambda x: unquote(x) if isinstance(x, str) else x)"
   ]
  },
  {
   "cell_type": "code",
   "execution_count": null,
   "id": "c3bc6fa7-1fa1-467b-ab04-99a807764246",
   "metadata": {},
   "outputs": [],
   "source": []
  },
  {
   "cell_type": "code",
   "execution_count": null,
   "id": "7e7fd238-5016-4540-aefd-80bcdc19dbab",
   "metadata": {
    "scrolled": true
   },
   "outputs": [],
   "source": [
    "ed_quotes = quotes[quotes['alignement_politique'] == 'extremedroite_droiteradicale'].copy()\n",
    "\n",
    "ed_monthly = ed_quotes.groupby(pd.Grouper(key='date', freq='ME'))['text_id'].nunique().reset_index()\n",
    "ed_monthly.columns = ['Mois', 'Articles_ed']\n",
    "all_monthly = quotes.groupby(pd.Grouper(key='date', freq='ME'))['text_id'].nunique().reset_index()\n",
    "all_monthly.columns = ['Mois', 'Articles']\n",
    "\n",
    "model_data = pd.merge(all_monthly, ed_monthly, on='Mois', how='left')\n",
    "model_data['prop_ed'] = model_data['Articles'] / model_data['Articles_ed']"
   ]
  }
 ],
 "metadata": {
  "kernelspec": {
   "display_name": "Python 3 (ipykernel)",
   "language": "python",
   "name": "python3"
  },
  "language_info": {
   "codemirror_mode": {
    "name": "ipython",
    "version": 3
   },
   "file_extension": ".py",
   "mimetype": "text/x-python",
   "name": "python",
   "nbconvert_exporter": "python",
   "pygments_lexer": "ipython3",
   "version": "3.12.9"
  }
 },
 "nbformat": 4,
 "nbformat_minor": 5
}
