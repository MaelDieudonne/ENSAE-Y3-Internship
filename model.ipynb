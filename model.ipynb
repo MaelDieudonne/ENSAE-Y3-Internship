{
 "cells": [
  {
   "cell_type": "code",
   "execution_count": null,
   "id": "b711356e-62e9-40d1-90aa-ebd27a189a49",
   "metadata": {},
   "outputs": [],
   "source": [
    "import h5py\n",
    "import pandas as pd\n",
    "import seaborn as sns\n",
    "import matplotlib.pyplot as plt\n",
    "import statsmodels.api as sm"
   ]
  },
  {
   "cell_type": "code",
   "execution_count": null,
   "id": "ba686740-0b42-43ce-be74-10134937d081",
   "metadata": {},
   "outputs": [],
   "source": [
    "quotes = pd.read_hdf(\"data/quotes/quotes_pol_allpol1.h5\")"
   ]
  },
  {
   "cell_type": "code",
   "execution_count": null,
   "id": "6795ed03-ddc4-4117-b0c5-afd9e0a97059",
   "metadata": {},
   "outputs": [],
   "source": [
    "elec = pd.read_parquet(\"data/elec/leg_shares.parquet\")"
   ]
  },
  {
   "cell_type": "markdown",
   "id": "4f663c8b-7d93-4075-8a15-9840754d714d",
   "metadata": {},
   "source": [
    "## Step 1: compute monthly share of articles with quotes per political nuance"
   ]
  },
  {
   "cell_type": "code",
   "execution_count": null,
   "id": "fdd61325-0d18-461b-917c-3b537de390d5",
   "metadata": {
    "scrolled": true
   },
   "outputs": [],
   "source": [
    "# Filter quotes to only include political alignments from elec dataframe\n",
    "valid_alignments = elec['alignement_politique'].unique()\n",
    "filtered_quotes = quotes[quotes['alignement_politique'].isin(valid_alignments)].copy()\n",
    "\n",
    "# Convert date to datetime if it isn't already\n",
    "if not pd.api.types.is_datetime64_any_dtype(filtered_quotes['date']):\n",
    "    filtered_quotes['date'] = pd.to_datetime(filtered_quotes['date'])\n",
    "\n",
    "# Extract month from date\n",
    "filtered_quotes['month'] = filtered_quotes['date'].dt.to_period('M')\n",
    "\n",
    "# Count text_ids by month and political alignment\n",
    "counts = filtered_quotes.groupby(['month', 'journal', 'alignement_politique'])['text_id'].nunique().reset_index()\n",
    "\n",
    "# Get total counts per month\n",
    "total_counts = filtered_quotes.groupby(['month', 'journal'])['text_id'].nunique().reset_index()\n",
    "total_counts.rename(columns={'text_id': 'total_text_id'}, inplace=True)\n",
    "\n",
    "# Merge the counts with total counts\n",
    "model_data = pd.merge(counts, total_counts, on=['month', 'journal'])\n",
    "\n",
    "# Calculate share and cleanup the dataframe\n",
    "model_data['art_share'] = model_data['text_id'] / model_data['total_text_id']\n",
    "model_data = model_data[['month', 'journal', 'alignement_politique', 'art_share']].copy()"
   ]
  },
  {
   "cell_type": "markdown",
   "id": "64264a98-c713-4f7c-9247-71dd0bb080bd",
   "metadata": {},
   "source": [
    "## Step 2: identify electoral cycles"
   ]
  },
  {
   "cell_type": "code",
   "execution_count": null,
   "id": "21a43d9b-9435-480d-824a-d996c5fffcc5",
   "metadata": {},
   "outputs": [],
   "source": [
    "legi_dates = [\n",
    "    \"21/06/1981\",\n",
    "    \"16/03/1986\",\n",
    "    \"11/06/1988\",\n",
    "    \"28/03/1993\",\n",
    "    \"01/06/1997\",\n",
    "    \"16/06/2002\",\n",
    "    \"17/06/2007\",\n",
    "    \"17/06/2012\",\n",
    "    \"18/06/2017\",\n",
    "    \"19/06/2022\",\n",
    "    \"06/07/2024\"]"
   ]
  },
  {
   "cell_type": "code",
   "execution_count": null,
   "id": "0e859624-2cad-4d68-bfc1-9e7b095cae95",
   "metadata": {},
   "outputs": [],
   "source": [
    "# Remove entries older than the earliest election in the dataset\n",
    "legi_dates = pd.to_datetime(legi_dates, format=\"%d/%m/%Y\").to_period('M').sort_values()\n",
    "model_data = model_data[model_data['month'] >= min(legi_dates)].copy().reset_index()"
   ]
  },
  {
   "cell_type": "code",
   "execution_count": null,
   "id": "e4596397-4ae6-41a1-af32-4bc19df17b73",
   "metadata": {},
   "outputs": [],
   "source": [
    "# Find the year of the latest election\n",
    "def find_last_election_year(current_month):\n",
    "    relevant_elections = legi_dates[legi_dates <= current_month]\n",
    "\n",
    "    if not relevant_elections.empty:\n",
    "        return relevant_elections.max().year\n",
    "    else:\n",
    "        return pd.NA\n",
    "\n",
    "model_data['last_election'] = model_data['month'].apply(find_last_election_year)\n",
    "model_data['last_election'] = pd.to_datetime(model_data['last_election'], format=\"%Y\")"
   ]
  },
  {
   "cell_type": "markdown",
   "id": "477a47e4-fe7e-4164-85b3-f3fd59c575e1",
   "metadata": {},
   "source": [
    "## Step 3: merge with electoral data"
   ]
  },
  {
   "cell_type": "code",
   "execution_count": null,
   "id": "517928d0-7c2a-47bf-beae-d257278a007b",
   "metadata": {
    "scrolled": true
   },
   "outputs": [],
   "source": [
    "elec = elec.groupby('alignement_politique', as_index=False).sum()\n",
    "elec.drop(columns='candidat', inplace=True)\n",
    "elec = elec.melt(id_vars=['alignement_politique'], var_name='last_election', value_name='votes_share')\n",
    "elec['last_election'] = pd.to_datetime(elec['last_election'], format=\"%Y\")"
   ]
  },
  {
   "cell_type": "code",
   "execution_count": null,
   "id": "98ad6b79-4b7c-4713-9262-df64e1716ad7",
   "metadata": {
    "scrolled": true
   },
   "outputs": [],
   "source": [
    "model_data = pd.merge(model_data, elec, on=['alignement_politique', 'last_election'], how='left')\n",
    "model_data.drop(columns=['last_election', 'index'], inplace=True)"
   ]
  },
  {
   "cell_type": "markdown",
   "id": "b0ad1462-802f-47ce-a427-d3c179ff82fd",
   "metadata": {},
   "source": [
    "## Step 4: governement dummy\n",
    "Comment traiter les cohabitations ? En l'état le bonus est seulement accordé à la nuance au gouvernement.\n",
    "\n",
    "- **centre**\n",
    "  - 19/06/2017 - 31/12/2024\n",
    "- **centredroite_droite**\n",
    "  - 20/03/1986 - 10/05/1988\n",
    "  - 29/03/1993 - 02/06/1997\n",
    "  - 06/05/2002 - 10/05/2012\n",
    "- **centregauche_gauche**\n",
    "  - 22/06/1981 - 20/03/1986\n",
    "  - 10/05/1988 - 29/03/1993\n",
    "  - 02/06/1997 - 06/05/2002\n",
    "  - 15/05/2012 - 19/06/2017"
   ]
  },
  {
   "cell_type": "code",
   "execution_count": null,
   "id": "b5fbbc2d-6aec-44a9-869e-3263fb11283a",
   "metadata": {},
   "outputs": [],
   "source": [
    "gov_periods = {\n",
    "    \"centre\": [(\"2017-06-19\", \"2024-12-31\")],\n",
    "    \"centredroite_droite\": [\n",
    "        (\"1986-03-20\", \"1988-05-10\"),\n",
    "        (\"1993-03-29\", \"1997-06-02\"),\n",
    "        (\"2002-05-06\", \"2012-05-10\"),\n",
    "    ],\n",
    "    \"centregauche_gauche\": [\n",
    "        (\"1981-06-22\", \"1986-03-20\"),\n",
    "        (\"1988-05-10\", \"1993-03-29\"),\n",
    "        (\"1997-06-02\", \"2002-05-06\"),\n",
    "        (\"2012-05-15\", \"2017-06-19\"),\n",
    "    ],\n",
    "    \"extremedroite_droiteradicale\": [],\n",
    "    \"extremegauche_gaucheradicale\": [],\n",
    "    \"autre\": [],\n",
    "}"
   ]
  },
  {
   "cell_type": "code",
   "execution_count": null,
   "id": "0b709512-c48f-499d-acce-83d174adc332",
   "metadata": {},
   "outputs": [],
   "source": [
    "all_start_dates = [pd.to_datetime(start) for periods in gov_periods.values() for start, _ in periods]\n",
    "all_end_dates = [pd.to_datetime(end) for periods in gov_periods.values() for _, end in periods]\n",
    "min_date = min(all_start_dates).replace(day=1)\n",
    "max_date = max(all_end_dates).replace(day=1)\n",
    "all_months = pd.date_range(start=min_date, end=max_date, freq=\"MS\")\n",
    "\n",
    "data = []\n",
    "\n",
    "for alignment, periods in gov_periods.items():\n",
    "    active_months = pd.Series(0, index=all_months)\n",
    "    for start, end in periods:\n",
    "        period_range = pd.date_range(\n",
    "            start=pd.to_datetime(start).replace(day=1),\n",
    "            end=pd.to_datetime(end).replace(day=1),\n",
    "            freq=\"MS\"\n",
    "        )\n",
    "        active_months.loc[period_range] = 1\n",
    "\n",
    "    df = pd.DataFrame({\n",
    "        \"month\": active_months.index.to_period('M'),\n",
    "        \"alignement_politique\": alignment,\n",
    "        \"government\": active_months.values\n",
    "    })\n",
    "    data.append(df)\n",
    "\n",
    "gov_dummies = pd.concat(data)\n",
    "gov_dummies.sort_values(by=[\"month\", \"alignement_politique\"], inplace=True)\n",
    "gov_dummies.reset_index(drop=True, inplace=True)"
   ]
  },
  {
   "cell_type": "code",
   "execution_count": null,
   "id": "7e6ba1c4-fabe-4c34-ad03-d9c5fc923432",
   "metadata": {},
   "outputs": [],
   "source": [
    "model_data = pd.merge(model_data, gov_dummies, on=['alignement_politique', 'month'], how='left')"
   ]
  },
  {
   "cell_type": "markdown",
   "id": "10185798-d336-4d28-8764-6fc0957c773a",
   "metadata": {},
   "source": [
    "## Step 5: regression"
   ]
  },
  {
   "cell_type": "code",
   "execution_count": null,
   "id": "ee1ad4b4-684b-41e2-933a-8b718f27ea58",
   "metadata": {},
   "outputs": [],
   "source": [
    "subset = model_data[\n",
    "    (model_data[\"alignement_politique\"] == \"centredroite_droite\") &\n",
    "    (model_data[\"journal\"] == \"Le Figaro\")]\n",
    "\n",
    "X = subset[[\"votes_share\", \"government\"]] \n",
    "y = subset[\"art_share\"]\n",
    "\n",
    "model = sm.OLS(y, X).fit(cov_type='HC3')\n",
    "y_pred = model.predict(X)\n",
    "mean_residual = (y_pred - y).mean()"
   ]
  },
  {
   "cell_type": "code",
   "execution_count": null,
   "id": "e199c20c-eaa9-410f-9453-0a32d172f8a6",
   "metadata": {},
   "outputs": [],
   "source": [
    "model.summary()"
   ]
  },
  {
   "cell_type": "code",
   "execution_count": null,
   "id": "61f64750-9dd5-47bd-9201-9ecb51c3e49e",
   "metadata": {},
   "outputs": [],
   "source": [
    "results = {}\n",
    "pvalues = {}\n",
    "\n",
    "for alignement in model_data[\"alignement_politique\"].unique():\n",
    "    results[alignement] = {}\n",
    "    pvalues[alignement] = {}\n",
    "    \n",
    "    for journal in model_data[\"journal\"].unique():\n",
    "        subset = model_data[\n",
    "            (model_data[\"alignement_politique\"] == alignement) &\n",
    "            (model_data[\"journal\"] == journal)]\n",
    "        \n",
    "        if len(subset) >= 3:\n",
    "            X = subset[[\"votes_share\", \"government\"]]\n",
    "            y = subset[\"art_share\"]\n",
    "            \n",
    "            model = sm.OLS(y, X).fit(cov_type='HC3')\n",
    "            y_pred = model.predict(X)\n",
    "            mean_relative_residual = ((y_pred - y) / y).mean()\n",
    "            \n",
    "            results[alignement][journal] = {\n",
    "                \"r_squared\": model.rsquared,\n",
    "                \"mean_residual\": mean_relative_residual}\n",
    "            \n",
    "            pvalues[alignement][journal] = model.pvalues.to_dict()\n",
    "            \n",
    "        else:\n",
    "            results[alignement][journal] = {\n",
    "                \"r_squared\": None,\n",
    "                \"mean_residual\": None}\n",
    "            pvalues[alignement][journal] = {\n",
    "                \"votes_share\": None,\n",
    "                \"government\": None}"
   ]
  },
  {
   "cell_type": "code",
   "execution_count": null,
   "id": "c34804fd-1bc4-4458-bd9a-cadf7e52abd4",
   "metadata": {},
   "outputs": [],
   "source": [
    "r2_table = pd.DataFrame({\n",
    "    alignement: {journal: results[alignement][journal]['r_squared'] for journal in results[alignement]}\n",
    "    for alignement in results}).T\n",
    "\n",
    "bias_table = pd.DataFrame({\n",
    "    alignement: {journal: results[alignement][journal]['mean_residual'] for journal in results[alignement]}\n",
    "    for alignement in results}).T\n",
    "\n",
    "pval_votes_share = pd.DataFrame({\n",
    "    alignement: {journal: pvalues[alignement][journal].get('votes_share') for journal in pvalues[alignement]}\n",
    "    for alignement in pvalues}).T\n",
    "\n",
    "pval_government = pd.DataFrame({\n",
    "    alignement: {journal: pvalues[alignement][journal].get('government') for journal in pvalues[alignement]}\n",
    "    for alignement in pvalues}).T"
   ]
  },
  {
   "cell_type": "markdown",
   "id": "405fa42b-c6bd-4c67-b1c5-869e0e31b919",
   "metadata": {},
   "source": [
    "Almost all coefficients for the share of votes at legislatives elections and presence in the governement are highly significant."
   ]
  },
  {
   "cell_type": "code",
   "execution_count": null,
   "id": "3e9ce597-794a-42f3-8018-9e6a83742f8a",
   "metadata": {},
   "outputs": [],
   "source": [
    "pval_votes_share.style"
   ]
  },
  {
   "cell_type": "code",
   "execution_count": null,
   "id": "397871a5-19e2-476e-ab6e-f2517e541e68",
   "metadata": {},
   "outputs": [],
   "source": [
    "pval_government.style"
   ]
  },
  {
   "cell_type": "markdown",
   "id": "d138b8f8-8b81-4cc0-9891-7a7e90dc8b46",
   "metadata": {},
   "source": [
    "All journals except Médiapart closely adhere to the representativity norm for non-extreme political alignments, with $R^2$ values exceeding 90%. Médiapart follows this norm to a lesser extent, with $R^2$ values ranging from 64% to 83.5%.\n",
    "\n",
    "For the far right, all journals reflect its vote share to a similar degree, with $R^2$ values between 65% and 77% — highest for Le Figaro, lowest for La Croix.\n",
    "\n",
    "The representativity norm appears slightly less consistent for the far left, with $R^2$ values ranging from 53% to 77%, again highest for Le Figaro and lowest for La Croix.\n",
    "\n",
    "Possible explanations: the number of articles with quotes is driven by...\n",
    "- The number of seats in the Assemblée Nationale, which tends to better reflect the scores of dominant political parties.\n",
    "- The anticipated scores at the presidential élection.\n",
    "\n",
    "Of note, the time periods covered vary across journals!\n",
    "\n",
    "*NB: not shown here is that the government control has negligible effect.*"
   ]
  },
  {
   "cell_type": "code",
   "execution_count": null,
   "id": "8f73d524-fdad-4e8c-bd16-425509185847",
   "metadata": {},
   "outputs": [],
   "source": [
    "#r2_table.style.format(\"{:.4f}\")\n",
    "\n",
    "plt.figure(figsize=(10, 6))\n",
    "sns.heatmap(100*r2_table, annot=True, fmt=\".1f\", cmap=\"RdBu_r\", center=0, cbar_kws={'label': 'R2 (%)'})\n",
    "plt.title(\"R2 by Journal and Political Alignment\")\n",
    "plt.ylabel(\"Political Alignment\")\n",
    "plt.xlabel(\"Journal\")\n",
    "plt.tight_layout()\n",
    "plt.show()"
   ]
  },
  {
   "cell_type": "markdown",
   "id": "985649c6-665b-4727-bc59-83a359bf273c",
   "metadata": {},
   "source": [
    "The table below presents the mean relative residuals ($MRR$), indicating the direction and magnitude of prediction error as a percentage of the true value:\n",
    "\n",
    "$$\\text{Mean Relative Residual} = \\frac{1}{n} \\sum_{i=1}^{n} \\frac{\\hat{y}_i - y_i}{y_i}$$\n",
    "\n",
    "A positive $MRR$ indicates that the model overpredicts the share of articles with quotes, i.e., it overestimates a journal's adherence to the representativity norm for the given political alignment ($\\hat{y}_i ≥ y_i$). This means the journal publishes fewer articles with quotes from that political alignment than expected based on the norm.\n",
    "\n",
    "To simplify interpretation, values in the table are inverted: a positive value now signals overrepresentation, and a negative value signals underrepresentation.\n",
    "- *Le Figaro* and *Le Monde* display similar patterns: they broadly align with the norm for the conventional right, slightly favor the conventional left, slightly penalize the extremes, and strongly favor the center.\n",
    "- *La Croix* stands out for imposing the strongest penalty on the far right—the most pronounced underrepresentation among all journals.\n",
    "- *Libération* notably penalizes both the center and the far right.\n",
    "- *Médiapart* underrepresents the conventional and far right, while favoring the far left.\n",
    "\n",
    "\n",
    "*NB: Government control has a notable moderating effect here—halving the MRR for the center, leaving the right mostly unchanged, and slightly increasing it for the left.*"
   ]
  },
  {
   "cell_type": "code",
   "execution_count": null,
   "id": "a806c69e-ae42-4a38-9379-466f53edeb19",
   "metadata": {},
   "outputs": [],
   "source": [
    "# (-100*bias_table).style.format(\"{:.1f}\")\n",
    "\n",
    "plt.figure(figsize=(10, 6))\n",
    "sns.heatmap(-100*bias_table, annot=True, fmt=\".1f\", cmap=\"RdBu_r\", center=0, cbar_kws={'label': 'MRR (%)'})\n",
    "plt.title(\"Mean Relative Residuals by Journal and Political Alignment\")\n",
    "plt.ylabel(\"Political Alignment\")\n",
    "plt.xlabel(\"Journal\")\n",
    "plt.tight_layout()\n",
    "plt.show()"
   ]
  }
 ],
 "metadata": {
  "kernelspec": {
   "display_name": "Python 3 (ipykernel)",
   "language": "python",
   "name": "python3"
  },
  "language_info": {
   "codemirror_mode": {
    "name": "ipython",
    "version": 3
   },
   "file_extension": ".py",
   "mimetype": "text/x-python",
   "name": "python",
   "nbconvert_exporter": "python",
   "pygments_lexer": "ipython3",
   "version": "3.12.9"
  }
 },
 "nbformat": 4,
 "nbformat_minor": 5
}
