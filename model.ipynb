{
 "cells": [
  {
   "cell_type": "code",
   "execution_count": null,
   "id": "b711356e-62e9-40d1-90aa-ebd27a189a49",
   "metadata": {},
   "outputs": [],
   "source": [
    "import matplotlib.pyplot as plt\n",
    "import pandas as pd\n",
    "import seaborn as sns\n",
    "import statsmodels.api as sm"
   ]
  },
  {
   "cell_type": "code",
   "execution_count": null,
   "id": "6795ed03-ddc4-4117-b0c5-afd9e0a97059",
   "metadata": {},
   "outputs": [],
   "source": [
    "model_data = pd.read_parquet(\"data/model_data.parquet\")"
   ]
  },
  {
   "cell_type": "markdown",
   "id": "63052426-1cf5-4c4c-a685-aa6c3de46ac9",
   "metadata": {},
   "source": [
    "# Proportion d'articles avec des citations\n",
    "Approche :\n",
    "1. On modélise le comportement attendu des journaux, sous l'hypothèse qu'ils respectent la norme de représentativité\n",
    "2. On isole le pouvoir explicatif de ce modèle pour mesurer le poids de cette norme\n",
    "3. On étudie les résidus pour comprendre comment le comportement des journaux s'en écarte\n",
    "\n",
    "On utilise pour cela les résidus relatifs moyens notés $RRM$, qui indiquent la direction et l’ampleur de l’erreur de prédiction en pourcentage de la valeur réelle.\n",
    "\n",
    "$$\\text{RRM} = \\frac{1}{n} \\sum_{i=1}^{n} \\frac{\\hat{y}_i - y_i}{y_i}$$\n",
    "\n",
    "Un $RMM$ positif indique que le modèle surestime la part d’articles contenant des citations, c’est-à-dire qu’il surestime le respect de la norme de représentativité par le journal pour l’alignement politique donné ($\\hat{y}_i ≥ y_i$). Cela signifie que le journal publie moins d’articles avec des citations de cet alignement politique que ce que la norme prévoirait. Pour simplifier la lecture, les valeurs sont inversées dans les tableaux : une valeur positive signale désormais une surreprésentation, et une valeur négative une sous-représentation.\n",
    "\n",
    "*NB1 : Les données sont mensuelles.*\n",
    "***NB2 : Les Verts ne sont pour l'instant pas représentés dans les données.***"
   ]
  },
  {
   "cell_type": "markdown",
   "id": "e3902ed0-50b4-4ff9-a298-f00d239f2521",
   "metadata": {},
   "source": [
    "## 1. Modèle de base\n",
    "Les modèles estimés sont de la forme $Y_{i} = \\beta_{i}T_i$ avec :\n",
    "- $Y_{i}$ est la proportion des articles intégrant des citations de la nuance politique $i$ (avec $\\sum_{i=1}^{n} Y_{i} = 1$)\n",
    "- $T_i$ est la proportion des voix obtenue par les candidats de la nuance politique $i$ au premier tour des précédentes élections législatives\n",
    "\n",
    "On estime donc...\n",
    "- $\\beta_{i}$ la pondération globale des résultats électoraux de la nuance politique $i$\n",
    "\n",
    "L'hypothèse implicite est $\\beta_{i} = 1 : les nuances politiques sont représentées identiquement à leur poids électoral une fois éliminée la couverture de l'action gouvernementale, avec un comportement identique des journaux."
   ]
  },
  {
   "cell_type": "code",
   "execution_count": null,
   "id": "acbf0134-8b7d-41d2-83c6-367a6c6bcbe8",
   "metadata": {},
   "outputs": [],
   "source": [
    "results = {}\n",
    "pvalues = {}\n",
    "\n",
    "for alignement in model_data[\"alignement_politique\"].unique():\n",
    "    subset = model_data[model_data[\"alignement_politique\"] == alignement]\n",
    "\n",
    "    if len(subset) >= 3:\n",
    "        X = subset[[\"votes_share\"]]\n",
    "        y = subset[\"art_share\"]\n",
    "\n",
    "        model = sm.OLS(y, X).fit(cov_type='HC3')\n",
    "        y_pred = model.predict(X)\n",
    "        mean_relative_residual = ((y_pred - y) / y).mean()\n",
    "\n",
    "        results[alignement] = {\n",
    "            \"r_squared\": model.rsquared,\n",
    "            \"mean_residual\": mean_relative_residual}\n",
    "        pvalues[alignement] = model.pvalues.to_dict()\n",
    "\n",
    "    else:\n",
    "        results[alignement] = {\n",
    "            \"r_squared\": None,\n",
    "            \"mean_residual\": None}\n",
    "        pvalues[alignement] = {\n",
    "            \"votes_share\": None,\n",
    "            \"government\": None}"
   ]
  },
  {
   "cell_type": "code",
   "execution_count": null,
   "id": "239fc772-79e9-4efe-b053-01b6a7767d7e",
   "metadata": {},
   "outputs": [],
   "source": [
    "pval_records = []\n",
    "\n",
    "for alignement, coeffs in pvalues.items():\n",
    "    for coef_name, pval in coeffs.items():\n",
    "        if pval is not None and pval > 0.001:\n",
    "            pval_records.append({\n",
    "                \"alignement\": alignement,\n",
    "                \"coefficient\": coef_name,\n",
    "                \"pvalue\": pval\n",
    "            })\n",
    "\n",
    "pval_summary = pd.DataFrame(pval_records)\n",
    "\n",
    "r2_table = pd.DataFrame.from_dict(\n",
    "    {alignement: results[alignement]['r_squared'] for alignement in results},\n",
    "    orient='index',\n",
    "    columns=['r_squared'])\n",
    "\n",
    "bias_table = pd.DataFrame.from_dict(\n",
    "    {alignement: results[alignement]['mean_residual'] for alignement in results},\n",
    "    orient='index',\n",
    "    columns=['mean_residual'])"
   ]
  },
  {
   "cell_type": "code",
   "execution_count": null,
   "id": "0ba3ca32-a9b1-4bd4-91a6-6d8c6d7f94d1",
   "metadata": {},
   "outputs": [],
   "source": [
    "if len(pval_summary) == 0:\n",
    "    print(\"No unsignificant coeffs (pval > 0.001)\")\n",
    "else:\n",
    "    print(f\"{len(pval_summary)} unsignificant coeffs (pval > 0.001)\\n\")\n",
    "    print(pval_summary)"
   ]
  },
  {
   "cell_type": "code",
   "execution_count": null,
   "id": "ca2b4e95-b205-405a-b4c0-39b795f10bee",
   "metadata": {},
   "outputs": [],
   "source": [
    "(100*r2_table).style.format(\"{:.4f}\")"
   ]
  },
  {
   "cell_type": "code",
   "execution_count": null,
   "id": "8027640c-d8ad-45f2-a5cb-f37198707db4",
   "metadata": {},
   "outputs": [],
   "source": [
    "(-100*bias_table).style.format(\"{:.4f}\")"
   ]
  },
  {
   "cell_type": "markdown",
   "id": "51e18b37-138c-41d7-94e6-a993a1523570",
   "metadata": {},
   "source": [
    "## 2. Modèle de base + gouvernement\n",
    "Les modèles estimés sont de la forme $Y_{i} = \\alpha G_i + \\beta_{i}T_i$ avec :\n",
    "- $Y_{i}$ est la proportion des articles intégrant des citations de la nuance politique $i$ (avec $\\sum_{i=1}^{n} Y_{i} = 1$)\n",
    "- $G_i$ est une indicatrice valant 1 si le Premier ministre appartient à la nuance politique $i$\n",
    "- $T_i$ est la proportion des voix obtenue par les candidats de la nuance politique $i$ au premier tour des précédentes élections législatives\n",
    "\n",
    "On estime donc...\n",
    "- $\\alpha$ la prime que les journaux accordent à la nuance politique au pouvoir, sous la forme d'une fraction fixe des articles avec des citations\n",
    "- $\\beta_{i}$ la pondération globale des résultats électoraux de la nuance politique $i$\n",
    "\n",
    "L'hypothèse implicite est $\\beta_{i} = 1 - \\alpha_j$ : les nuances politiques sont représentées identiquement à leur poids électoral une fois éliminée la couverture de l'action gouvernementale, avec un comportement identique des journaux."
   ]
  },
  {
   "cell_type": "code",
   "execution_count": null,
   "id": "bb13af95-4759-4ecc-aa0a-5b14bde6ac6b",
   "metadata": {},
   "outputs": [],
   "source": [
    "results = {}\n",
    "pvalues = {}\n",
    "\n",
    "for alignement in model_data[\"alignement_politique\"].unique():\n",
    "    subset = model_data[model_data[\"alignement_politique\"] == alignement]\n",
    "\n",
    "    if len(subset) >= 3:\n",
    "        X = subset[[\"votes_share\", \"government\"]]\n",
    "        y = subset[\"art_share\"]\n",
    "\n",
    "        model = sm.OLS(y, X).fit(cov_type='HC3')\n",
    "        y_pred = model.predict(X)\n",
    "        mean_relative_residual = ((y_pred - y) / y).mean()\n",
    "\n",
    "        results[alignement] = {\n",
    "            \"r_squared\": model.rsquared,\n",
    "            \"mean_residual\": mean_relative_residual}\n",
    "        pvalues[alignement] = model.pvalues.to_dict()\n",
    "\n",
    "    else:\n",
    "        results[alignement] = {\n",
    "            \"r_squared\": None,\n",
    "            \"mean_residual\": None}\n",
    "        pvalues[alignement] = {\n",
    "            \"votes_share\": None,\n",
    "            \"government\": None}"
   ]
  },
  {
   "cell_type": "code",
   "execution_count": null,
   "id": "7c67ca02-840c-4c55-8fbc-3fa763906ac5",
   "metadata": {},
   "outputs": [],
   "source": [
    "pval_records = []\n",
    "\n",
    "for alignement, coeffs in pvalues.items():\n",
    "    for coef_name, pval in coeffs.items():\n",
    "        if pval is not None and pval > 0.001:\n",
    "            pval_records.append({\n",
    "                \"alignement\": alignement,\n",
    "                \"coefficient\": coef_name,\n",
    "                \"pvalue\": pval\n",
    "            })\n",
    "\n",
    "pval_summary = pd.DataFrame(pval_records)\n",
    "\n",
    "r2_table = pd.DataFrame.from_dict(\n",
    "    {alignement: results[alignement]['r_squared'] for alignement in results},\n",
    "    orient='index',\n",
    "    columns=['r_squared'])\n",
    "\n",
    "bias_table = pd.DataFrame.from_dict(\n",
    "    {alignement: results[alignement]['mean_residual'] for alignement in results},\n",
    "    orient='index',\n",
    "    columns=['mean_residual'])"
   ]
  },
  {
   "cell_type": "code",
   "execution_count": null,
   "id": "6cab0395-f496-4ca9-9f67-9b9b8ccf72ce",
   "metadata": {},
   "outputs": [],
   "source": [
    "if len(pval_summary) == 0:\n",
    "    print(\"No unsignificant coeffs (pval > 0.001)\")\n",
    "else:\n",
    "    print(f\"{len(pval_summary)} unsignificant coeffs (pval > 0.001)\\n\")\n",
    "    print(pval_summary)"
   ]
  },
  {
   "cell_type": "code",
   "execution_count": null,
   "id": "b84cf3de-d04a-47f7-919d-6ab07f73eeed",
   "metadata": {},
   "outputs": [],
   "source": [
    "(100*r2_table).style.format(\"{:.4f}\")"
   ]
  },
  {
   "cell_type": "code",
   "execution_count": null,
   "id": "4b73f94d-a867-4957-ad0c-49e64af8ad58",
   "metadata": {},
   "outputs": [],
   "source": [
    "(-100*bias_table).style.format(\"{:.4f}\")"
   ]
  },
  {
   "attachments": {},
   "cell_type": "markdown",
   "id": "10185798-d336-4d28-8764-6fc0957c773a",
   "metadata": {},
   "source": [
    "## 3. Modèle de base + gouvernement + journaux\n",
    "Les modèles estimés sont de la forme $Y_{ij} = \\alpha_jG_i + \\beta_{ij}T_i$ avec :\n",
    "- $Y_{ij}$ est la proportion des articles intégrant des citations de la nuance politique $i$ dans le journal $j$ (avec $\\sum_{i=1}^{n} Y_{ij} = 1$)\n",
    "- $G_i$ est une indicatrice valant 1 si le Premier ministre appartient à la nuance politique $i$\n",
    "- $T_i$ est la proportion des voix obtenue par les candidats de la nuance politique $i$ au premier tour des précédentes élections législatives\n",
    "\n",
    "On estime donc...\n",
    "- $\\alpha_j$ la prime que le journal $j$ accorde à la nuance politique au pouvoir, sous la forme d'une fraction fixe des articles avec des citations\n",
    "- $\\beta_{ij}$ la pondération des résultats électoraux de la nuance politique $i$ par le journal $j$\n",
    "\n",
    "L'hypothèse implicite est $\\beta_{ij} = 1 - \\alpha_j$ : les nuances politiques sont représentées identiquement à leur poids électoral une fois éliminée la couverture de l'action gouvernementale."
   ]
  },
  {
   "cell_type": "code",
   "execution_count": null,
   "id": "61f64750-9dd5-47bd-9201-9ecb51c3e49e",
   "metadata": {},
   "outputs": [],
   "source": [
    "results = {}\n",
    "pvalues = {}\n",
    "\n",
    "for alignement in model_data[\"alignement_politique\"].unique():\n",
    "    results[alignement] = {}\n",
    "    pvalues[alignement] = {}\n",
    "    \n",
    "    for journal in model_data[\"journal\"].unique():\n",
    "        subset = model_data[\n",
    "            (model_data[\"alignement_politique\"] == alignement) &\n",
    "            (model_data[\"journal\"] == journal)]\n",
    "        \n",
    "        if len(subset) >= 3:\n",
    "            X = subset[[\"votes_share\", \"government\"]]\n",
    "            y = subset[\"art_share\"]\n",
    "            \n",
    "            model = sm.OLS(y, X).fit(cov_type='HC3')\n",
    "            y_pred = model.predict(X)\n",
    "            mean_relative_residual = ((y_pred - y) / y).mean()\n",
    "            \n",
    "            results[alignement][journal] = {\n",
    "                \"r_squared\": model.rsquared,\n",
    "                \"mean_residual\": mean_relative_residual}\n",
    "            \n",
    "            pvalues[alignement][journal] = model.pvalues.to_dict()\n",
    "            \n",
    "        else:\n",
    "            results[alignement][journal] = {\n",
    "                \"r_squared\": None,\n",
    "                \"mean_residual\": None}\n",
    "            pvalues[alignement][journal] = {\n",
    "                \"votes_share\": None,\n",
    "                \"government\": None}"
   ]
  },
  {
   "cell_type": "code",
   "execution_count": null,
   "id": "e867cabf-a14e-4cf8-b0c3-eb683c76fcdf",
   "metadata": {},
   "outputs": [],
   "source": [
    "pval_records = []\n",
    "\n",
    "for alignement, journals in pvalues.items():\n",
    "    for journal, coeffs in journals.items():\n",
    "        for coef_name, pval in coeffs.items():\n",
    "            if pval is not None and pval > 0.001:\n",
    "                pval_records.append({\n",
    "                    \"alignement\": alignement,\n",
    "                    \"journal\": journal,\n",
    "                    \"coefficient\": coef_name,\n",
    "                    \"pvalue\": pval\n",
    "                })\n",
    "\n",
    "pval_summary = pd.DataFrame(pval_records)\n",
    "\n",
    "r2_table = pd.DataFrame({\n",
    "    alignement: {journal: results[alignement][journal]['r_squared'] for journal in results[alignement]}\n",
    "    for alignement in results}).T\n",
    "\n",
    "bias_table = pd.DataFrame({\n",
    "    alignement: {journal: results[alignement][journal]['mean_residual'] for journal in results[alignement]}\n",
    "    for alignement in results}).T"
   ]
  },
  {
   "cell_type": "code",
   "execution_count": null,
   "id": "c34804fd-1bc4-4458-bd9a-cadf7e52abd4",
   "metadata": {},
   "outputs": [],
   "source": [
    "if len(pval_summary) == 0:\n",
    "    print(\"No unsignificant coeffs (pval > 0.001)\")\n",
    "else:\n",
    "    print(f\"{len(pval_summary)} unsignificant coeffs (pval > 0.001)\\n\")\n",
    "    print(pval_summary)"
   ]
  },
  {
   "cell_type": "markdown",
   "id": "405fa42b-c6bd-4c67-b1c5-869e0e31b919",
   "metadata": {},
   "source": [
    "Almost all coefficients for the share of votes at legislatives elections and presence in the governement are highly significant."
   ]
  },
  {
   "cell_type": "code",
   "execution_count": null,
   "id": "8f73d524-fdad-4e8c-bd16-425509185847",
   "metadata": {},
   "outputs": [],
   "source": [
    "#r2_table.style.format(\"{:.4f}\")\n",
    "\n",
    "plt.figure(figsize=(10, 6))\n",
    "sns.heatmap(100*r2_table, annot=True, fmt=\".1f\", cmap=\"RdBu_r\", center=0, cbar_kws={'label': 'R2 (%)'})\n",
    "plt.title(\"R2 by Journal and Political Alignment\")\n",
    "plt.ylabel(\"Political Alignment\")\n",
    "plt.xlabel(\"Journal\")\n",
    "plt.tight_layout()\n",
    "plt.show()"
   ]
  },
  {
   "cell_type": "markdown",
   "id": "d138b8f8-8b81-4cc0-9891-7a7e90dc8b46",
   "metadata": {},
   "source": [
    "All journals except Médiapart closely adhere to the representativity norm for non-extreme political alignments, with $R^2$ values exceeding 90%. Médiapart follows this norm to a lesser extent, with $R^2$ values ranging from 64% to 83.5%.\n",
    "\n",
    "For the far right, all journals reflect its vote share to a similar degree, with $R^2$ values between 65% and 77% — highest for Le Figaro, lowest for La Croix.\n",
    "\n",
    "The representativity norm appears slightly less consistent for the far left, with $R^2$ values ranging from 53% to 77%, again highest for Le Figaro and lowest for La Croix.\n",
    "\n",
    "Possible explanations: the number of articles with quotes is driven by...\n",
    "- The number of seats in the Assemblée Nationale, which tends to better reflect the scores of dominant political parties.\n",
    "- The anticipated scores at the presidential élection.\n",
    "\n",
    "Of note, the time periods covered vary across journals! And the Greens are currently not included in the dataset.\n",
    "\n",
    "*NB: not shown here is that the government control has negligible effect.*"
   ]
  },
  {
   "cell_type": "code",
   "execution_count": null,
   "id": "a806c69e-ae42-4a38-9379-466f53edeb19",
   "metadata": {},
   "outputs": [],
   "source": [
    "# (-100*bias_table).style.format(\"{:.1f}\")\n",
    "\n",
    "plt.figure(figsize=(10, 6))\n",
    "sns.heatmap(-100*bias_table, annot=True, fmt=\".1f\", cmap=\"RdBu_r\", center=0, cbar_kws={'label': 'MRR (%)'})\n",
    "plt.title(\"Mean Relative Residuals by Journal and Political Alignment\")\n",
    "plt.ylabel(\"Political Alignment\")\n",
    "plt.xlabel(\"Journal\")\n",
    "plt.tight_layout()\n",
    "plt.show()"
   ]
  },
  {
   "cell_type": "markdown",
   "id": "985649c6-665b-4727-bc59-83a359bf273c",
   "metadata": {},
   "source": [
    "- *Le Figaro* and *Le Monde* display similar patterns: they broadly align with the norm for the conventional right, slightly favor the conventional left, slightly penalize the extremes, and strongly favor the center.\n",
    "- *La Croix* stands out for imposing the strongest penalty on the far right—the most pronounced underrepresentation among all journals.\n",
    "- *Libération* notably penalizes both the center and the far right.\n",
    "- *Médiapart* underrepresents the conventional and far right, while favoring the far left.\n",
    "\n",
    "*NB: Government control has a notable moderating effect here—halving the MRR for the center, leaving the right mostly unchanged, and slightly increasing it for the left.*"
   ]
  },
  {
   "cell_type": "code",
   "execution_count": null,
   "id": "131e6fb2-7bc6-4d25-acb1-99825ab37963",
   "metadata": {},
   "outputs": [],
   "source": [
    "## 4. Modèle de base + gouvernement + journaux + périodes"
   ]
  }
 ],
 "metadata": {
  "kernelspec": {
   "display_name": "Python 3 (ipykernel)",
   "language": "python",
   "name": "python3"
  },
  "language_info": {
   "codemirror_mode": {
    "name": "ipython",
    "version": 3
   },
   "file_extension": ".py",
   "mimetype": "text/x-python",
   "name": "python",
   "nbconvert_exporter": "python",
   "pygments_lexer": "ipython3",
   "version": "3.12.9"
  }
 },
 "nbformat": 4,
 "nbformat_minor": 5
}
