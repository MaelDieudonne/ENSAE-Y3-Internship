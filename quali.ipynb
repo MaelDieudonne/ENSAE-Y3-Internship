{
 "cells": [
  {
   "cell_type": "code",
   "execution_count": null,
   "id": "00468f44-4551-47a1-91a1-707a5b09a6b6",
   "metadata": {},
   "outputs": [],
   "source": [
    "import h5py\n",
    "import pandas as pd"
   ]
  },
  {
   "cell_type": "code",
   "execution_count": null,
   "id": "981a45c2-9a1f-4ff0-9e53-92b4aa34d169",
   "metadata": {},
   "outputs": [],
   "source": [
    "quotes = pd.read_hdf(\"data/quotes.h5\")"
   ]
  },
  {
   "cell_type": "code",
   "execution_count": null,
   "id": "3eb8c3ef-1600-410a-8bba-83d8cd8fb481",
   "metadata": {},
   "outputs": [],
   "source": [
    "ed_quotes = quotes[quotes['alignement_politique'] == 'extremegauche_gaucheradicale'].copy()"
   ]
  },
  {
   "cell_type": "markdown",
   "id": "9e99c722-4054-4f7f-ab7f-69d16b6b57dc",
   "metadata": {},
   "source": [
    "# Cues\n",
    "Beaucoup de valeurs manquantes, et pas l'impression d'évolutions notables au cours du temps ?"
   ]
  },
  {
   "cell_type": "code",
   "execution_count": null,
   "id": "7e81bf8f-1cbd-4fdc-9366-442c088f8a26",
   "metadata": {
    "scrolled": true
   },
   "outputs": [],
   "source": [
    "ed_clean = ed_quotes[\n",
    "    ed_quotes['cue_lemma'].notna() & (ed_quotes['cue_lemma'] != 'nan')\n",
    "].copy()\n",
    "ed_clean['year'] = ed_clean['date'].dt.year\n",
    "\n",
    "lemma_counts = (\n",
    "    ed_clean\n",
    "    .groupby(['year', 'cue_lemma'])\n",
    "    .size()\n",
    "    .reset_index(name='count')\n",
    ")\n",
    "\n",
    "top_lemmas_per_year = (\n",
    "    lemma_counts\n",
    "    .sort_values(['year', 'count'], ascending=[True, False])\n",
    "    .groupby('year')\n",
    "    .head(5)\n",
    ").reset_index(drop=True)\n",
    "\n",
    "top_lemmas_per_year.style.hide(axis=\"index\")"
   ]
  },
  {
   "cell_type": "code",
   "execution_count": null,
   "id": "86c4fc2b-9854-47f1-9da8-d43ed8c4877c",
   "metadata": {},
   "outputs": [],
   "source": [
    "quotes_clean = quotes[\n",
    "    quotes['cue_lemma'].notna() & (quotes['cue_lemma'] != 'nan')\n",
    "].copy()\n",
    "quotes_clean['year'] = quotes_clean['date'].dt.year\n",
    "\n",
    "lemma_counts = (\n",
    "    quotes_clean\n",
    "    .groupby(['alignement_politique', 'cue_lemma'])\n",
    "    .size()\n",
    "    .reset_index(name='count')\n",
    ")\n",
    "\n",
    "lemma_counts['rank'] = lemma_counts.groupby('alignement_politique')['count'].rank(method='first', ascending=False)\n",
    "lemma_counts = lemma_counts[lemma_counts['rank'] <= 15]\n",
    "pivot_table = lemma_counts.pivot(index='alignement_politique', columns='rank', values='cue_lemma')\n",
    "pivot_table.columns = [f\"Rank {int(col)}\" for col in pivot_table.columns]\n",
    "pivot_table.style"
   ]
  }
 ],
 "metadata": {
  "kernelspec": {
   "display_name": "Python 3 (ipykernel)",
   "language": "python",
   "name": "python3"
  },
  "language_info": {
   "codemirror_mode": {
    "name": "ipython",
    "version": 3
   },
   "file_extension": ".py",
   "mimetype": "text/x-python",
   "name": "python",
   "nbconvert_exporter": "python",
   "pygments_lexer": "ipython3",
   "version": "3.12.9"
  }
 },
 "nbformat": 4,
 "nbformat_minor": 5
}
