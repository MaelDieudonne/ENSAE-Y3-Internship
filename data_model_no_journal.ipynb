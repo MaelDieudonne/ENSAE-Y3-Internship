{
 "cells": [
  {
   "cell_type": "code",
   "execution_count": 1,
   "id": "b711356e-62e9-40d1-90aa-ebd27a189a49",
   "metadata": {},
   "outputs": [],
   "source": [
    "import h5py\n",
    "import pandas as pd\n",
    "\n",
    "from functools import reduce"
   ]
  },
  {
   "cell_type": "code",
   "execution_count": 2,
   "id": "ba686740-0b42-43ce-be74-10134937d081",
   "metadata": {},
   "outputs": [],
   "source": [
    "quotes = pd.read_hdf(\"data/quotes/quotes_pol_allpol1.h5\")\n",
    "quotes.rename(columns={'alignement_politique': 'political_alignment'}, inplace=True)\n",
    "\n",
    "elec_leg = pd.read_parquet(\"data/elec/leg_shares.parquet\")\n",
    "elec_pres = pd.read_parquet(\"data/elec/pres_shares.parquet\")\n",
    "na_seats = pd.read_csv(\"data/sieges_AN.csv\")"
   ]
  },
  {
   "cell_type": "markdown",
   "id": "4f663c8b-7d93-4075-8a15-9840754d714d",
   "metadata": {},
   "source": [
    "## 1. Outcomes"
   ]
  },
  {
   "cell_type": "code",
   "execution_count": 3,
   "id": "b8b0513c-e2ad-4ad5-b669-0a5f35a92c2e",
   "metadata": {},
   "outputs": [],
   "source": [
    "# Filter quotes to only include political alignments from elec_leg dataframe\n",
    "valid_alignments = elec_leg['political_alignment'].unique()\n",
    "filtered_quotes = quotes[quotes['political_alignment'].isin(valid_alignments)].copy()\n",
    "\n",
    "# Convert date to datetime if it isn't already\n",
    "if not pd.api.types.is_datetime64_any_dtype(filtered_quotes['date']):\n",
    "    filtered_quotes['date'] = pd.to_datetime(filtered_quotes['date'])\n",
    "\n",
    "# Extract month from date\n",
    "filtered_quotes['month'] = filtered_quotes['date'].dt.to_period('M')"
   ]
  },
  {
   "cell_type": "code",
   "execution_count": 4,
   "id": "1e05e889-9c2a-4584-93b7-2466bc3cf88c",
   "metadata": {},
   "outputs": [],
   "source": [
    "# Number and share of quotes\n",
    "quotes_counts = filtered_quotes.groupby(['month', 'political_alignment']).size().reset_index()\n",
    "quotes_total_counts = filtered_quotes.groupby(['month']).size().reset_index(name='quotes_nb')\n",
    "quotes_data = pd.merge(quotes_counts, quotes_total_counts, on=['month'])\n",
    "quotes_data['quotes_share'] = quotes_data[0] / quotes_data['quotes_nb']\n",
    "quotes_data.drop(columns=0, inplace=True)"
   ]
  },
  {
   "cell_type": "code",
   "execution_count": 5,
   "id": "fdd61325-0d18-461b-917c-3b537de390d5",
   "metadata": {
    "scrolled": true
   },
   "outputs": [],
   "source": [
    "# Number and share of articles with quotes\n",
    "art_counts = filtered_quotes.groupby(['month', 'political_alignment'])['text_id'].nunique().reset_index()\n",
    "art_total_counts = filtered_quotes.groupby(['month'])['text_id'].nunique().reset_index(name='art_nb')\n",
    "art_data = pd.merge(art_counts, art_total_counts, on=['month'])\n",
    "art_data['art_share'] = art_data['text_id'] / art_data['art_nb']\n",
    "art_data.drop(columns='text_id', inplace=True)"
   ]
  },
  {
   "cell_type": "code",
   "execution_count": 6,
   "id": "5c7fd5c1-260e-4af2-8d69-9d8d4dc3520a",
   "metadata": {},
   "outputs": [],
   "source": [
    "# Quote length\n",
    "filtered_quotes['quote_length'] = filtered_quotes['quote_text'].apply(lambda x: len(x.strip('« » ')))\n",
    "length_data = filtered_quotes.groupby(['month', 'political_alignment'])['quote_length'].mean().reset_index(name='mean_quote_length')"
   ]
  },
  {
   "cell_type": "code",
   "execution_count": 7,
   "id": "9e52c024-a893-4dcf-94d8-f25335f38278",
   "metadata": {},
   "outputs": [],
   "source": [
    "# Quote style\n",
    "type_counts = filtered_quotes.groupby(['month', 'political_alignment', 'quote_type']).size().reset_index()\n",
    "type_total_counts = filtered_quotes.groupby(['month', 'political_alignment']).size().reset_index(name='quotes_type_nb')\n",
    "type_data = pd.merge(type_counts, type_total_counts, on=['month', 'political_alignment'])\n",
    "type_data['type_quotes_share'] = type_data[0] / type_data['quotes_type_nb']\n",
    "\n",
    "direct_data = (\n",
    "    type_data[type_data['quote_type'] == 'Direct']\n",
    "    .rename(columns={'type_quotes_share': 'type_direct_share'})\n",
    "    .drop(columns=['quote_type', 'quotes_type_nb', 0]))\n",
    "\n",
    "undirect_data = (\n",
    "    type_data[type_data['quote_type'] == 'Indirect']\n",
    "    .rename(columns={'type_quotes_share': 'type_undirect_share'})\n",
    "    .drop(columns=['quote_type', 'quotes_type_nb', 0]))\n",
    "\n",
    "mixed_data = (\n",
    "    type_data[type_data['quote_type'] == 'Mixed']\n",
    "    .rename(columns={'type_quotes_share': 'type_mixed_share'})\n",
    "    .drop(columns=['quote_type', 'quotes_type_nb', 0]))"
   ]
  },
  {
   "cell_type": "code",
   "execution_count": 8,
   "id": "59ae1486-e93a-4b6d-8db3-63cb8e347d39",
   "metadata": {},
   "outputs": [],
   "source": [
    "# Personalities\n",
    "person_data = filtered_quotes.groupby(['month', 'political_alignment'])['person_name_standardized'].nunique().reset_index(name='personalities_nb')"
   ]
  },
  {
   "cell_type": "code",
   "execution_count": 9,
   "id": "1b8c855f-9ecf-4ad4-b5f1-93dd128fe1d9",
   "metadata": {},
   "outputs": [],
   "source": [
    "# Final dataframe\n",
    "dfs = [quotes_data, art_data, length_data, direct_data, undirect_data, mixed_data, person_data]\n",
    "model_data = reduce(lambda left, right: pd.merge(left, right, on=['month', 'political_alignment']), dfs)"
   ]
  },
  {
   "cell_type": "markdown",
   "id": "64264a98-c713-4f7c-9247-71dd0bb080bd",
   "metadata": {},
   "source": [
    "## 2. Identification des cycles électoraux et fusion avec les résultats pour les législatives"
   ]
  },
  {
   "cell_type": "code",
   "execution_count": 10,
   "id": "21a43d9b-9435-480d-824a-d996c5fffcc5",
   "metadata": {},
   "outputs": [],
   "source": [
    "legi_dates = [\n",
    "    \"21/06/1981\",\n",
    "    \"16/03/1986\",\n",
    "    \"11/06/1988\",\n",
    "    \"28/03/1993\",\n",
    "    \"01/06/1997\",\n",
    "    \"16/06/2002\",\n",
    "    \"17/06/2007\",\n",
    "    \"17/06/2012\",\n",
    "    \"18/06/2017\",\n",
    "    \"19/06/2022\",\n",
    "    \"06/07/2024\"]"
   ]
  },
  {
   "cell_type": "code",
   "execution_count": 11,
   "id": "0e859624-2cad-4d68-bfc1-9e7b095cae95",
   "metadata": {},
   "outputs": [],
   "source": [
    "# Remove entries older than the earliest election in the dataset\n",
    "legi_dates = pd.to_datetime(legi_dates, format=\"%d/%m/%Y\").to_period('M').sort_values()\n",
    "model_data = model_data[model_data['month'] >= min(legi_dates)].copy().reset_index()"
   ]
  },
  {
   "cell_type": "code",
   "execution_count": 12,
   "id": "e4596397-4ae6-41a1-af32-4bc19df17b73",
   "metadata": {},
   "outputs": [],
   "source": [
    "# Find the year of the latest election\n",
    "def find_last_legi_year(current_month):\n",
    "    relevant_elections = legi_dates[legi_dates <= current_month]\n",
    "\n",
    "    if not relevant_elections.empty:\n",
    "        return relevant_elections.max().year\n",
    "    else:\n",
    "        return pd.NA\n",
    "\n",
    "model_data['last_election'] = model_data['month'].apply(find_last_legi_year)\n",
    "model_data['last_election'] = pd.to_datetime(model_data['last_election'], format=\"%Y\")"
   ]
  },
  {
   "cell_type": "code",
   "execution_count": 13,
   "id": "517928d0-7c2a-47bf-beae-d257278a007b",
   "metadata": {
    "scrolled": true
   },
   "outputs": [],
   "source": [
    "elec_leg = elec_leg.groupby('political_alignment', as_index=False).sum()\n",
    "elec_leg.drop(columns='candidat', inplace=True)\n",
    "elec_leg = elec_leg.melt(id_vars=['political_alignment'], var_name='last_election', value_name='leg_votes_share')\n",
    "elec_leg['last_election'] = pd.to_datetime(elec_leg['last_election'], format=\"%Y\")"
   ]
  },
  {
   "cell_type": "code",
   "execution_count": 14,
   "id": "02bbaeba-3ade-47ad-b4cc-3d25469810da",
   "metadata": {
    "scrolled": true
   },
   "outputs": [],
   "source": [
    "na_seats = na_seats.groupby('nuance', as_index=False).sum()\n",
    "na_seats.drop(columns='parti', inplace=True)\n",
    "na_shares = na_seats.copy()\n",
    "year_columns = na_shares.columns.drop('nuance')\n",
    "na_shares[year_columns] = na_shares[year_columns].div(na_shares[year_columns].sum(axis=0), axis=1)\n",
    "na_shares = na_shares.melt(id_vars=['nuance'], var_name='last_election', value_name='na_share')\n",
    "na_shares.rename(columns={'nuance': 'political_alignment'}, inplace=True)\n",
    "na_shares['last_election'] = pd.to_datetime(na_shares['last_election'], format=\"%Y\")"
   ]
  },
  {
   "cell_type": "code",
   "execution_count": 15,
   "id": "98ad6b79-4b7c-4713-9262-df64e1716ad7",
   "metadata": {
    "scrolled": true
   },
   "outputs": [],
   "source": [
    "model_data = pd.merge(model_data, elec_leg, on=['political_alignment', 'last_election'], how='left')\n",
    "model_data = pd.merge(model_data, na_shares, on=['political_alignment', 'last_election'], how='left')\n",
    "model_data.drop(columns=['last_election', 'index'], inplace=True)"
   ]
  },
  {
   "cell_type": "markdown",
   "id": "477a47e4-fe7e-4164-85b3-f3fd59c575e1",
   "metadata": {},
   "source": [
    "## 3. Identification des cycles électoraux et fusion avec les résultats pour les présidentielles"
   ]
  },
  {
   "cell_type": "code",
   "execution_count": 16,
   "id": "837e5ed5-1351-4702-b5bb-c31e8df637e3",
   "metadata": {},
   "outputs": [],
   "source": [
    "presi_dates = [\n",
    "    \"26/04/1981\",\n",
    "    \"24/04/1988\",\n",
    "    \"23/04/1995\",\n",
    "    \"21/04/2002\",\n",
    "    \"22/04/2007\",\n",
    "    \"22/04/2012\",\n",
    "    \"21/04/2017\",\n",
    "    \"10/04/2022\"]"
   ]
  },
  {
   "cell_type": "code",
   "execution_count": 17,
   "id": "38b54591-f06e-4e4e-954b-1e61fd4f894e",
   "metadata": {},
   "outputs": [],
   "source": [
    "presi_dates = pd.to_datetime(presi_dates, dayfirst=True).to_period('M').sort_values()\n",
    "\n",
    "target_months = set()\n",
    "for p in presi_dates:\n",
    "    for i in range(4):\n",
    "        target_months.add(p - i)\n",
    "\n",
    "model_data['pres_dummy'] = model_data['month'].isin(target_months).astype(int)"
   ]
  },
  {
   "cell_type": "code",
   "execution_count": 18,
   "id": "50db2f7d-dc7f-47f3-a9d3-4e1fa5607afd",
   "metadata": {},
   "outputs": [],
   "source": [
    "def find_last_presi_year(current_month):\n",
    "    relevant_elections = presi_dates[presi_dates <= current_month]\n",
    "\n",
    "    if not relevant_elections.empty:\n",
    "        return relevant_elections.max().year\n",
    "    else:\n",
    "        return pd.NA\n",
    "\n",
    "model_data['last_election'] = model_data['month'].apply(find_last_presi_year)\n",
    "model_data['last_election'] = pd.to_datetime(model_data['last_election'], format=\"%Y\")"
   ]
  },
  {
   "cell_type": "code",
   "execution_count": 19,
   "id": "4ebac218-038b-4dbd-a87b-8f835d1cc463",
   "metadata": {
    "scrolled": true
   },
   "outputs": [],
   "source": [
    "elec_pres = elec_pres[elec_pres['tour'] == 1]\n",
    "elec_pres.drop(columns=['candidat', 'tour'], inplace=True)\n",
    "elec_pres = elec_pres.groupby('political_alignment', as_index=False).sum()\n",
    "elec_pres = elec_pres.melt(id_vars=['political_alignment'], var_name='last_election', value_name='pres_votes_share')\n",
    "elec_pres['last_election'] = pd.to_datetime(elec_pres['last_election'], format=\"%Y\")"
   ]
  },
  {
   "cell_type": "code",
   "execution_count": 20,
   "id": "d5e7d438-3ad3-400e-a75b-c548403afdcc",
   "metadata": {},
   "outputs": [],
   "source": [
    "model_data = pd.merge(model_data, elec_pres, on=['political_alignment', 'last_election'], how='left')\n",
    "# model_data.drop(columns='last_election', inplace=True)"
   ]
  },
  {
   "cell_type": "markdown",
   "id": "b0ad1462-802f-47ce-a427-d3c179ff82fd",
   "metadata": {},
   "source": [
    "## 4. Indicatrice de représentation au gouvernement\n",
    "Comment traiter les cohabitations ? En l'état le bonus est seulement accordé à la nuance au gouvernement.\n",
    "\n",
    "- **centre**\n",
    "  - 19/06/2017 - 05/09/2024\n",
    "- **centredroite_droite**\n",
    "  - 20/03/1986 - 10/05/1988\n",
    "  - 29/03/1993 - 02/06/1997\n",
    "  - 06/05/2002 - 10/05/2012\n",
    "  - 05/09/2024 - 31/12/2024\n",
    "- **centregauche_gauche**\n",
    "  - 22/06/1981 - 20/03/1986\n",
    "  - 10/05/1988 - 29/03/1993\n",
    "  - 02/06/1997 - 06/05/2002\n",
    "  - 15/05/2012 - 19/06/2017"
   ]
  },
  {
   "cell_type": "code",
   "execution_count": 21,
   "id": "b5fbbc2d-6aec-44a9-869e-3263fb11283a",
   "metadata": {},
   "outputs": [],
   "source": [
    "gov_periods = {\n",
    "    \"centre\": [\n",
    "        (\"2017-06-19\", \"2024-09-05\"),\n",
    "    ],\n",
    "    \"centredroite_droite\": [\n",
    "        (\"1986-03-20\", \"1988-05-10\"),\n",
    "        (\"1993-03-29\", \"1997-06-02\"),\n",
    "        (\"2002-05-06\", \"2012-05-10\"),\n",
    "        (\"2024-09-05\", \"2024-12-31\"),\n",
    "    ],\n",
    "    \"centregauche_gauche\": [\n",
    "        (\"1981-06-22\", \"1986-03-20\"),\n",
    "        (\"1988-05-10\", \"1993-03-29\"),\n",
    "        (\"1997-06-02\", \"2002-05-06\"),\n",
    "        (\"2012-05-15\", \"2017-06-19\"),\n",
    "    ],\n",
    "    \"extremedroite_droiteradicale\": [],\n",
    "    \"extremegauche_gaucheradicale\": [],\n",
    "    \"autre\": [],\n",
    "}"
   ]
  },
  {
   "cell_type": "code",
   "execution_count": 22,
   "id": "0b709512-c48f-499d-acce-83d174adc332",
   "metadata": {},
   "outputs": [],
   "source": [
    "all_start_dates = [pd.to_datetime(start) for periods in gov_periods.values() for start, _ in periods]\n",
    "all_end_dates = [pd.to_datetime(end) for periods in gov_periods.values() for _, end in periods]\n",
    "min_date = min(all_start_dates).replace(day=1)\n",
    "max_date = max(all_end_dates).replace(day=1)\n",
    "all_months = pd.date_range(start=min_date, end=max_date, freq=\"MS\")\n",
    "\n",
    "data = []\n",
    "\n",
    "for alignment, periods in gov_periods.items():\n",
    "    active_months = pd.Series(0, index=all_months)\n",
    "    for start, end in periods:\n",
    "        period_range = pd.date_range(\n",
    "            start=pd.to_datetime(start).replace(day=1),\n",
    "            end=pd.to_datetime(end).replace(day=1),\n",
    "            freq=\"MS\"\n",
    "        )\n",
    "        active_months.loc[period_range] = 1\n",
    "\n",
    "    df = pd.DataFrame({\n",
    "        \"month\": active_months.index.to_period('M'),\n",
    "        \"political_alignment\": alignment,\n",
    "        \"government\": active_months.values\n",
    "    })\n",
    "    data.append(df)\n",
    "\n",
    "gov_dummies = pd.concat(data)\n",
    "gov_dummies.sort_values(by=[\"month\", \"political_alignment\"], inplace=True)\n",
    "gov_dummies.reset_index(drop=True, inplace=True)"
   ]
  },
  {
   "cell_type": "code",
   "execution_count": 23,
   "id": "7e6ba1c4-fabe-4c34-ad03-d9c5fc923432",
   "metadata": {},
   "outputs": [],
   "source": [
    "model_data = pd.merge(model_data, gov_dummies, on=['political_alignment', 'month'], how='left')\n",
    "\n",
    "model_data['political_alignment'] = model_data['political_alignment'].replace({\n",
    "    'centredroite_droite': 'Right',\n",
    "    'centregauche_gauche': 'Left',\n",
    "    'extremegauche_gaucheradicale': 'Far left',\n",
    "    'centre': 'Center',\n",
    "    'extremedroite_droiteradicale': 'Far right'})\n",
    "\n",
    "model_data.to_parquet(f\"data/model_data_no_journal.parquet\", index=False)"
   ]
  }
 ],
 "metadata": {
  "kernelspec": {
   "display_name": "Python 3 (ipykernel)",
   "language": "python",
   "name": "python3"
  },
  "language_info": {
   "codemirror_mode": {
    "name": "ipython",
    "version": 3
   },
   "file_extension": ".py",
   "mimetype": "text/x-python",
   "name": "python",
   "nbconvert_exporter": "python",
   "pygments_lexer": "ipython3",
   "version": "3.12.9"
  }
 },
 "nbformat": 4,
 "nbformat_minor": 5
}
